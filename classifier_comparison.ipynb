{
 "cells": [
  {
   "cell_type": "markdown",
   "metadata": {},
   "source": [
    "# Comparison of Classifiers"
   ]
  },
  {
   "cell_type": "markdown",
   "metadata": {},
   "source": [
    "### Libraries\n",
    "\n",
    "The following libraries will be used in the notebook:\n",
    "* caret - for training and testing various types of models\n",
    "* ggplot - used for plotting data / results\n",
    "* glmnet - required for building penalized (or unplenalized) regression and classification models\n",
    "* e1071 - required library for building support vector machines\n",
    "* MASS - required library for Linear Discriminant Analysis\n",
    "* h2o - Java based library for deep learning (h2o included a lot of other useful functionality that we will not using in this notebook).\n",
    "* MICE - used for missing variable imputation\n",
    "* MissForest - used for missing variable imputation\n"
   ]
  },
  {
   "cell_type": "code",
   "execution_count": 2,
   "metadata": {
    "collapsed": false
   },
   "outputs": [
    {
     "name": "stderr",
     "output_type": "stream",
     "text": [
      "Loading required package: lattice\n",
      "Loading required package: ggplot2\n",
      "Loading required package: Matrix\n",
      "Loading required package: foreach\n",
      "Loaded glmnet 2.0-13\n",
      "\n",
      "\n",
      "Attaching package: ‘kernlab’\n",
      "\n",
      "The following object is masked from ‘package:ggplot2’:\n",
      "\n",
      "    alpha\n",
      "\n",
      "Loading required package: randomForest\n",
      "randomForest 4.6-12\n",
      "Type rfNews() to see new features/changes/bug fixes.\n",
      "\n",
      "Attaching package: ‘randomForest’\n",
      "\n",
      "The following object is masked from ‘package:ggplot2’:\n",
      "\n",
      "    margin\n",
      "\n",
      "Loading required package: itertools\n",
      "Loading required package: iterators\n",
      "\n",
      "----------------------------------------------------------------------\n",
      "\n",
      "Your next step is to start H2O:\n",
      "    > h2o.init()\n",
      "\n",
      "For H2O package documentation, ask for help:\n",
      "    > ??h2o\n",
      "\n",
      "After starting H2O, you can use the Web UI at http://localhost:54321\n",
      "For more information visit http://docs.h2o.ai\n",
      "\n",
      "----------------------------------------------------------------------\n",
      "\n",
      "\n",
      "Attaching package: ‘h2o’\n",
      "\n",
      "The following objects are masked from ‘package:stats’:\n",
      "\n",
      "    cor, sd, var\n",
      "\n",
      "The following objects are masked from ‘package:base’:\n",
      "\n",
      "    ||, &&, %*%, apply, as.factor, as.numeric, colnames, colnames<-,\n",
      "    ifelse, %in%, is.character, is.factor, is.numeric, log, log10,\n",
      "    log1p, log2, round, signif, trunc\n",
      "\n"
     ]
    }
   ],
   "source": [
    "#install.packages(\"caret\")\n",
    "#install.packages(\"ggplot2\")\n",
    "#install.packages(\"glmnet\")\n",
    "#install.packages(\"e1071\")\n",
    "#install.packages(\"h2o\")\n",
    "#install.packages(\"kernlab\")\n",
    "#install.packages(\"missForest\")\n",
    "#install.packages(\"mice\")\n",
    "library(caret)\n",
    "library(ggplot2)\n",
    "library(glmnet)\n",
    "library(e1071)\n",
    "library(MASS)\n",
    "library(kernlab)\n",
    "library(missForest)\n",
    "library(mice)\n",
    "library(h2o)"
   ]
  },
  {
   "cell_type": "markdown",
   "metadata": {},
   "source": [
    "### Introduction\n",
    "In this notebook we will ultimately be developing a predictive classifier for the diagnosis of prostate cancer. Prior to building the classifier we will explore the data and prepare it for modelling, imputing any missing values as needed. All we have been told about the data is that has been generated in some way."
   ]
  },
  {
   "cell_type": "markdown",
   "metadata": {},
   "source": [
    "### Data Exploration\n",
    "We will begin by loading the data into the notebook and looking at the number of features present using the str function."
   ]
  },
  {
   "cell_type": "code",
   "execution_count": 3,
   "metadata": {
    "collapsed": false
   },
   "outputs": [
    {
     "name": "stdout",
     "output_type": "stream",
     "text": [
      "'data.frame':\t3000 obs. of  12 variables:\n",
      " $ ID    : int  1 2 3 4 5 6 7 8 9 10 ...\n",
      " $ ATT1  : Factor w/ 11 levels \"?\",\"1\",\"10\",\"2\",..: 2 1 3 5 5 4 2 10 4 2 ...\n",
      " $ ATT2  : int  4 8 7 4 5 7 1 5 9 1 ...\n",
      " $ ATT3  : Factor w/ 11 levels \"?\",\"1\",\"10\",\"2\",..: 2 11 1 5 4 5 5 4 4 2 ...\n",
      " $ ATT4  : Factor w/ 11 levels \"?\",\"1\",\"10\",\"2\",..: 6 2 9 1 2 4 7 8 2 10 ...\n",
      " $ ATT5  : Factor w/ 11 levels \"?\",\"1\",\"10\",\"2\",..: 5 2 1 4 8 2 11 4 6 11 ...\n",
      " $ ATT6  : int  7 1 5 8 5 4 3 7 6 2 ...\n",
      " $ ATT7  : int  1 1 2 4 3 10 7 3 8 2 ...\n",
      " $ ATT8  : int  2 5 7 6 1 3 1 6 8 5 ...\n",
      " $ ATT9  : int  6 6 1 7 7 9 10 7 4 1 ...\n",
      " $ ATT10 : int  8 1 1 2 1 5 7 3 3 3 ...\n",
      " $ Result: int  0 1 2 1 0 1 1 1 1 0 ...\n"
     ]
    }
   ],
   "source": [
    "# load data from url or local drive\n",
    "data <- read.csv(url(\"https://drive.google.com/uc?export=download&id=0B9lPq9swUtlwUW9YWHU3aHR2bWc\"))\n",
    "\n",
    "str(data)"
   ]
  },
  {
   "cell_type": "markdown",
   "metadata": {},
   "source": [
    "We can see there are 12 variables in the data. When loading data from a csv file R will attempt to convert the data (all originally stored as strings) to a suitable data type. Seven of the twelve variables in the data have been converted to integers while four have been converted to factors meaning there are more than just integers or numbers present in these columns. We can see already that there is a factor level of \"?\" in these columns. We know from the assignment description that all of the preidctive features should be integers between 1 and 10 so we can assume \"?\" and any other non-numerical values represent missing or incorrect data. \n",
    "\n",
    "Let's take a look at the head of the data frame."
   ]
  },
  {
   "cell_type": "code",
   "execution_count": 4,
   "metadata": {
    "collapsed": false
   },
   "outputs": [
    {
     "data": {
      "text/html": [
       "<table>\n",
       "<thead><tr><th scope=col>ID</th><th scope=col>ATT1</th><th scope=col>ATT2</th><th scope=col>ATT3</th><th scope=col>ATT4</th><th scope=col>ATT5</th><th scope=col>ATT6</th><th scope=col>ATT7</th><th scope=col>ATT8</th><th scope=col>ATT9</th><th scope=col>ATT10</th><th scope=col>Result</th></tr></thead>\n",
       "<tbody>\n",
       "\t<tr><td>1 </td><td>1 </td><td>4 </td><td>1 </td><td>4 </td><td>3 </td><td>7 </td><td> 1</td><td>2 </td><td>6 </td><td>8 </td><td>0 </td></tr>\n",
       "\t<tr><td>2 </td><td>? </td><td>8 </td><td>9 </td><td>1 </td><td>1 </td><td>1 </td><td> 1</td><td>5 </td><td>6 </td><td>1 </td><td>1 </td></tr>\n",
       "\t<tr><td>3 </td><td>10</td><td>7 </td><td>? </td><td>7 </td><td>? </td><td>5 </td><td> 2</td><td>7 </td><td>1 </td><td>1 </td><td>2 </td></tr>\n",
       "\t<tr><td>4 </td><td>3 </td><td>4 </td><td>3 </td><td>? </td><td>2 </td><td>8 </td><td> 4</td><td>6 </td><td>7 </td><td>2 </td><td>1 </td></tr>\n",
       "\t<tr><td>5 </td><td>3 </td><td>5 </td><td>2 </td><td>1 </td><td>6 </td><td>5 </td><td> 3</td><td>1 </td><td>7 </td><td>1 </td><td>0 </td></tr>\n",
       "\t<tr><td>6 </td><td>2 </td><td>7 </td><td>3 </td><td>2 </td><td>1 </td><td>4 </td><td>10</td><td>3 </td><td>9 </td><td>5 </td><td>1 </td></tr>\n",
       "</tbody>\n",
       "</table>\n"
      ],
      "text/latex": [
       "\\begin{tabular}{r|llllllllllll}\n",
       " ID & ATT1 & ATT2 & ATT3 & ATT4 & ATT5 & ATT6 & ATT7 & ATT8 & ATT9 & ATT10 & Result\\\\\n",
       "\\hline\n",
       "\t 1  & 1  & 4  & 1  & 4  & 3  & 7  &  1 & 2  & 6  & 8  & 0 \\\\\n",
       "\t 2  & ?  & 8  & 9  & 1  & 1  & 1  &  1 & 5  & 6  & 1  & 1 \\\\\n",
       "\t 3  & 10 & 7  & ?  & 7  & ?  & 5  &  2 & 7  & 1  & 1  & 2 \\\\\n",
       "\t 4  & 3  & 4  & 3  & ?  & 2  & 8  &  4 & 6  & 7  & 2  & 1 \\\\\n",
       "\t 5  & 3  & 5  & 2  & 1  & 6  & 5  &  3 & 1  & 7  & 1  & 0 \\\\\n",
       "\t 6  & 2  & 7  & 3  & 2  & 1  & 4  & 10 & 3  & 9  & 5  & 1 \\\\\n",
       "\\end{tabular}\n"
      ],
      "text/markdown": [
       "\n",
       "ID | ATT1 | ATT2 | ATT3 | ATT4 | ATT5 | ATT6 | ATT7 | ATT8 | ATT9 | ATT10 | Result | \n",
       "|---|---|---|---|---|---|\n",
       "| 1  | 1  | 4  | 1  | 4  | 3  | 7  |  1 | 2  | 6  | 8  | 0  | \n",
       "| 2  | ?  | 8  | 9  | 1  | 1  | 1  |  1 | 5  | 6  | 1  | 1  | \n",
       "| 3  | 10 | 7  | ?  | 7  | ?  | 5  |  2 | 7  | 1  | 1  | 2  | \n",
       "| 4  | 3  | 4  | 3  | ?  | 2  | 8  |  4 | 6  | 7  | 2  | 1  | \n",
       "| 5  | 3  | 5  | 2  | 1  | 6  | 5  |  3 | 1  | 7  | 1  | 0  | \n",
       "| 6  | 2  | 7  | 3  | 2  | 1  | 4  | 10 | 3  | 9  | 5  | 1  | \n",
       "\n",
       "\n"
      ],
      "text/plain": [
       "  ID ATT1 ATT2 ATT3 ATT4 ATT5 ATT6 ATT7 ATT8 ATT9 ATT10 Result\n",
       "1 1  1    4    1    4    3    7     1   2    6    8     0     \n",
       "2 2  ?    8    9    1    1    1     1   5    6    1     1     \n",
       "3 3  10   7    ?    7    ?    5     2   7    1    1     2     \n",
       "4 4  3    4    3    ?    2    8     4   6    7    2     1     \n",
       "5 5  3    5    2    1    6    5     3   1    7    1     0     \n",
       "6 6  2    7    3    2    1    4    10   3    9    5     1     "
      ]
     },
     "metadata": {},
     "output_type": "display_data"
    }
   ],
   "source": [
    "head(data)"
   ]
  },
  {
   "cell_type": "markdown",
   "metadata": {},
   "source": [
    "Even just from the head of the table we can see \"?\" present in ATT1, ATT3, ATT4 and ATT5. Let's force the entire data frame into numeric values. We'll need to nest the function and first turn the factors back into character variables before converting to numerical values. This will produce warnings as we will be coercing NA by forcing non-numerical values (\"?\") into numerical values. This is by design and we can then use R functions specific to NA values."
   ]
  },
  {
   "cell_type": "code",
   "execution_count": 5,
   "metadata": {
    "collapsed": false
   },
   "outputs": [
    {
     "name": "stderr",
     "output_type": "stream",
     "text": [
      "Warning message in as.numeric(as.character(x)):\n",
      "“NAs introduced by coercion”Warning message in as.numeric(as.character(x)):\n",
      "“NAs introduced by coercion”Warning message in as.numeric(as.character(x)):\n",
      "“NAs introduced by coercion”Warning message in as.numeric(as.character(x)):\n",
      "“NAs introduced by coercion”"
     ]
    },
    {
     "data": {
      "text/html": [
       "<table>\n",
       "<thead><tr><th scope=col>ID</th><th scope=col>ATT1</th><th scope=col>ATT2</th><th scope=col>ATT3</th><th scope=col>ATT4</th><th scope=col>ATT5</th><th scope=col>ATT6</th><th scope=col>ATT7</th><th scope=col>ATT8</th><th scope=col>ATT9</th><th scope=col>ATT10</th><th scope=col>Result</th></tr></thead>\n",
       "<tbody>\n",
       "\t<tr><td>1 </td><td> 1</td><td>4 </td><td> 1</td><td> 4</td><td> 3</td><td>7 </td><td> 1</td><td>2 </td><td>6 </td><td>8 </td><td>0 </td></tr>\n",
       "\t<tr><td>2 </td><td>NA</td><td>8 </td><td> 9</td><td> 1</td><td> 1</td><td>1 </td><td> 1</td><td>5 </td><td>6 </td><td>1 </td><td>1 </td></tr>\n",
       "\t<tr><td>3 </td><td>10</td><td>7 </td><td>NA</td><td> 7</td><td>NA</td><td>5 </td><td> 2</td><td>7 </td><td>1 </td><td>1 </td><td>2 </td></tr>\n",
       "\t<tr><td>4 </td><td> 3</td><td>4 </td><td> 3</td><td>NA</td><td> 2</td><td>8 </td><td> 4</td><td>6 </td><td>7 </td><td>2 </td><td>1 </td></tr>\n",
       "\t<tr><td>5 </td><td> 3</td><td>5 </td><td> 2</td><td> 1</td><td> 6</td><td>5 </td><td> 3</td><td>1 </td><td>7 </td><td>1 </td><td>0 </td></tr>\n",
       "\t<tr><td>6 </td><td> 2</td><td>7 </td><td> 3</td><td> 2</td><td> 1</td><td>4 </td><td>10</td><td>3 </td><td>9 </td><td>5 </td><td>1 </td></tr>\n",
       "</tbody>\n",
       "</table>\n"
      ],
      "text/latex": [
       "\\begin{tabular}{r|llllllllllll}\n",
       " ID & ATT1 & ATT2 & ATT3 & ATT4 & ATT5 & ATT6 & ATT7 & ATT8 & ATT9 & ATT10 & Result\\\\\n",
       "\\hline\n",
       "\t 1  &  1 & 4  &  1 &  4 &  3 & 7  &  1 & 2  & 6  & 8  & 0 \\\\\n",
       "\t 2  & NA & 8  &  9 &  1 &  1 & 1  &  1 & 5  & 6  & 1  & 1 \\\\\n",
       "\t 3  & 10 & 7  & NA &  7 & NA & 5  &  2 & 7  & 1  & 1  & 2 \\\\\n",
       "\t 4  &  3 & 4  &  3 & NA &  2 & 8  &  4 & 6  & 7  & 2  & 1 \\\\\n",
       "\t 5  &  3 & 5  &  2 &  1 &  6 & 5  &  3 & 1  & 7  & 1  & 0 \\\\\n",
       "\t 6  &  2 & 7  &  3 &  2 &  1 & 4  & 10 & 3  & 9  & 5  & 1 \\\\\n",
       "\\end{tabular}\n"
      ],
      "text/markdown": [
       "\n",
       "ID | ATT1 | ATT2 | ATT3 | ATT4 | ATT5 | ATT6 | ATT7 | ATT8 | ATT9 | ATT10 | Result | \n",
       "|---|---|---|---|---|---|\n",
       "| 1  |  1 | 4  |  1 |  4 |  3 | 7  |  1 | 2  | 6  | 8  | 0  | \n",
       "| 2  | NA | 8  |  9 |  1 |  1 | 1  |  1 | 5  | 6  | 1  | 1  | \n",
       "| 3  | 10 | 7  | NA |  7 | NA | 5  |  2 | 7  | 1  | 1  | 2  | \n",
       "| 4  |  3 | 4  |  3 | NA |  2 | 8  |  4 | 6  | 7  | 2  | 1  | \n",
       "| 5  |  3 | 5  |  2 |  1 |  6 | 5  |  3 | 1  | 7  | 1  | 0  | \n",
       "| 6  |  2 | 7  |  3 |  2 |  1 | 4  | 10 | 3  | 9  | 5  | 1  | \n",
       "\n",
       "\n"
      ],
      "text/plain": [
       "  ID ATT1 ATT2 ATT3 ATT4 ATT5 ATT6 ATT7 ATT8 ATT9 ATT10 Result\n",
       "1 1   1   4     1    4    3   7     1   2    6    8     0     \n",
       "2 2  NA   8     9    1    1   1     1   5    6    1     1     \n",
       "3 3  10   7    NA    7   NA   5     2   7    1    1     2     \n",
       "4 4   3   4     3   NA    2   8     4   6    7    2     1     \n",
       "5 5   3   5     2    1    6   5     3   1    7    1     0     \n",
       "6 6   2   7     3    2    1   4    10   3    9    5     1     "
      ]
     },
     "metadata": {},
     "output_type": "display_data"
    }
   ],
   "source": [
    "data <- lapply(data, function(x) as.numeric(as.character(x)))\n",
    "data <- as.data.frame(data)\n",
    "head(data)"
   ]
  },
  {
   "cell_type": "markdown",
   "metadata": {},
   "source": [
    "Great we can see from the head of the table that the \"?\" values have been converted to NA values and all other values are unchanged in appearance, they are now of course integer types which we can confirm by calling the str function again."
   ]
  },
  {
   "cell_type": "code",
   "execution_count": 6,
   "metadata": {
    "collapsed": false
   },
   "outputs": [
    {
     "name": "stdout",
     "output_type": "stream",
     "text": [
      "'data.frame':\t3000 obs. of  12 variables:\n",
      " $ ID    : num  1 2 3 4 5 6 7 8 9 10 ...\n",
      " $ ATT1  : num  1 NA 10 3 3 2 1 8 2 1 ...\n",
      " $ ATT2  : num  4 8 7 4 5 7 1 5 9 1 ...\n",
      " $ ATT3  : num  1 9 NA 3 2 3 3 2 2 1 ...\n",
      " $ ATT4  : num  4 1 7 NA 1 2 5 6 1 8 ...\n",
      " $ ATT5  : num  3 1 NA 2 6 1 9 2 4 9 ...\n",
      " $ ATT6  : num  7 1 5 8 5 4 3 7 6 2 ...\n",
      " $ ATT7  : num  1 1 2 4 3 10 7 3 8 2 ...\n",
      " $ ATT8  : num  2 5 7 6 1 3 1 6 8 5 ...\n",
      " $ ATT9  : num  6 6 1 7 7 9 10 7 4 1 ...\n",
      " $ ATT10 : num  8 1 1 2 1 5 7 3 3 3 ...\n",
      " $ Result: num  0 1 2 1 0 1 1 1 1 0 ...\n"
     ]
    }
   ],
   "source": [
    "str(data)"
   ]
  },
  {
   "cell_type": "markdown",
   "metadata": {},
   "source": [
    "We also know from the assignment description that the Result (target feature) is actually a factor so we will convert this to a factor."
   ]
  },
  {
   "cell_type": "code",
   "execution_count": 7,
   "metadata": {
    "collapsed": false
   },
   "outputs": [
    {
     "data": {
      "text/html": [
       "<table>\n",
       "<thead><tr><th scope=col>ID</th><th scope=col>ATT1</th><th scope=col>ATT2</th><th scope=col>ATT3</th><th scope=col>ATT4</th><th scope=col>ATT5</th><th scope=col>ATT6</th><th scope=col>ATT7</th><th scope=col>ATT8</th><th scope=col>ATT9</th><th scope=col>ATT10</th><th scope=col>Result</th></tr></thead>\n",
       "<tbody>\n",
       "\t<tr><td>1 </td><td> 1</td><td>4 </td><td> 1</td><td> 4</td><td> 3</td><td>7 </td><td> 1</td><td>2 </td><td>6 </td><td>8 </td><td>0 </td></tr>\n",
       "\t<tr><td>2 </td><td>NA</td><td>8 </td><td> 9</td><td> 1</td><td> 1</td><td>1 </td><td> 1</td><td>5 </td><td>6 </td><td>1 </td><td>1 </td></tr>\n",
       "\t<tr><td>3 </td><td>10</td><td>7 </td><td>NA</td><td> 7</td><td>NA</td><td>5 </td><td> 2</td><td>7 </td><td>1 </td><td>1 </td><td>2 </td></tr>\n",
       "\t<tr><td>4 </td><td> 3</td><td>4 </td><td> 3</td><td>NA</td><td> 2</td><td>8 </td><td> 4</td><td>6 </td><td>7 </td><td>2 </td><td>1 </td></tr>\n",
       "\t<tr><td>5 </td><td> 3</td><td>5 </td><td> 2</td><td> 1</td><td> 6</td><td>5 </td><td> 3</td><td>1 </td><td>7 </td><td>1 </td><td>0 </td></tr>\n",
       "\t<tr><td>6 </td><td> 2</td><td>7 </td><td> 3</td><td> 2</td><td> 1</td><td>4 </td><td>10</td><td>3 </td><td>9 </td><td>5 </td><td>1 </td></tr>\n",
       "</tbody>\n",
       "</table>\n"
      ],
      "text/latex": [
       "\\begin{tabular}{r|llllllllllll}\n",
       " ID & ATT1 & ATT2 & ATT3 & ATT4 & ATT5 & ATT6 & ATT7 & ATT8 & ATT9 & ATT10 & Result\\\\\n",
       "\\hline\n",
       "\t 1  &  1 & 4  &  1 &  4 &  3 & 7  &  1 & 2  & 6  & 8  & 0 \\\\\n",
       "\t 2  & NA & 8  &  9 &  1 &  1 & 1  &  1 & 5  & 6  & 1  & 1 \\\\\n",
       "\t 3  & 10 & 7  & NA &  7 & NA & 5  &  2 & 7  & 1  & 1  & 2 \\\\\n",
       "\t 4  &  3 & 4  &  3 & NA &  2 & 8  &  4 & 6  & 7  & 2  & 1 \\\\\n",
       "\t 5  &  3 & 5  &  2 &  1 &  6 & 5  &  3 & 1  & 7  & 1  & 0 \\\\\n",
       "\t 6  &  2 & 7  &  3 &  2 &  1 & 4  & 10 & 3  & 9  & 5  & 1 \\\\\n",
       "\\end{tabular}\n"
      ],
      "text/markdown": [
       "\n",
       "ID | ATT1 | ATT2 | ATT3 | ATT4 | ATT5 | ATT6 | ATT7 | ATT8 | ATT9 | ATT10 | Result | \n",
       "|---|---|---|---|---|---|\n",
       "| 1  |  1 | 4  |  1 |  4 |  3 | 7  |  1 | 2  | 6  | 8  | 0  | \n",
       "| 2  | NA | 8  |  9 |  1 |  1 | 1  |  1 | 5  | 6  | 1  | 1  | \n",
       "| 3  | 10 | 7  | NA |  7 | NA | 5  |  2 | 7  | 1  | 1  | 2  | \n",
       "| 4  |  3 | 4  |  3 | NA |  2 | 8  |  4 | 6  | 7  | 2  | 1  | \n",
       "| 5  |  3 | 5  |  2 |  1 |  6 | 5  |  3 | 1  | 7  | 1  | 0  | \n",
       "| 6  |  2 | 7  |  3 |  2 |  1 | 4  | 10 | 3  | 9  | 5  | 1  | \n",
       "\n",
       "\n"
      ],
      "text/plain": [
       "  ID ATT1 ATT2 ATT3 ATT4 ATT5 ATT6 ATT7 ATT8 ATT9 ATT10 Result\n",
       "1 1   1   4     1    4    3   7     1   2    6    8     0     \n",
       "2 2  NA   8     9    1    1   1     1   5    6    1     1     \n",
       "3 3  10   7    NA    7   NA   5     2   7    1    1     2     \n",
       "4 4   3   4     3   NA    2   8     4   6    7    2     1     \n",
       "5 5   3   5     2    1    6   5     3   1    7    1     0     \n",
       "6 6   2   7     3    2    1   4    10   3    9    5     1     "
      ]
     },
     "metadata": {},
     "output_type": "display_data"
    }
   ],
   "source": [
    "data$Result <- factor(data$Result)\n",
    "head(data)"
   ]
  },
  {
   "cell_type": "markdown",
   "metadata": {},
   "source": [
    "Now that we have replaced any non-integer values in the predictor features of the data frame with NAs we can use the R is.na function to identify any rows that have NA values in them.\n",
    "which(is.na(data), arr.ind=TRUE) will return an array with the row and column indexes of the entries in the data frame that have NA values in them. Since we only want the rows we'll take the first entry in the array and use it to select the rows out of the data."
   ]
  },
  {
   "cell_type": "code",
   "execution_count": 8,
   "metadata": {
    "collapsed": false
   },
   "outputs": [
    {
     "data": {
      "text/html": [
       "<table>\n",
       "<thead><tr><th></th><th scope=col>ID</th><th scope=col>ATT1</th><th scope=col>ATT2</th><th scope=col>ATT3</th><th scope=col>ATT4</th><th scope=col>ATT5</th><th scope=col>ATT6</th><th scope=col>ATT7</th><th scope=col>ATT8</th><th scope=col>ATT9</th><th scope=col>ATT10</th><th scope=col>Result</th></tr></thead>\n",
       "<tbody>\n",
       "\t<tr><th scope=row>2</th><td>2 </td><td>NA</td><td>8 </td><td> 9</td><td> 1</td><td> 1</td><td>1 </td><td>1 </td><td>5 </td><td>6 </td><td>1 </td><td>1 </td></tr>\n",
       "\t<tr><th scope=row>3</th><td>3 </td><td>10</td><td>7 </td><td>NA</td><td> 7</td><td>NA</td><td>5 </td><td>2 </td><td>7 </td><td>1 </td><td>1 </td><td>2 </td></tr>\n",
       "\t<tr><th scope=row>4</th><td>4 </td><td> 3</td><td>4 </td><td> 3</td><td>NA</td><td> 2</td><td>8 </td><td>4 </td><td>6 </td><td>7 </td><td>2 </td><td>1 </td></tr>\n",
       "\t<tr><th scope=row>3.1</th><td>3 </td><td>10</td><td>7 </td><td>NA</td><td> 7</td><td>NA</td><td>5 </td><td>2 </td><td>7 </td><td>1 </td><td>1 </td><td>2 </td></tr>\n",
       "</tbody>\n",
       "</table>\n"
      ],
      "text/latex": [
       "\\begin{tabular}{r|llllllllllll}\n",
       "  & ID & ATT1 & ATT2 & ATT3 & ATT4 & ATT5 & ATT6 & ATT7 & ATT8 & ATT9 & ATT10 & Result\\\\\n",
       "\\hline\n",
       "\t2 & 2  & NA & 8  &  9 &  1 &  1 & 1  & 1  & 5  & 6  & 1  & 1 \\\\\n",
       "\t3 & 3  & 10 & 7  & NA &  7 & NA & 5  & 2  & 7  & 1  & 1  & 2 \\\\\n",
       "\t4 & 4  &  3 & 4  &  3 & NA &  2 & 8  & 4  & 6  & 7  & 2  & 1 \\\\\n",
       "\t3.1 & 3  & 10 & 7  & NA &  7 & NA & 5  & 2  & 7  & 1  & 1  & 2 \\\\\n",
       "\\end{tabular}\n"
      ],
      "text/markdown": [
       "\n",
       "| <!--/--> | ID | ATT1 | ATT2 | ATT3 | ATT4 | ATT5 | ATT6 | ATT7 | ATT8 | ATT9 | ATT10 | Result | \n",
       "|---|---|---|---|\n",
       "| 2 | 2  | NA | 8  |  9 |  1 |  1 | 1  | 1  | 5  | 6  | 1  | 1  | \n",
       "| 3 | 3  | 10 | 7  | NA |  7 | NA | 5  | 2  | 7  | 1  | 1  | 2  | \n",
       "| 4 | 4  |  3 | 4  |  3 | NA |  2 | 8  | 4  | 6  | 7  | 2  | 1  | \n",
       "| 3.1 | 3  | 10 | 7  | NA |  7 | NA | 5  | 2  | 7  | 1  | 1  | 2  | \n",
       "\n",
       "\n"
      ],
      "text/plain": [
       "    ID ATT1 ATT2 ATT3 ATT4 ATT5 ATT6 ATT7 ATT8 ATT9 ATT10 Result\n",
       "2   2  NA   8     9    1    1   1    1    5    6    1     1     \n",
       "3   3  10   7    NA    7   NA   5    2    7    1    1     2     \n",
       "4   4   3   4     3   NA    2   8    4    6    7    2     1     \n",
       "3.1 3  10   7    NA    7   NA   5    2    7    1    1     2     "
      ]
     },
     "metadata": {},
     "output_type": "display_data"
    }
   ],
   "source": [
    "data[which(is.na(data), arr.ind=TRUE)[,1],]"
   ]
  },
  {
   "cell_type": "markdown",
   "metadata": {},
   "source": [
    "This has returned row 2, 3, 4 and 3 again (shown as 3.1 due to appearing a second time). Somewhat suprisingly the missing values were all visible in the head of the table!\n",
    "\n",
    "Since we are talking about only three rows in a 300 entry table it would normally be asvisable to delete the rows rather than impute the values however we have specifically been tasked with imputing any missing values so for now we will put them aside and continue with the data exploration by first building a data frame that inlcudes only the complete entries."
   ]
  },
  {
   "cell_type": "code",
   "execution_count": 9,
   "metadata": {
    "collapsed": false
   },
   "outputs": [
    {
     "data": {
      "text/html": [
       "<table>\n",
       "<thead><tr><th></th><th scope=col>ID</th><th scope=col>ATT1</th><th scope=col>ATT2</th><th scope=col>ATT3</th><th scope=col>ATT4</th><th scope=col>ATT5</th><th scope=col>ATT6</th><th scope=col>ATT7</th><th scope=col>ATT8</th><th scope=col>ATT9</th><th scope=col>ATT10</th><th scope=col>Result</th></tr></thead>\n",
       "<tbody>\n",
       "\t<tr><th scope=row>1</th><td>1 </td><td>1 </td><td>4 </td><td>1 </td><td>4 </td><td>3 </td><td>7 </td><td> 1</td><td>2 </td><td> 6</td><td>8 </td><td>0 </td></tr>\n",
       "\t<tr><th scope=row>5</th><td>5 </td><td>3 </td><td>5 </td><td>2 </td><td>1 </td><td>6 </td><td>5 </td><td> 3</td><td>1 </td><td> 7</td><td>1 </td><td>0 </td></tr>\n",
       "\t<tr><th scope=row>6</th><td>6 </td><td>2 </td><td>7 </td><td>3 </td><td>2 </td><td>1 </td><td>4 </td><td>10</td><td>3 </td><td> 9</td><td>5 </td><td>1 </td></tr>\n",
       "\t<tr><th scope=row>7</th><td>7 </td><td>1 </td><td>1 </td><td>3 </td><td>5 </td><td>9 </td><td>3 </td><td> 7</td><td>1 </td><td>10</td><td>7 </td><td>1 </td></tr>\n",
       "\t<tr><th scope=row>8</th><td>8 </td><td>8 </td><td>5 </td><td>2 </td><td>6 </td><td>2 </td><td>7 </td><td> 3</td><td>6 </td><td> 7</td><td>3 </td><td>1 </td></tr>\n",
       "\t<tr><th scope=row>9</th><td>9 </td><td>2 </td><td>9 </td><td>2 </td><td>1 </td><td>4 </td><td>6 </td><td> 8</td><td>8 </td><td> 4</td><td>3 </td><td>1 </td></tr>\n",
       "</tbody>\n",
       "</table>\n"
      ],
      "text/latex": [
       "\\begin{tabular}{r|llllllllllll}\n",
       "  & ID & ATT1 & ATT2 & ATT3 & ATT4 & ATT5 & ATT6 & ATT7 & ATT8 & ATT9 & ATT10 & Result\\\\\n",
       "\\hline\n",
       "\t1 & 1  & 1  & 4  & 1  & 4  & 3  & 7  &  1 & 2  &  6 & 8  & 0 \\\\\n",
       "\t5 & 5  & 3  & 5  & 2  & 1  & 6  & 5  &  3 & 1  &  7 & 1  & 0 \\\\\n",
       "\t6 & 6  & 2  & 7  & 3  & 2  & 1  & 4  & 10 & 3  &  9 & 5  & 1 \\\\\n",
       "\t7 & 7  & 1  & 1  & 3  & 5  & 9  & 3  &  7 & 1  & 10 & 7  & 1 \\\\\n",
       "\t8 & 8  & 8  & 5  & 2  & 6  & 2  & 7  &  3 & 6  &  7 & 3  & 1 \\\\\n",
       "\t9 & 9  & 2  & 9  & 2  & 1  & 4  & 6  &  8 & 8  &  4 & 3  & 1 \\\\\n",
       "\\end{tabular}\n"
      ],
      "text/markdown": [
       "\n",
       "| <!--/--> | ID | ATT1 | ATT2 | ATT3 | ATT4 | ATT5 | ATT6 | ATT7 | ATT8 | ATT9 | ATT10 | Result | \n",
       "|---|---|---|---|---|---|\n",
       "| 1 | 1  | 1  | 4  | 1  | 4  | 3  | 7  |  1 | 2  |  6 | 8  | 0  | \n",
       "| 5 | 5  | 3  | 5  | 2  | 1  | 6  | 5  |  3 | 1  |  7 | 1  | 0  | \n",
       "| 6 | 6  | 2  | 7  | 3  | 2  | 1  | 4  | 10 | 3  |  9 | 5  | 1  | \n",
       "| 7 | 7  | 1  | 1  | 3  | 5  | 9  | 3  |  7 | 1  | 10 | 7  | 1  | \n",
       "| 8 | 8  | 8  | 5  | 2  | 6  | 2  | 7  |  3 | 6  |  7 | 3  | 1  | \n",
       "| 9 | 9  | 2  | 9  | 2  | 1  | 4  | 6  |  8 | 8  |  4 | 3  | 1  | \n",
       "\n",
       "\n"
      ],
      "text/plain": [
       "  ID ATT1 ATT2 ATT3 ATT4 ATT5 ATT6 ATT7 ATT8 ATT9 ATT10 Result\n",
       "1 1  1    4    1    4    3    7     1   2     6   8     0     \n",
       "5 5  3    5    2    1    6    5     3   1     7   1     0     \n",
       "6 6  2    7    3    2    1    4    10   3     9   5     1     \n",
       "7 7  1    1    3    5    9    3     7   1    10   7     1     \n",
       "8 8  8    5    2    6    2    7     3   6     7   3     1     \n",
       "9 9  2    9    2    1    4    6     8   8     4   3     1     "
      ]
     },
     "metadata": {},
     "output_type": "display_data"
    }
   ],
   "source": [
    "completeData <- data[-which(is.na(data), arr.ind=TRUE)[,1], ]\n",
    "head(completeData)"
   ]
  },
  {
   "cell_type": "markdown",
   "metadata": {},
   "source": [
    "We also know that the first attribute in the data frame is ID which is not to be used as a predictor so we can drop that from the data frame and take a look at the summary of the remaining data."
   ]
  },
  {
   "cell_type": "code",
   "execution_count": 10,
   "metadata": {
    "collapsed": false
   },
   "outputs": [
    {
     "data": {
      "text/html": [
       "<table>\n",
       "<thead><tr><th></th><th scope=col>ATT1</th><th scope=col>ATT2</th><th scope=col>ATT3</th><th scope=col>ATT4</th><th scope=col>ATT5</th><th scope=col>ATT6</th><th scope=col>ATT7</th><th scope=col>ATT8</th><th scope=col>ATT9</th><th scope=col>ATT10</th><th scope=col>Result</th></tr></thead>\n",
       "<tbody>\n",
       "\t<tr><th scope=row>1</th><td>1 </td><td>4 </td><td>1 </td><td>4 </td><td>3 </td><td>7 </td><td> 1</td><td>2 </td><td> 6</td><td>8 </td><td>0 </td></tr>\n",
       "\t<tr><th scope=row>5</th><td>3 </td><td>5 </td><td>2 </td><td>1 </td><td>6 </td><td>5 </td><td> 3</td><td>1 </td><td> 7</td><td>1 </td><td>0 </td></tr>\n",
       "\t<tr><th scope=row>6</th><td>2 </td><td>7 </td><td>3 </td><td>2 </td><td>1 </td><td>4 </td><td>10</td><td>3 </td><td> 9</td><td>5 </td><td>1 </td></tr>\n",
       "\t<tr><th scope=row>7</th><td>1 </td><td>1 </td><td>3 </td><td>5 </td><td>9 </td><td>3 </td><td> 7</td><td>1 </td><td>10</td><td>7 </td><td>1 </td></tr>\n",
       "\t<tr><th scope=row>8</th><td>8 </td><td>5 </td><td>2 </td><td>6 </td><td>2 </td><td>7 </td><td> 3</td><td>6 </td><td> 7</td><td>3 </td><td>1 </td></tr>\n",
       "\t<tr><th scope=row>9</th><td>2 </td><td>9 </td><td>2 </td><td>1 </td><td>4 </td><td>6 </td><td> 8</td><td>8 </td><td> 4</td><td>3 </td><td>1 </td></tr>\n",
       "</tbody>\n",
       "</table>\n"
      ],
      "text/latex": [
       "\\begin{tabular}{r|lllllllllll}\n",
       "  & ATT1 & ATT2 & ATT3 & ATT4 & ATT5 & ATT6 & ATT7 & ATT8 & ATT9 & ATT10 & Result\\\\\n",
       "\\hline\n",
       "\t1 & 1  & 4  & 1  & 4  & 3  & 7  &  1 & 2  &  6 & 8  & 0 \\\\\n",
       "\t5 & 3  & 5  & 2  & 1  & 6  & 5  &  3 & 1  &  7 & 1  & 0 \\\\\n",
       "\t6 & 2  & 7  & 3  & 2  & 1  & 4  & 10 & 3  &  9 & 5  & 1 \\\\\n",
       "\t7 & 1  & 1  & 3  & 5  & 9  & 3  &  7 & 1  & 10 & 7  & 1 \\\\\n",
       "\t8 & 8  & 5  & 2  & 6  & 2  & 7  &  3 & 6  &  7 & 3  & 1 \\\\\n",
       "\t9 & 2  & 9  & 2  & 1  & 4  & 6  &  8 & 8  &  4 & 3  & 1 \\\\\n",
       "\\end{tabular}\n"
      ],
      "text/markdown": [
       "\n",
       "| <!--/--> | ATT1 | ATT2 | ATT3 | ATT4 | ATT5 | ATT6 | ATT7 | ATT8 | ATT9 | ATT10 | Result | \n",
       "|---|---|---|---|---|---|\n",
       "| 1 | 1  | 4  | 1  | 4  | 3  | 7  |  1 | 2  |  6 | 8  | 0  | \n",
       "| 5 | 3  | 5  | 2  | 1  | 6  | 5  |  3 | 1  |  7 | 1  | 0  | \n",
       "| 6 | 2  | 7  | 3  | 2  | 1  | 4  | 10 | 3  |  9 | 5  | 1  | \n",
       "| 7 | 1  | 1  | 3  | 5  | 9  | 3  |  7 | 1  | 10 | 7  | 1  | \n",
       "| 8 | 8  | 5  | 2  | 6  | 2  | 7  |  3 | 6  |  7 | 3  | 1  | \n",
       "| 9 | 2  | 9  | 2  | 1  | 4  | 6  |  8 | 8  |  4 | 3  | 1  | \n",
       "\n",
       "\n"
      ],
      "text/plain": [
       "  ATT1 ATT2 ATT3 ATT4 ATT5 ATT6 ATT7 ATT8 ATT9 ATT10 Result\n",
       "1 1    4    1    4    3    7     1   2     6   8     0     \n",
       "5 3    5    2    1    6    5     3   1     7   1     0     \n",
       "6 2    7    3    2    1    4    10   3     9   5     1     \n",
       "7 1    1    3    5    9    3     7   1    10   7     1     \n",
       "8 8    5    2    6    2    7     3   6     7   3     1     \n",
       "9 2    9    2    1    4    6     8   8     4   3     1     "
      ]
     },
     "metadata": {},
     "output_type": "display_data"
    }
   ],
   "source": [
    "completeData <- completeData[-1]\n",
    "head(completeData)"
   ]
  },
  {
   "cell_type": "markdown",
   "metadata": {},
   "source": [
    "Finally let's check the sumamry of the data to makes sure everything is as expected."
   ]
  },
  {
   "cell_type": "code",
   "execution_count": 11,
   "metadata": {
    "collapsed": false
   },
   "outputs": [
    {
     "data": {
      "text/plain": [
       "      ATT1             ATT2             ATT3             ATT4      \n",
       " Min.   : 1.000   Min.   : 1.000   Min.   : 1.000   Min.   : 1.00  \n",
       " 1st Qu.: 2.000   1st Qu.: 2.000   1st Qu.: 2.000   1st Qu.: 2.00  \n",
       " Median : 4.000   Median : 4.000   Median : 4.000   Median : 4.00  \n",
       " Mean   : 4.423   Mean   : 4.499   Mean   : 4.421   Mean   : 4.44  \n",
       " 3rd Qu.: 7.000   3rd Qu.: 7.000   3rd Qu.: 7.000   3rd Qu.: 6.00  \n",
       " Max.   :10.000   Max.   :10.000   Max.   :10.000   Max.   :10.00  \n",
       "      ATT5             ATT6             ATT7             ATT8       \n",
       " Min.   : 1.000   Min.   : 1.000   Min.   : 1.000   Min.   : 1.000  \n",
       " 1st Qu.: 2.000   1st Qu.: 2.000   1st Qu.: 2.000   1st Qu.: 2.000  \n",
       " Median : 4.000   Median : 4.000   Median : 4.000   Median : 4.000  \n",
       " Mean   : 4.328   Mean   : 4.431   Mean   : 4.481   Mean   : 4.476  \n",
       " 3rd Qu.: 6.000   3rd Qu.: 6.000   3rd Qu.: 7.000   3rd Qu.: 7.000  \n",
       " Max.   :10.000   Max.   :10.000   Max.   :10.000   Max.   :10.000  \n",
       "      ATT9            ATT10        Result  \n",
       " Min.   : 1.000   Min.   : 1.000   0:1082  \n",
       " 1st Qu.: 2.000   1st Qu.: 2.000   1:1078  \n",
       " Median : 4.000   Median : 4.000   2: 641  \n",
       " Mean   : 4.446   Mean   : 4.462   3: 196  \n",
       " 3rd Qu.: 6.000   3rd Qu.: 7.000           \n",
       " Max.   :10.000   Max.   :10.000           "
      ]
     },
     "metadata": {},
     "output_type": "display_data"
    }
   ],
   "source": [
    "summary(completeData)"
   ]
  },
  {
   "cell_type": "markdown",
   "metadata": {},
   "source": [
    "We can see that all the values of the predictor features range from 1 to 10, as described in the assignment and the Result is now a factor that is inbalaned towards 0 and 1 (corresponding with \"curable\" and \"tumour stage\")."
   ]
  },
  {
   "cell_type": "markdown",
   "metadata": {},
   "source": [
    "### Data Visualisation"
   ]
  },
  {
   "cell_type": "code",
   "execution_count": 12,
   "metadata": {
    "collapsed": false
   },
   "outputs": [
    {
     "data": {},
     "metadata": {},
     "output_type": "display_data"
    },
    {
     "data": {
      "image/png": "[encoded data removed]",
      "text/plain": [
       "plot without title"
      ]
     },
     "metadata": {},
     "output_type": "display_data"
    }
   ],
   "source": [
    "options(repr.plot.width=4, repr.plot.height=3)\n",
    "ggplot(completeData, aes(x=ATT1, fill=Result)) + geom_density(alpha = 0.5) + theme_minimal()"
   ]
  },
  {
   "cell_type": "code",
   "execution_count": 13,
   "metadata": {
    "collapsed": false
   },
   "outputs": [
    {
     "data": {},
     "metadata": {},
     "output_type": "display_data"
    },
    {
     "data": {
      "image/png": "[encoded data removed]",
      "text/plain": [
       "plot without title"
      ]
     },
     "metadata": {},
     "output_type": "display_data"
    }
   ],
   "source": [
    "ggplot(completeData, aes(x=ATT2, fill=Result)) + geom_density(alpha = 0.5) + theme_minimal()"
   ]
  },
  {
   "cell_type": "code",
   "execution_count": 14,
   "metadata": {
    "collapsed": false
   },
   "outputs": [
    {
     "data": {},
     "metadata": {},
     "output_type": "display_data"
    },
    {
     "data": {
      "image/png": "[encoded data removed]",
      "text/plain": [
       "plot without title"
      ]
     },
     "metadata": {},
     "output_type": "display_data"
    }
   ],
   "source": [
    "ggplot(completeData, aes(x=ATT3, fill=Result)) + geom_density(alpha = 0.5) + theme_minimal()"
   ]
  },
  {
   "cell_type": "code",
   "execution_count": 15,
   "metadata": {
    "collapsed": false
   },
   "outputs": [
    {
     "data": {},
     "metadata": {},
     "output_type": "display_data"
    },
    {
     "data": {
      "image/png": "[encoded data removed]",
      "text/plain": [
       "plot without title"
      ]
     },
     "metadata": {},
     "output_type": "display_data"
    }
   ],
   "source": [
    "ggplot(completeData, aes(x=ATT4, fill=Result)) + geom_density(alpha = 0.5) + theme_minimal()"
   ]
  },
  {
   "cell_type": "code",
   "execution_count": 16,
   "metadata": {
    "collapsed": false
   },
   "outputs": [
    {
     "data": {},
     "metadata": {},
     "output_type": "display_data"
    },
    {
     "data": {
      "image/png": "[encoded data removed]",
      "text/plain": [
       "plot without title"
      ]
     },
     "metadata": {},
     "output_type": "display_data"
    }
   ],
   "source": [
    "ggplot(completeData, aes(x=ATT5, fill=Result)) + geom_density(alpha = 0.5) + theme_minimal()"
   ]
  },
  {
   "cell_type": "code",
   "execution_count": 17,
   "metadata": {
    "collapsed": false
   },
   "outputs": [
    {
     "data": {},
     "metadata": {},
     "output_type": "display_data"
    },
    {
     "data": {
      "image/png": "[encoded data removed]",
      "text/plain": [
       "plot without title"
      ]
     },
     "metadata": {},
     "output_type": "display_data"
    }
   ],
   "source": [
    "ggplot(completeData, aes(x=ATT6, fill=Result)) + geom_density(alpha = 0.5) + theme_minimal()"
   ]
  },
  {
   "cell_type": "code",
   "execution_count": 18,
   "metadata": {
    "collapsed": false
   },
   "outputs": [
    {
     "data": {},
     "metadata": {},
     "output_type": "display_data"
    },
    {
     "data": {
      "image/png": "[encoded data removed]",
      "text/plain": [
       "plot without title"
      ]
     },
     "metadata": {},
     "output_type": "display_data"
    }
   ],
   "source": [
    "ggplot(completeData, aes(x=ATT7, fill=Result)) + geom_density(alpha = 0.5) + theme_minimal()"
   ]
  },
  {
   "cell_type": "code",
   "execution_count": 19,
   "metadata": {
    "collapsed": false
   },
   "outputs": [
    {
     "data": {},
     "metadata": {},
     "output_type": "display_data"
    },
    {
     "data": {
      "image/png": "[encoded data removed]",
      "text/plain": [
       "plot without title"
      ]
     },
     "metadata": {},
     "output_type": "display_data"
    }
   ],
   "source": [
    "ggplot(completeData, aes(x=ATT8, fill=Result)) + geom_density(alpha = 0.5) + theme_minimal()"
   ]
  },
  {
   "cell_type": "code",
   "execution_count": 20,
   "metadata": {
    "collapsed": false
   },
   "outputs": [
    {
     "data": {},
     "metadata": {},
     "output_type": "display_data"
    },
    {
     "data": {
      "image/png": "[encoded data removed]",
      "text/plain": [
       "plot without title"
      ]
     },
     "metadata": {},
     "output_type": "display_data"
    }
   ],
   "source": [
    "ggplot(completeData, aes(x=ATT9, fill=Result)) + geom_density(alpha = 0.5) + theme_minimal()"
   ]
  },
  {
   "cell_type": "code",
   "execution_count": 21,
   "metadata": {
    "collapsed": false
   },
   "outputs": [
    {
     "data": {},
     "metadata": {},
     "output_type": "display_data"
    },
    {
     "data": {
      "image/png": "[encoded data removed]",
      "text/plain": [
       "plot without title"
      ]
     },
     "metadata": {},
     "output_type": "display_data"
    }
   ],
   "source": [
    "ggplot(completeData, aes(x=ATT10, fill=Result)) + geom_density(alpha = 0.5) + theme_minimal()"
   ]
  },
  {
   "cell_type": "markdown",
   "metadata": {},
   "source": [
    "Interestingly all of these plots show a very similar distribution. Low values of all attributes are likely to lead to class 0 while high values will likely lead to class 3. Class 1 and 2 are more subtle but again it is evident that there are more class 1 toward the lower attribute values.\n",
    "\n",
    "What is also clear is that the variable distribution by class (for all variables) does not follow a normal distribution."
   ]
  },
  {
   "cell_type": "markdown",
   "metadata": {},
   "source": [
    "### Missing Data Imputation"
   ]
  },
  {
   "cell_type": "markdown",
   "metadata": {
    "collapsed": true
   },
   "source": [
    "The above density plots suggest that imputing by using the class mean or any other method that relies on a normal distribution of the features will not produced good result. We will look at the imputation values predicted by the MICE and MissForest packages. \n",
    "\n",
    "<b>Imputation using MICE</b><br>\n",
    "MICE will use predicitve mean matching to try and find a set of observed values that closely match the predicted mean of the missing value and randomly select from that set.\n",
    "\n",
    "<b>Imputation using MissForest</b><br>\n",
    "The MissForest package "
   ]
  },
  {
   "cell_type": "code",
   "execution_count": 22,
   "metadata": {
    "collapsed": false
   },
   "outputs": [
    {
     "name": "stdout",
     "output_type": "stream",
     "text": [
      "  missForest iteration 1 in progress...done!\n",
      "  missForest iteration 2 in progress...done!\n",
      "  missForest iteration 3 in progress...done!\n",
      "  missForest iteration 4 in progress...done!\n",
      "  missForest iteration 5 in progress...done!\n",
      "\n",
      " iter imp variable\n",
      "  1   1  ATT1\n",
      "  2   1  ATT1\n",
      "  3   1  ATT1\n",
      "  4   1  ATT1\n",
      "  5   1  ATT1\n",
      "  6   1  ATT1\n",
      "  7   1  ATT1\n",
      "  8   1  ATT1\n",
      "  9   1  ATT1\n",
      "  10   1  ATT1\n",
      "  11   1  ATT1\n",
      "  12   1  ATT1\n",
      "  13   1  ATT1\n",
      "  14   1  ATT1\n",
      "  15   1  ATT1\n",
      "  16   1  ATT1\n",
      "  17   1  ATT1\n",
      "  18   1  ATT1\n",
      "  19   1  ATT1\n",
      "  20   1  ATT1\n",
      "  21   1  ATT1\n",
      "  22   1  ATT1\n",
      "  23   1  ATT1\n",
      "  24   1  ATT1\n",
      "  25   1  ATT1\n",
      "  26   1  ATT1\n",
      "  27   1  ATT1\n",
      "  28   1  ATT1\n",
      "  29   1  ATT1\n",
      "  30   1  ATT1\n",
      "  31   1  ATT1\n",
      "  32   1  ATT1\n",
      "  33   1  ATT1\n",
      "  34   1  ATT1\n",
      "  35   1  ATT1\n",
      "  36   1  ATT1\n",
      "  37   1  ATT1\n",
      "  38   1  ATT1\n",
      "  39   1  ATT1\n",
      "  40   1  ATT1\n",
      "  41   1  ATT1\n",
      "  42   1  ATT1\n",
      "  43   1  ATT1\n",
      "  44   1  ATT1\n",
      "  45   1  ATT1\n",
      "  46   1  ATT1\n",
      "  47   1  ATT1\n",
      "  48   1  ATT1\n",
      "  49   1  ATT1\n",
      "  50   1  ATT1\n",
      "  missForest iteration 1 in progress...done!\n",
      "  missForest iteration 2 in progress...done!\n",
      "  missForest iteration 3 in progress...done!\n",
      "\n",
      " iter imp variable\n",
      "  1   1  ATT1\n",
      "  2   1  ATT1\n",
      "  3   1  ATT1\n",
      "  4   1  ATT1\n",
      "  5   1  ATT1\n",
      "  6   1  ATT1\n",
      "  7   1  ATT1\n",
      "  8   1  ATT1\n",
      "  9   1  ATT1\n",
      "  10   1  ATT1\n",
      "  11   1  ATT1\n",
      "  12   1  ATT1\n",
      "  13   1  ATT1\n",
      "  14   1  ATT1\n",
      "  15   1  ATT1\n",
      "  16   1  ATT1\n",
      "  17   1  ATT1\n",
      "  18   1  ATT1\n",
      "  19   1  ATT1\n",
      "  20   1  ATT1\n",
      "  21   1  ATT1\n",
      "  22   1  ATT1\n",
      "  23   1  ATT1\n",
      "  24   1  ATT1\n",
      "  25   1  ATT1\n",
      "  26   1  ATT1\n",
      "  27   1  ATT1\n",
      "  28   1  ATT1\n",
      "  29   1  ATT1\n",
      "  30   1  ATT1\n",
      "  31   1  ATT1\n",
      "  32   1  ATT1\n",
      "  33   1  ATT1\n",
      "  34   1  ATT1\n",
      "  35   1  ATT1\n",
      "  36   1  ATT1\n",
      "  37   1  ATT1\n",
      "  38   1  ATT1\n",
      "  39   1  ATT1\n",
      "  40   1  ATT1\n",
      "  41   1  ATT1\n",
      "  42   1  ATT1\n",
      "  43   1  ATT1\n",
      "  44   1  ATT1\n",
      "  45   1  ATT1\n",
      "  46   1  ATT1\n",
      "  47   1  ATT1\n",
      "  48   1  ATT1\n",
      "  49   1  ATT1\n",
      "  50   1  ATT1\n",
      "  missForest iteration 1 in progress...done!\n",
      "  missForest iteration 2 in progress...done!\n",
      "  missForest iteration 3 in progress...done!\n",
      "\n",
      " iter imp variable\n",
      "  1   1  ATT1\n",
      "  2   1  ATT1\n",
      "  3   1  ATT1\n",
      "  4   1  ATT1\n",
      "  5   1  ATT1\n",
      "  6   1  ATT1\n",
      "  7   1  ATT1\n",
      "  8   1  ATT1\n",
      "  9   1  ATT1\n",
      "  10   1  ATT1\n",
      "  11   1  ATT1\n",
      "  12   1  ATT1\n",
      "  13   1  ATT1\n",
      "  14   1  ATT1\n",
      "  15   1  ATT1\n",
      "  16   1  ATT1\n",
      "  17   1  ATT1\n",
      "  18   1  ATT1\n",
      "  19   1  ATT1\n",
      "  20   1  ATT1\n",
      "  21   1  ATT1\n",
      "  22   1  ATT1\n",
      "  23   1  ATT1\n",
      "  24   1  ATT1\n",
      "  25   1  ATT1\n",
      "  26   1  ATT1\n",
      "  27   1  ATT1\n",
      "  28   1  ATT1\n",
      "  29   1  ATT1\n",
      "  30   1  ATT1\n",
      "  31   1  ATT1\n",
      "  32   1  ATT1\n",
      "  33   1  ATT1\n",
      "  34   1  ATT1\n",
      "  35   1  ATT1\n",
      "  36   1  ATT1\n",
      "  37   1  ATT1\n",
      "  38   1  ATT1\n",
      "  39   1  ATT1\n",
      "  40   1  ATT1\n",
      "  41   1  ATT1\n",
      "  42   1  ATT1\n",
      "  43   1  ATT1\n",
      "  44   1  ATT1\n",
      "  45   1  ATT1\n",
      "  46   1  ATT1\n",
      "  47   1  ATT1\n",
      "  48   1  ATT1\n",
      "  49   1  ATT1\n",
      "  50   1  ATT1\n",
      "  missForest iteration 1 in progress...done!\n",
      "  missForest iteration 2 in progress...done!\n",
      "  missForest iteration 3 in progress...done!\n",
      "\n",
      " iter imp variable\n",
      "  1   1  ATT1\n",
      "  2   1  ATT1\n",
      "  3   1  ATT1\n",
      "  4   1  ATT1\n",
      "  5   1  ATT1\n",
      "  6   1  ATT1\n",
      "  7   1  ATT1\n",
      "  8   1  ATT1\n",
      "  9   1  ATT1\n",
      "  10   1  ATT1\n",
      "  11   1  ATT1\n",
      "  12   1  ATT1\n",
      "  13   1  ATT1\n",
      "  14   1  ATT1\n",
      "  15   1  ATT1\n",
      "  16   1  ATT1\n",
      "  17   1  ATT1\n",
      "  18   1  ATT1\n",
      "  19   1  ATT1\n",
      "  20   1  ATT1\n",
      "  21   1  ATT1\n",
      "  22   1  ATT1\n",
      "  23   1  ATT1\n",
      "  24   1  ATT1\n",
      "  25   1  ATT1\n",
      "  26   1  ATT1\n",
      "  27   1  ATT1\n",
      "  28   1  ATT1\n",
      "  29   1  ATT1\n",
      "  30   1  ATT1\n",
      "  31   1  ATT1\n",
      "  32   1  ATT1\n",
      "  33   1  ATT1\n",
      "  34   1  ATT1\n",
      "  35   1  ATT1\n",
      "  36   1  ATT1\n",
      "  37   1  ATT1\n",
      "  38   1  ATT1\n",
      "  39   1  ATT1\n",
      "  40   1  ATT1\n",
      "  41   1  ATT1\n",
      "  42   1  ATT1\n",
      "  43   1  ATT1\n",
      "  44   1  ATT1\n",
      "  45   1  ATT1\n",
      "  46   1  ATT1\n",
      "  47   1  ATT1\n",
      "  48   1  ATT1\n",
      "  49   1  ATT1\n",
      "  50   1  ATT1\n",
      "  missForest iteration 1 in progress...done!\n",
      "  missForest iteration 2 in progress...done!\n",
      "  missForest iteration 3 in progress...done!\n",
      "\n",
      " iter imp variable\n",
      "  1   1  ATT1\n",
      "  2   1  ATT1\n",
      "  3   1  ATT1\n",
      "  4   1  ATT1\n",
      "  5   1  ATT1\n",
      "  6   1  ATT1\n",
      "  7   1  ATT1\n",
      "  8   1  ATT1\n",
      "  9   1  ATT1\n",
      "  10   1  ATT1\n",
      "  11   1  ATT1\n",
      "  12   1  ATT1\n",
      "  13   1  ATT1\n",
      "  14   1  ATT1\n",
      "  15   1  ATT1\n",
      "  16   1  ATT1\n",
      "  17   1  ATT1\n",
      "  18   1  ATT1\n",
      "  19   1  ATT1\n",
      "  20   1  ATT1\n",
      "  21   1  ATT1\n",
      "  22   1  ATT1\n",
      "  23   1  ATT1\n",
      "  24   1  ATT1\n",
      "  25   1  ATT1\n",
      "  26   1  ATT1\n",
      "  27   1  ATT1\n",
      "  28   1  ATT1\n",
      "  29   1  ATT1\n",
      "  30   1  ATT1\n",
      "  31   1  ATT1\n",
      "  32   1  ATT1\n",
      "  33   1  ATT1\n",
      "  34   1  ATT1\n",
      "  35   1  ATT1\n",
      "  36   1  ATT1\n",
      "  37   1  ATT1\n",
      "  38   1  ATT1\n",
      "  39   1  ATT1\n",
      "  40   1  ATT1\n",
      "  41   1  ATT1\n",
      "  42   1  ATT1\n",
      "  43   1  ATT1\n",
      "  44   1  ATT1\n",
      "  45   1  ATT1\n",
      "  46   1  ATT1\n",
      "  47   1  ATT1\n",
      "  48   1  ATT1\n",
      "  49   1  ATT1\n",
      "  50   1  ATT1\n",
      "  missForest iteration 1 in progress...done!\n",
      "  missForest iteration 2 in progress...done!\n",
      "  missForest iteration 3 in progress...done!\n",
      "  missForest iteration 4 in progress...done!\n",
      "  missForest iteration 5 in progress...done!\n",
      "  missForest iteration 6 in progress...done!\n",
      "  missForest iteration 7 in progress...done!\n",
      "\n",
      " iter imp variable\n",
      "  1   1  ATT1\n",
      "  2   1  ATT1\n",
      "  3   1  ATT1\n",
      "  4   1  ATT1\n",
      "  5   1  ATT1\n",
      "  6   1  ATT1\n",
      "  7   1  ATT1\n",
      "  8   1  ATT1\n",
      "  9   1  ATT1\n",
      "  10   1  ATT1\n",
      "  11   1  ATT1\n",
      "  12   1  ATT1\n",
      "  13   1  ATT1\n",
      "  14   1  ATT1\n",
      "  15   1  ATT1\n",
      "  16   1  ATT1\n",
      "  17   1  ATT1\n",
      "  18   1  ATT1\n",
      "  19   1  ATT1\n",
      "  20   1  ATT1\n",
      "  21   1  ATT1\n",
      "  22   1  ATT1\n",
      "  23   1  ATT1\n",
      "  24   1  ATT1\n",
      "  25   1  ATT1\n",
      "  26   1  ATT1\n",
      "  27   1  ATT1\n",
      "  28   1  ATT1\n",
      "  29   1  ATT1\n",
      "  30   1  ATT1\n",
      "  31   1  ATT1\n",
      "  32   1  ATT1\n",
      "  33   1  ATT1\n",
      "  34   1  ATT1\n",
      "  35   1  ATT1\n",
      "  36   1  ATT1\n",
      "  37   1  ATT1\n",
      "  38   1  ATT1\n",
      "  39   1  ATT1\n",
      "  40   1  ATT1\n",
      "  41   1  ATT1\n",
      "  42   1  ATT1\n",
      "  43   1  ATT1\n",
      "  44   1  ATT1\n",
      "  45   1  ATT1\n",
      "  46   1  ATT1\n",
      "  47   1  ATT1\n",
      "  48   1  ATT1\n",
      "  49   1  ATT1\n",
      "  50   1  ATT1\n",
      "  missForest iteration 1 in progress...done!\n",
      "  missForest iteration 2 in progress...done!\n",
      "  missForest iteration 3 in progress...done!\n",
      "\n",
      " iter imp variable\n",
      "  1   1  ATT1\n",
      "  2   1  ATT1\n",
      "  3   1  ATT1\n",
      "  4   1  ATT1\n",
      "  5   1  ATT1\n",
      "  6   1  ATT1\n",
      "  7   1  ATT1\n",
      "  8   1  ATT1\n",
      "  9   1  ATT1\n",
      "  10   1  ATT1\n",
      "  11   1  ATT1\n",
      "  12   1  ATT1\n",
      "  13   1  ATT1\n",
      "  14   1  ATT1\n",
      "  15   1  ATT1\n",
      "  16   1  ATT1\n",
      "  17   1  ATT1\n",
      "  18   1  ATT1\n",
      "  19   1  ATT1\n",
      "  20   1  ATT1\n",
      "  21   1  ATT1\n",
      "  22   1  ATT1\n",
      "  23   1  ATT1\n",
      "  24   1  ATT1\n",
      "  25   1  ATT1\n",
      "  26   1  ATT1\n",
      "  27   1  ATT1\n",
      "  28   1  ATT1\n",
      "  29   1  ATT1\n",
      "  30   1  ATT1\n",
      "  31   1  ATT1\n",
      "  32   1  ATT1\n",
      "  33   1  ATT1\n",
      "  34   1  ATT1\n",
      "  35   1  ATT1\n",
      "  36   1  ATT1\n",
      "  37   1  ATT1\n",
      "  38   1  ATT1\n",
      "  39   1  ATT1\n",
      "  40   1  ATT1\n",
      "  41   1  ATT1\n",
      "  42   1  ATT1\n",
      "  43   1  ATT1\n",
      "  44   1  ATT1\n",
      "  45   1  ATT1\n",
      "  46   1  ATT1\n",
      "  47   1  ATT1\n",
      "  48   1  ATT1\n",
      "  49   1  ATT1\n",
      "  50   1  ATT1\n",
      "  missForest iteration 1 in progress...done!\n",
      "  missForest iteration 2 in progress...done!\n",
      "  missForest iteration 3 in progress...done!\n",
      "  missForest iteration 4 in progress...done!\n",
      "  missForest iteration 5 in progress...done!\n",
      "\n",
      " iter imp variable\n",
      "  1   1  ATT1\n",
      "  2   1  ATT1\n",
      "  3   1  ATT1\n",
      "  4   1  ATT1\n",
      "  5   1  ATT1\n",
      "  6   1  ATT1\n",
      "  7   1  ATT1\n",
      "  8   1  ATT1\n",
      "  9   1  ATT1\n",
      "  10   1  ATT1\n",
      "  11   1  ATT1\n",
      "  12   1  ATT1\n",
      "  13   1  ATT1\n",
      "  14   1  ATT1\n",
      "  15   1  ATT1\n",
      "  16   1  ATT1\n",
      "  17   1  ATT1\n",
      "  18   1  ATT1\n",
      "  19   1  ATT1\n",
      "  20   1  ATT1\n",
      "  21   1  ATT1\n",
      "  22   1  ATT1\n",
      "  23   1  ATT1\n",
      "  24   1  ATT1\n",
      "  25   1  ATT1\n",
      "  26   1  ATT1\n",
      "  27   1  ATT1\n",
      "  28   1  ATT1\n",
      "  29   1  ATT1\n",
      "  30   1  ATT1\n",
      "  31   1  ATT1\n",
      "  32   1  ATT1\n",
      "  33   1  ATT1\n",
      "  34   1  ATT1\n",
      "  35   1  ATT1\n",
      "  36   1  ATT1\n",
      "  37   1  ATT1\n",
      "  38   1  ATT1\n",
      "  39   1  ATT1\n",
      "  40   1  ATT1\n",
      "  41   1  ATT1\n",
      "  42   1  ATT1\n",
      "  43   1  ATT1\n",
      "  44   1  ATT1\n",
      "  45   1  ATT1\n",
      "  46   1  ATT1\n",
      "  47   1  ATT1\n",
      "  48   1  ATT1\n",
      "  49   1  ATT1\n",
      "  50   1  ATT1\n",
      "  missForest iteration 1 in progress...done!\n",
      "  missForest iteration 2 in progress...done!\n",
      "  missForest iteration 3 in progress...done!\n",
      "  missForest iteration 4 in progress...done!\n",
      "\n",
      " iter imp variable\n",
      "  1   1  ATT1\n",
      "  2   1  ATT1\n",
      "  3   1  ATT1\n",
      "  4   1  ATT1\n",
      "  5   1  ATT1\n",
      "  6   1  ATT1\n",
      "  7   1  ATT1\n",
      "  8   1  ATT1\n",
      "  9   1  ATT1\n",
      "  10   1  ATT1\n",
      "  11   1  ATT1\n",
      "  12   1  ATT1\n",
      "  13   1  ATT1\n",
      "  14   1  ATT1\n",
      "  15   1  ATT1\n",
      "  16   1  ATT1\n",
      "  17   1  ATT1\n",
      "  18   1  ATT1\n",
      "  19   1  ATT1\n",
      "  20   1  ATT1\n",
      "  21   1  ATT1\n",
      "  22   1  ATT1\n",
      "  23   1  ATT1\n",
      "  24   1  ATT1\n",
      "  25   1  ATT1\n",
      "  26   1  ATT1\n",
      "  27   1  ATT1\n",
      "  28   1  ATT1\n",
      "  29   1  ATT1\n",
      "  30   1  ATT1\n",
      "  31   1  ATT1\n",
      "  32   1  ATT1\n",
      "  33   1  ATT1\n",
      "  34   1  ATT1\n",
      "  35   1  ATT1\n",
      "  36   1  ATT1\n",
      "  37   1  ATT1\n",
      "  38   1  ATT1\n",
      "  39   1  ATT1\n",
      "  40   1  ATT1\n",
      "  41   1  ATT1\n",
      "  42   1  ATT1\n",
      "  43   1  ATT1\n",
      "  44   1  ATT1\n",
      "  45   1  ATT1\n",
      "  46   1  ATT1\n",
      "  47   1  ATT1\n",
      "  48   1  ATT1\n",
      "  49   1  ATT1\n",
      "  50   1  ATT1\n",
      "  missForest iteration 1 in progress...done!\n",
      "  missForest iteration 2 in progress...done!\n",
      "  missForest iteration 3 in progress...done!\n",
      "\n",
      " iter imp variable\n",
      "  1   1  ATT1\n",
      "  2   1  ATT1\n",
      "  3   1  ATT1\n",
      "  4   1  ATT1\n",
      "  5   1  ATT1\n",
      "  6   1  ATT1\n",
      "  7   1  ATT1\n",
      "  8   1  ATT1\n",
      "  9   1  ATT1\n",
      "  10   1  ATT1\n",
      "  11   1  ATT1\n",
      "  12   1  ATT1\n",
      "  13   1  ATT1\n",
      "  14   1  ATT1\n",
      "  15   1  ATT1\n",
      "  16   1  ATT1\n",
      "  17   1  ATT1\n",
      "  18   1  ATT1\n",
      "  19   1  ATT1\n",
      "  20   1  ATT1\n",
      "  21   1  ATT1\n",
      "  22   1  ATT1\n",
      "  23   1  ATT1\n",
      "  24   1  ATT1\n",
      "  25   1  ATT1\n",
      "  26   1  ATT1\n",
      "  27   1  ATT1\n",
      "  28   1  ATT1\n",
      "  29   1  ATT1\n",
      "  30   1  ATT1\n",
      "  31   1  ATT1\n",
      "  32   1  ATT1\n",
      "  33   1  ATT1\n",
      "  34   1  ATT1\n",
      "  35   1  ATT1\n",
      "  36   1  ATT1\n",
      "  37   1  ATT1\n",
      "  38   1  ATT1\n",
      "  39   1  ATT1\n",
      "  40   1  ATT1\n",
      "  41   1  ATT1\n",
      "  42   1  ATT1\n",
      "  43   1  ATT1\n",
      "  44   1  ATT1\n",
      "  45   1  ATT1\n",
      "  46   1  ATT1\n",
      "  47   1  ATT1\n",
      "  48   1  ATT1\n",
      "  49   1  ATT1\n",
      "  50   1  ATT1\n",
      "  missForest iteration 1 in progress...done!\n",
      "  missForest iteration 2 in progress...done!\n",
      "  missForest iteration 3 in progress...done!\n",
      "  missForest iteration 4 in progress...done!\n",
      "  missForest iteration 5 in progress...done!\n",
      "  missForest iteration 6 in progress...done!\n",
      "\n",
      " iter imp variable\n",
      "  1   1  ATT3\n",
      "  2   1  ATT3\n",
      "  3   1  ATT3\n",
      "  4   1  ATT3\n",
      "  5   1  ATT3\n",
      "  6   1  ATT3\n",
      "  7   1  ATT3\n",
      "  8   1  ATT3\n",
      "  9   1  ATT3\n",
      "  10   1  ATT3\n",
      "  11   1  ATT3\n",
      "  12   1  ATT3\n",
      "  13   1  ATT3\n",
      "  14   1  ATT3\n",
      "  15   1  ATT3\n",
      "  16   1  ATT3\n",
      "  17   1  ATT3\n",
      "  18   1  ATT3\n",
      "  19   1  ATT3\n",
      "  20   1  ATT3\n",
      "  21   1  ATT3\n",
      "  22   1  ATT3\n",
      "  23   1  ATT3\n",
      "  24   1  ATT3\n",
      "  25   1  ATT3\n",
      "  26   1  ATT3\n",
      "  27   1  ATT3\n",
      "  28   1  ATT3\n",
      "  29   1  ATT3\n",
      "  30   1  ATT3\n",
      "  31   1  ATT3\n",
      "  32   1  ATT3\n",
      "  33   1  ATT3\n",
      "  34   1  ATT3\n",
      "  35   1  ATT3\n",
      "  36   1  ATT3\n",
      "  37   1  ATT3\n",
      "  38   1  ATT3\n",
      "  39   1  ATT3\n",
      "  40   1  ATT3\n",
      "  41   1  ATT3\n",
      "  42   1  ATT3\n",
      "  43   1  ATT3\n",
      "  44   1  ATT3\n",
      "  45   1  ATT3\n",
      "  46   1  ATT3\n",
      "  47   1  ATT3\n",
      "  48   1  ATT3\n",
      "  49   1  ATT3\n",
      "  50   1  ATT3\n",
      "  missForest iteration 1 in progress...done!\n",
      "  missForest iteration 2 in progress...done!\n",
      "  missForest iteration 3 in progress...done!\n",
      "  missForest iteration 4 in progress...done!\n",
      "\n",
      " iter imp variable\n",
      "  1   1  ATT3\n",
      "  2   1  ATT3\n",
      "  3   1  ATT3\n",
      "  4   1  ATT3\n",
      "  5   1  ATT3\n",
      "  6   1  ATT3\n",
      "  7   1  ATT3\n",
      "  8   1  ATT3\n",
      "  9   1  ATT3\n",
      "  10   1  ATT3\n",
      "  11   1  ATT3\n",
      "  12   1  ATT3\n",
      "  13   1  ATT3\n",
      "  14   1  ATT3\n",
      "  15   1  ATT3\n",
      "  16   1  ATT3\n",
      "  17   1  ATT3\n",
      "  18   1  ATT3\n",
      "  19   1  ATT3\n",
      "  20   1  ATT3\n",
      "  21   1  ATT3\n",
      "  22   1  ATT3\n",
      "  23   1  ATT3\n",
      "  24   1  ATT3\n",
      "  25   1  ATT3\n",
      "  26   1  ATT3\n",
      "  27   1  ATT3\n",
      "  28   1  ATT3\n",
      "  29   1  ATT3\n",
      "  30   1  ATT3\n",
      "  31   1  ATT3\n",
      "  32   1  ATT3\n",
      "  33   1  ATT3\n",
      "  34   1  ATT3\n",
      "  35   1  ATT3\n",
      "  36   1  ATT3\n",
      "  37   1  ATT3\n",
      "  38   1  ATT3\n",
      "  39   1  ATT3\n",
      "  40   1  ATT3\n",
      "  41   1  ATT3\n",
      "  42   1  ATT3\n",
      "  43   1  ATT3\n",
      "  44   1  ATT3\n",
      "  45   1  ATT3\n",
      "  46   1  ATT3\n",
      "  47   1  ATT3\n",
      "  48   1  ATT3\n",
      "  49   1  ATT3\n",
      "  50   1  ATT3\n",
      "  missForest iteration 1 in progress...done!\n",
      "  missForest iteration 2 in progress...done!\n",
      "  missForest iteration 3 in progress...done!\n",
      "  missForest iteration 4 in progress...done!\n",
      "  missForest iteration 5 in progress...done!\n",
      "\n",
      " iter imp variable\n",
      "  1   1  ATT3\n",
      "  2   1  ATT3\n",
      "  3   1  ATT3\n",
      "  4   1  ATT3\n",
      "  5   1  ATT3\n",
      "  6   1  ATT3\n",
      "  7   1  ATT3\n",
      "  8   1  ATT3\n",
      "  9   1  ATT3\n",
      "  10   1  ATT3\n",
      "  11   1  ATT3\n",
      "  12   1  ATT3\n",
      "  13   1  ATT3\n",
      "  14   1  ATT3\n",
      "  15   1  ATT3\n",
      "  16   1  ATT3\n",
      "  17   1  ATT3\n",
      "  18   1  ATT3\n",
      "  19   1  ATT3\n",
      "  20   1  ATT3\n",
      "  21   1  ATT3\n",
      "  22   1  ATT3\n",
      "  23   1  ATT3\n",
      "  24   1  ATT3\n",
      "  25   1  ATT3\n",
      "  26   1  ATT3\n",
      "  27   1  ATT3\n",
      "  28   1  ATT3\n",
      "  29   1  ATT3\n",
      "  30   1  ATT3\n",
      "  31   1  ATT3\n",
      "  32   1  ATT3\n",
      "  33   1  ATT3\n",
      "  34   1  ATT3\n",
      "  35   1  ATT3\n",
      "  36   1  ATT3\n",
      "  37   1  ATT3\n",
      "  38   1  ATT3\n",
      "  39   1  ATT3\n",
      "  40   1  ATT3\n",
      "  41   1  ATT3\n",
      "  42   1  ATT3\n",
      "  43   1  ATT3\n",
      "  44   1  ATT3\n",
      "  45   1  ATT3\n",
      "  46   1  ATT3\n",
      "  47   1  ATT3\n",
      "  48   1  ATT3\n",
      "  49   1  ATT3\n",
      "  50   1  ATT3\n",
      "  missForest iteration 1 in progress...done!\n",
      "  missForest iteration 2 in progress...done!\n",
      "  missForest iteration 3 in progress...done!\n",
      "  missForest iteration 4 in progress...done!\n",
      "\n",
      " iter imp variable\n",
      "  1   1  ATT3\n",
      "  2   1  ATT3\n",
      "  3   1  ATT3\n",
      "  4   1  ATT3\n",
      "  5   1  ATT3\n",
      "  6   1  ATT3\n",
      "  7   1  ATT3\n",
      "  8   1  ATT3\n",
      "  9   1  ATT3\n",
      "  10   1  ATT3\n",
      "  11   1  ATT3\n",
      "  12   1  ATT3\n",
      "  13   1  ATT3\n",
      "  14   1  ATT3\n",
      "  15   1  ATT3\n",
      "  16   1  ATT3\n",
      "  17   1  ATT3\n",
      "  18   1  ATT3\n",
      "  19   1  ATT3\n",
      "  20   1  ATT3\n",
      "  21   1  ATT3\n",
      "  22   1  ATT3\n",
      "  23   1  ATT3\n",
      "  24   1  ATT3\n",
      "  25   1  ATT3\n",
      "  26   1  ATT3\n",
      "  27   1  ATT3\n",
      "  28   1  ATT3\n",
      "  29   1  ATT3\n",
      "  30   1  ATT3\n",
      "  31   1  ATT3\n",
      "  32   1  ATT3\n",
      "  33   1  ATT3\n",
      "  34   1  ATT3\n",
      "  35   1  ATT3\n",
      "  36   1  ATT3\n",
      "  37   1  ATT3\n",
      "  38   1  ATT3\n",
      "  39   1  ATT3\n",
      "  40   1  ATT3\n",
      "  41   1  ATT3\n",
      "  42   1  ATT3\n",
      "  43   1  ATT3\n",
      "  44   1  ATT3\n",
      "  45   1  ATT3\n",
      "  46   1  ATT3\n",
      "  47   1  ATT3\n",
      "  48   1  ATT3\n",
      "  49   1  ATT3\n",
      "  50   1  ATT3\n",
      "  missForest iteration 1 in progress...done!\n",
      "  missForest iteration 2 in progress...done!\n",
      "  missForest iteration 3 in progress...done!\n",
      "\n",
      " iter imp variable\n",
      "  1   1  ATT3\n",
      "  2   1  ATT3\n",
      "  3   1  ATT3\n",
      "  4   1  ATT3\n",
      "  5   1  ATT3\n",
      "  6   1  ATT3\n",
      "  7   1  ATT3\n",
      "  8   1  ATT3\n",
      "  9   1  ATT3\n",
      "  10   1  ATT3\n",
      "  11   1  ATT3\n",
      "  12   1  ATT3\n",
      "  13   1  ATT3\n",
      "  14   1  ATT3\n",
      "  15   1  ATT3\n",
      "  16   1  ATT3\n",
      "  17   1  ATT3\n",
      "  18   1  ATT3\n",
      "  19   1  ATT3\n",
      "  20   1  ATT3\n",
      "  21   1  ATT3\n",
      "  22   1  ATT3\n",
      "  23   1  ATT3\n",
      "  24   1  ATT3\n",
      "  25   1  ATT3\n",
      "  26   1  ATT3\n",
      "  27   1  ATT3\n",
      "  28   1  ATT3\n",
      "  29   1  ATT3\n",
      "  30   1  ATT3\n",
      "  31   1  ATT3\n",
      "  32   1  ATT3\n",
      "  33   1  ATT3\n",
      "  34   1  ATT3\n",
      "  35   1  ATT3\n",
      "  36   1  ATT3\n",
      "  37   1  ATT3\n",
      "  38   1  ATT3\n",
      "  39   1  ATT3\n",
      "  40   1  ATT3\n",
      "  41   1  ATT3\n",
      "  42   1  ATT3\n",
      "  43   1  ATT3\n",
      "  44   1  ATT3\n",
      "  45   1  ATT3\n",
      "  46   1  ATT3\n",
      "  47   1  ATT3\n",
      "  48   1  ATT3\n",
      "  49   1  ATT3\n",
      "  50   1  ATT3\n",
      "  missForest iteration 1 in progress...done!\n",
      "  missForest iteration 2 in progress...done!\n",
      "  missForest iteration 3 in progress...done!\n",
      "\n",
      " iter imp variable\n",
      "  1   1  ATT3\n",
      "  2   1  ATT3\n",
      "  3   1  ATT3\n",
      "  4   1  ATT3\n",
      "  5   1  ATT3\n",
      "  6   1  ATT3\n",
      "  7   1  ATT3\n",
      "  8   1  ATT3\n",
      "  9   1  ATT3\n",
      "  10   1  ATT3\n",
      "  11   1  ATT3\n",
      "  12   1  ATT3\n",
      "  13   1  ATT3\n",
      "  14   1  ATT3\n",
      "  15   1  ATT3\n",
      "  16   1  ATT3\n",
      "  17   1  ATT3\n",
      "  18   1  ATT3\n",
      "  19   1  ATT3\n",
      "  20   1  ATT3\n",
      "  21   1  ATT3\n",
      "  22   1  ATT3\n",
      "  23   1  ATT3\n",
      "  24   1  ATT3\n",
      "  25   1  ATT3\n",
      "  26   1  ATT3\n",
      "  27   1  ATT3\n",
      "  28   1  ATT3\n",
      "  29   1  ATT3\n",
      "  30   1  ATT3\n",
      "  31   1  ATT3\n",
      "  32   1  ATT3\n",
      "  33   1  ATT3\n",
      "  34   1  ATT3\n",
      "  35   1  ATT3\n",
      "  36   1  ATT3\n",
      "  37   1  ATT3\n",
      "  38   1  ATT3\n",
      "  39   1  ATT3\n",
      "  40   1  ATT3\n",
      "  41   1  ATT3\n",
      "  42   1  ATT3\n",
      "  43   1  ATT3\n",
      "  44   1  ATT3\n",
      "  45   1  ATT3\n",
      "  46   1  ATT3\n",
      "  47   1  ATT3\n",
      "  48   1  ATT3\n",
      "  49   1  ATT3\n",
      "  50   1  ATT3\n",
      "  missForest iteration 1 in progress...done!\n",
      "  missForest iteration 2 in progress...done!\n",
      "  missForest iteration 3 in progress...done!\n",
      "  missForest iteration 4 in progress...done!\n",
      "  missForest iteration 5 in progress...done!\n",
      "\n",
      " iter imp variable\n",
      "  1   1  ATT3\n",
      "  2   1  ATT3\n",
      "  3   1  ATT3\n",
      "  4   1  ATT3\n",
      "  5   1  ATT3\n",
      "  6   1  ATT3\n",
      "  7   1  ATT3\n",
      "  8   1  ATT3\n",
      "  9   1  ATT3\n",
      "  10   1  ATT3\n",
      "  11   1  ATT3\n",
      "  12   1  ATT3\n",
      "  13   1  ATT3\n",
      "  14   1  ATT3\n",
      "  15   1  ATT3\n",
      "  16   1  ATT3\n",
      "  17   1  ATT3\n",
      "  18   1  ATT3\n",
      "  19   1  ATT3\n",
      "  20   1  ATT3\n",
      "  21   1  ATT3\n",
      "  22   1  ATT3\n",
      "  23   1  ATT3\n",
      "  24   1  ATT3\n",
      "  25   1  ATT3\n",
      "  26   1  ATT3\n",
      "  27   1  ATT3\n",
      "  28   1  ATT3\n",
      "  29   1  ATT3\n",
      "  30   1  ATT3\n",
      "  31   1  ATT3\n",
      "  32   1  ATT3\n",
      "  33   1  ATT3\n",
      "  34   1  ATT3\n",
      "  35   1  ATT3\n",
      "  36   1  ATT3\n",
      "  37   1  ATT3\n",
      "  38   1  ATT3\n",
      "  39   1  ATT3\n",
      "  40   1  ATT3\n",
      "  41   1  ATT3\n",
      "  42   1  ATT3\n",
      "  43   1  ATT3\n",
      "  44   1  ATT3\n",
      "  45   1  ATT3\n",
      "  46   1  ATT3\n",
      "  47   1  ATT3\n",
      "  48   1  ATT3\n",
      "  49   1  ATT3\n",
      "  50   1  ATT3\n",
      "  missForest iteration 1 in progress...done!\n",
      "  missForest iteration 2 in progress...done!\n",
      "  missForest iteration 3 in progress...done!\n",
      "\n",
      " iter imp variable\n",
      "  1   1  ATT3\n",
      "  2   1  ATT3\n",
      "  3   1  ATT3\n",
      "  4   1  ATT3\n",
      "  5   1  ATT3\n",
      "  6   1  ATT3\n",
      "  7   1  ATT3\n",
      "  8   1  ATT3\n",
      "  9   1  ATT3\n",
      "  10   1  ATT3\n",
      "  11   1  ATT3\n",
      "  12   1  ATT3\n",
      "  13   1  ATT3\n",
      "  14   1  ATT3\n",
      "  15   1  ATT3\n",
      "  16   1  ATT3\n",
      "  17   1  ATT3\n",
      "  18   1  ATT3\n",
      "  19   1  ATT3\n",
      "  20   1  ATT3\n",
      "  21   1  ATT3\n",
      "  22   1  ATT3\n",
      "  23   1  ATT3\n",
      "  24   1  ATT3\n",
      "  25   1  ATT3\n",
      "  26   1  ATT3\n",
      "  27   1  ATT3\n",
      "  28   1  ATT3\n",
      "  29   1  ATT3\n",
      "  30   1  ATT3\n",
      "  31   1  ATT3\n",
      "  32   1  ATT3\n",
      "  33   1  ATT3\n",
      "  34   1  ATT3\n",
      "  35   1  ATT3\n",
      "  36   1  ATT3\n",
      "  37   1  ATT3\n",
      "  38   1  ATT3\n",
      "  39   1  ATT3\n",
      "  40   1  ATT3\n",
      "  41   1  ATT3\n",
      "  42   1  ATT3\n",
      "  43   1  ATT3\n",
      "  44   1  ATT3\n",
      "  45   1  ATT3\n",
      "  46   1  ATT3\n",
      "  47   1  ATT3\n",
      "  48   1  ATT3\n",
      "  49   1  ATT3\n",
      "  50   1  ATT3\n",
      "  missForest iteration 1 in progress...done!\n",
      "  missForest iteration 2 in progress...done!\n",
      "  missForest iteration 3 in progress...done!\n",
      "  missForest iteration 4 in progress...done!\n",
      "  missForest iteration 5 in progress...done!\n",
      "\n",
      " iter imp variable\n",
      "  1   1  ATT3\n",
      "  2   1  ATT3\n",
      "  3   1  ATT3\n",
      "  4   1  ATT3\n",
      "  5   1  ATT3\n",
      "  6   1  ATT3\n",
      "  7   1  ATT3\n",
      "  8   1  ATT3\n",
      "  9   1  ATT3\n",
      "  10   1  ATT3\n",
      "  11   1  ATT3\n",
      "  12   1  ATT3\n",
      "  13   1  ATT3\n",
      "  14   1  ATT3\n",
      "  15   1  ATT3\n",
      "  16   1  ATT3\n",
      "  17   1  ATT3\n",
      "  18   1  ATT3\n",
      "  19   1  ATT3\n",
      "  20   1  ATT3\n",
      "  21   1  ATT3\n",
      "  22   1  ATT3\n",
      "  23   1  ATT3\n",
      "  24   1  ATT3\n",
      "  25   1  ATT3\n",
      "  26   1  ATT3\n",
      "  27   1  ATT3\n",
      "  28   1  ATT3\n",
      "  29   1  ATT3\n",
      "  30   1  ATT3\n",
      "  31   1  ATT3\n",
      "  32   1  ATT3\n",
      "  33   1  ATT3\n",
      "  34   1  ATT3\n",
      "  35   1  ATT3\n",
      "  36   1  ATT3\n",
      "  37   1  ATT3\n",
      "  38   1  ATT3\n",
      "  39   1  ATT3\n",
      "  40   1  ATT3\n",
      "  41   1  ATT3\n",
      "  42   1  ATT3\n",
      "  43   1  ATT3\n",
      "  44   1  ATT3\n",
      "  45   1  ATT3\n",
      "  46   1  ATT3\n",
      "  47   1  ATT3\n",
      "  48   1  ATT3\n",
      "  49   1  ATT3\n",
      "  50   1  ATT3\n",
      "  missForest iteration 1 in progress...done!\n",
      "  missForest iteration 2 in progress...done!\n",
      "  missForest iteration 3 in progress...done!\n",
      "\n",
      " iter imp variable\n",
      "  1   1  ATT3\n",
      "  2   1  ATT3\n",
      "  3   1  ATT3\n",
      "  4   1  ATT3\n",
      "  5   1  ATT3\n",
      "  6   1  ATT3\n",
      "  7   1  ATT3\n",
      "  8   1  ATT3\n",
      "  9   1  ATT3\n",
      "  10   1  ATT3\n",
      "  11   1  ATT3\n",
      "  12   1  ATT3\n",
      "  13   1  ATT3\n",
      "  14   1  ATT3\n",
      "  15   1  ATT3\n",
      "  16   1  ATT3\n",
      "  17   1  ATT3\n",
      "  18   1  ATT3\n",
      "  19   1  ATT3\n",
      "  20   1  ATT3\n",
      "  21   1  ATT3\n",
      "  22   1  ATT3\n",
      "  23   1  ATT3\n",
      "  24   1  ATT3\n",
      "  25   1  ATT3\n",
      "  26   1  ATT3\n",
      "  27   1  ATT3\n",
      "  28   1  ATT3\n",
      "  29   1  ATT3\n",
      "  30   1  ATT3\n",
      "  31   1  ATT3\n",
      "  32   1  ATT3\n",
      "  33   1  ATT3\n",
      "  34   1  ATT3\n",
      "  35   1  ATT3\n",
      "  36   1  ATT3\n",
      "  37   1  ATT3\n",
      "  38   1  ATT3\n",
      "  39   1  ATT3\n",
      "  40   1  ATT3\n",
      "  41   1  ATT3\n",
      "  42   1  ATT3\n",
      "  43   1  ATT3\n",
      "  44   1  ATT3\n",
      "  45   1  ATT3\n",
      "  46   1  ATT3\n",
      "  47   1  ATT3\n",
      "  48   1  ATT3\n",
      "  49   1  ATT3\n",
      "  50   1  ATT3\n",
      "  missForest iteration 1 in progress...done!\n",
      "  missForest iteration 2 in progress...done!\n",
      "  missForest iteration 3 in progress...done!\n",
      "\n",
      " iter imp variable\n",
      "  1   1  ATT4\n",
      "  2   1  ATT4\n",
      "  3   1  ATT4\n",
      "  4   1  ATT4\n",
      "  5   1  ATT4\n",
      "  6   1  ATT4\n",
      "  7   1  ATT4\n",
      "  8   1  ATT4\n",
      "  9   1  ATT4\n",
      "  10   1  ATT4\n",
      "  11   1  ATT4\n",
      "  12   1  ATT4\n",
      "  13   1  ATT4\n",
      "  14   1  ATT4\n",
      "  15   1  ATT4\n",
      "  16   1  ATT4\n",
      "  17   1  ATT4\n",
      "  18   1  ATT4\n",
      "  19   1  ATT4\n",
      "  20   1  ATT4\n",
      "  21   1  ATT4\n",
      "  22   1  ATT4\n",
      "  23   1  ATT4\n",
      "  24   1  ATT4\n",
      "  25   1  ATT4\n",
      "  26   1  ATT4\n",
      "  27   1  ATT4\n",
      "  28   1  ATT4\n",
      "  29   1  ATT4\n",
      "  30   1  ATT4\n",
      "  31   1  ATT4\n",
      "  32   1  ATT4\n",
      "  33   1  ATT4\n",
      "  34   1  ATT4\n",
      "  35   1  ATT4\n",
      "  36   1  ATT4\n",
      "  37   1  ATT4\n",
      "  38   1  ATT4\n",
      "  39   1  ATT4\n",
      "  40   1  ATT4\n",
      "  41   1  ATT4\n",
      "  42   1  ATT4\n",
      "  43   1  ATT4\n",
      "  44   1  ATT4\n",
      "  45   1  ATT4\n",
      "  46   1  ATT4\n",
      "  47   1  ATT4\n",
      "  48   1  ATT4\n",
      "  49   1  ATT4\n",
      "  50   1  ATT4\n",
      "  missForest iteration 1 in progress...done!\n",
      "  missForest iteration 2 in progress...done!\n",
      "  missForest iteration 3 in progress...done!\n",
      "\n",
      " iter imp variable\n",
      "  1   1  ATT4\n",
      "  2   1  ATT4\n",
      "  3   1  ATT4\n",
      "  4   1  ATT4\n",
      "  5   1  ATT4\n",
      "  6   1  ATT4\n",
      "  7   1  ATT4\n",
      "  8   1  ATT4\n",
      "  9   1  ATT4\n",
      "  10   1  ATT4\n",
      "  11   1  ATT4\n",
      "  12   1  ATT4\n",
      "  13   1  ATT4\n",
      "  14   1  ATT4\n",
      "  15   1  ATT4\n",
      "  16   1  ATT4\n",
      "  17   1  ATT4\n",
      "  18   1  ATT4\n",
      "  19   1  ATT4\n",
      "  20   1  ATT4\n",
      "  21   1  ATT4\n",
      "  22   1  ATT4\n",
      "  23   1  ATT4\n",
      "  24   1  ATT4\n",
      "  25   1  ATT4\n",
      "  26   1  ATT4\n",
      "  27   1  ATT4\n",
      "  28   1  ATT4\n",
      "  29   1  ATT4\n",
      "  30   1  ATT4\n",
      "  31   1  ATT4\n",
      "  32   1  ATT4\n",
      "  33   1  ATT4\n",
      "  34   1  ATT4\n",
      "  35   1  ATT4\n",
      "  36   1  ATT4\n",
      "  37   1  ATT4\n",
      "  38   1  ATT4\n",
      "  39   1  ATT4\n",
      "  40   1  ATT4\n",
      "  41   1  ATT4\n",
      "  42   1  ATT4\n",
      "  43   1  ATT4\n",
      "  44   1  ATT4\n",
      "  45   1  ATT4\n",
      "  46   1  ATT4\n",
      "  47   1  ATT4\n",
      "  48   1  ATT4\n",
      "  49   1  ATT4\n",
      "  50   1  ATT4\n",
      "  missForest iteration 1 in progress...done!\n",
      "  missForest iteration 2 in progress...done!\n",
      "  missForest iteration 3 in progress...done!\n",
      "  missForest iteration 4 in progress...done!\n",
      "\n",
      " iter imp variable\n",
      "  1   1  ATT4\n",
      "  2   1  ATT4\n",
      "  3   1  ATT4\n",
      "  4   1  ATT4\n",
      "  5   1  ATT4\n",
      "  6   1  ATT4\n",
      "  7   1  ATT4\n",
      "  8   1  ATT4\n",
      "  9   1  ATT4\n",
      "  10   1  ATT4\n",
      "  11   1  ATT4\n",
      "  12   1  ATT4\n",
      "  13   1  ATT4\n",
      "  14   1  ATT4\n",
      "  15   1  ATT4\n",
      "  16   1  ATT4\n",
      "  17   1  ATT4\n",
      "  18   1  ATT4\n",
      "  19   1  ATT4\n",
      "  20   1  ATT4\n",
      "  21   1  ATT4\n",
      "  22   1  ATT4\n",
      "  23   1  ATT4\n",
      "  24   1  ATT4\n",
      "  25   1  ATT4\n",
      "  26   1  ATT4\n",
      "  27   1  ATT4\n",
      "  28   1  ATT4\n",
      "  29   1  ATT4\n",
      "  30   1  ATT4\n",
      "  31   1  ATT4\n",
      "  32   1  ATT4\n",
      "  33   1  ATT4\n",
      "  34   1  ATT4\n",
      "  35   1  ATT4\n",
      "  36   1  ATT4\n",
      "  37   1  ATT4\n",
      "  38   1  ATT4\n",
      "  39   1  ATT4\n",
      "  40   1  ATT4\n",
      "  41   1  ATT4\n",
      "  42   1  ATT4\n",
      "  43   1  ATT4\n",
      "  44   1  ATT4\n",
      "  45   1  ATT4\n",
      "  46   1  ATT4\n",
      "  47   1  ATT4\n",
      "  48   1  ATT4\n",
      "  49   1  ATT4\n",
      "  50   1  ATT4\n",
      "  missForest iteration 1 in progress...done!\n",
      "  missForest iteration 2 in progress...done!\n",
      "  missForest iteration 3 in progress...done!\n",
      "  missForest iteration 4 in progress...done!\n",
      "\n",
      " iter imp variable\n",
      "  1   1  ATT4\n",
      "  2   1  ATT4\n",
      "  3   1  ATT4\n",
      "  4   1  ATT4\n",
      "  5   1  ATT4\n",
      "  6   1  ATT4\n",
      "  7   1  ATT4\n",
      "  8   1  ATT4\n",
      "  9   1  ATT4\n",
      "  10   1  ATT4\n",
      "  11   1  ATT4\n",
      "  12   1  ATT4\n",
      "  13   1  ATT4\n",
      "  14   1  ATT4\n",
      "  15   1  ATT4\n",
      "  16   1  ATT4\n",
      "  17   1  ATT4\n",
      "  18   1  ATT4\n",
      "  19   1  ATT4\n",
      "  20   1  ATT4\n",
      "  21   1  ATT4\n",
      "  22   1  ATT4\n",
      "  23   1  ATT4\n",
      "  24   1  ATT4\n",
      "  25   1  ATT4\n",
      "  26   1  ATT4\n",
      "  27   1  ATT4\n",
      "  28   1  ATT4\n",
      "  29   1  ATT4\n",
      "  30   1  ATT4\n",
      "  31   1  ATT4\n",
      "  32   1  ATT4\n",
      "  33   1  ATT4\n",
      "  34   1  ATT4\n",
      "  35   1  ATT4\n",
      "  36   1  ATT4\n",
      "  37   1  ATT4\n",
      "  38   1  ATT4\n",
      "  39   1  ATT4\n",
      "  40   1  ATT4\n",
      "  41   1  ATT4\n",
      "  42   1  ATT4\n",
      "  43   1  ATT4\n",
      "  44   1  ATT4\n",
      "  45   1  ATT4\n",
      "  46   1  ATT4\n",
      "  47   1  ATT4\n",
      "  48   1  ATT4\n",
      "  49   1  ATT4\n",
      "  50   1  ATT4\n",
      "  missForest iteration 1 in progress...done!\n",
      "  missForest iteration 2 in progress...done!\n",
      "  missForest iteration 3 in progress...done!\n",
      "\n",
      " iter imp variable\n",
      "  1   1  ATT4\n",
      "  2   1  ATT4\n",
      "  3   1  ATT4\n",
      "  4   1  ATT4\n",
      "  5   1  ATT4\n",
      "  6   1  ATT4\n",
      "  7   1  ATT4\n",
      "  8   1  ATT4\n",
      "  9   1  ATT4\n",
      "  10   1  ATT4\n",
      "  11   1  ATT4\n",
      "  12   1  ATT4\n",
      "  13   1  ATT4\n",
      "  14   1  ATT4\n",
      "  15   1  ATT4\n",
      "  16   1  ATT4\n",
      "  17   1  ATT4\n",
      "  18   1  ATT4\n",
      "  19   1  ATT4\n",
      "  20   1  ATT4\n",
      "  21   1  ATT4\n",
      "  22   1  ATT4\n",
      "  23   1  ATT4\n",
      "  24   1  ATT4\n",
      "  25   1  ATT4\n",
      "  26   1  ATT4\n",
      "  27   1  ATT4\n",
      "  28   1  ATT4\n",
      "  29   1  ATT4\n",
      "  30   1  ATT4\n",
      "  31   1  ATT4\n",
      "  32   1  ATT4\n",
      "  33   1  ATT4\n",
      "  34   1  ATT4\n",
      "  35   1  ATT4\n",
      "  36   1  ATT4\n",
      "  37   1  ATT4\n",
      "  38   1  ATT4\n",
      "  39   1  ATT4\n",
      "  40   1  ATT4\n",
      "  41   1  ATT4\n",
      "  42   1  ATT4\n",
      "  43   1  ATT4\n",
      "  44   1  ATT4\n",
      "  45   1  ATT4\n",
      "  46   1  ATT4\n",
      "  47   1  ATT4\n",
      "  48   1  ATT4\n",
      "  49   1  ATT4\n",
      "  50   1  ATT4\n",
      "  missForest iteration 1 in progress...done!\n",
      "  missForest iteration 2 in progress...done!\n",
      "  missForest iteration 3 in progress...done!\n",
      "  missForest iteration 4 in progress...done!\n",
      "  missForest iteration 5 in progress...done!\n",
      "\n",
      " iter imp variable\n",
      "  1   1  ATT4\n",
      "  2   1  ATT4\n",
      "  3   1  ATT4\n",
      "  4   1  ATT4\n",
      "  5   1  ATT4\n",
      "  6   1  ATT4\n",
      "  7   1  ATT4\n",
      "  8   1  ATT4\n",
      "  9   1  ATT4\n",
      "  10   1  ATT4\n",
      "  11   1  ATT4\n",
      "  12   1  ATT4\n",
      "  13   1  ATT4\n",
      "  14   1  ATT4\n",
      "  15   1  ATT4\n",
      "  16   1  ATT4\n",
      "  17   1  ATT4\n",
      "  18   1  ATT4\n",
      "  19   1  ATT4\n",
      "  20   1  ATT4\n",
      "  21   1  ATT4\n",
      "  22   1  ATT4\n",
      "  23   1  ATT4\n",
      "  24   1  ATT4\n",
      "  25   1  ATT4\n",
      "  26   1  ATT4\n",
      "  27   1  ATT4\n",
      "  28   1  ATT4\n",
      "  29   1  ATT4\n",
      "  30   1  ATT4\n",
      "  31   1  ATT4\n",
      "  32   1  ATT4\n",
      "  33   1  ATT4\n",
      "  34   1  ATT4\n",
      "  35   1  ATT4\n",
      "  36   1  ATT4\n",
      "  37   1  ATT4\n",
      "  38   1  ATT4\n",
      "  39   1  ATT4\n",
      "  40   1  ATT4\n",
      "  41   1  ATT4\n",
      "  42   1  ATT4\n",
      "  43   1  ATT4\n",
      "  44   1  ATT4\n",
      "  45   1  ATT4\n",
      "  46   1  ATT4\n",
      "  47   1  ATT4\n",
      "  48   1  ATT4\n",
      "  49   1  ATT4\n",
      "  50   1  ATT4\n",
      "  missForest iteration 1 in progress...done!\n",
      "  missForest iteration 2 in progress...done!\n",
      "  missForest iteration 3 in progress...done!\n",
      "  missForest iteration 4 in progress...done!\n",
      "\n",
      " iter imp variable\n",
      "  1   1  ATT4\n",
      "  2   1  ATT4\n",
      "  3   1  ATT4\n",
      "  4   1  ATT4\n",
      "  5   1  ATT4\n",
      "  6   1  ATT4\n",
      "  7   1  ATT4\n",
      "  8   1  ATT4\n",
      "  9   1  ATT4\n",
      "  10   1  ATT4\n",
      "  11   1  ATT4\n",
      "  12   1  ATT4\n",
      "  13   1  ATT4\n",
      "  14   1  ATT4\n",
      "  15   1  ATT4\n",
      "  16   1  ATT4\n",
      "  17   1  ATT4\n",
      "  18   1  ATT4\n",
      "  19   1  ATT4\n",
      "  20   1  ATT4\n",
      "  21   1  ATT4\n",
      "  22   1  ATT4\n",
      "  23   1  ATT4\n",
      "  24   1  ATT4\n",
      "  25   1  ATT4\n",
      "  26   1  ATT4\n",
      "  27   1  ATT4\n",
      "  28   1  ATT4\n",
      "  29   1  ATT4\n",
      "  30   1  ATT4\n",
      "  31   1  ATT4\n",
      "  32   1  ATT4\n",
      "  33   1  ATT4\n",
      "  34   1  ATT4\n",
      "  35   1  ATT4\n",
      "  36   1  ATT4\n",
      "  37   1  ATT4\n",
      "  38   1  ATT4\n",
      "  39   1  ATT4\n",
      "  40   1  ATT4\n",
      "  41   1  ATT4\n",
      "  42   1  ATT4\n",
      "  43   1  ATT4\n",
      "  44   1  ATT4\n",
      "  45   1  ATT4\n",
      "  46   1  ATT4\n",
      "  47   1  ATT4\n",
      "  48   1  ATT4\n",
      "  49   1  ATT4\n",
      "  50   1  ATT4\n",
      "  missForest iteration 1 in progress...done!\n",
      "  missForest iteration 2 in progress...done!\n",
      "  missForest iteration 3 in progress...done!\n",
      "  missForest iteration 4 in progress...done!\n",
      "\n",
      " iter imp variable\n",
      "  1   1  ATT4\n",
      "  2   1  ATT4\n",
      "  3   1  ATT4\n",
      "  4   1  ATT4\n",
      "  5   1  ATT4\n",
      "  6   1  ATT4\n",
      "  7   1  ATT4\n",
      "  8   1  ATT4\n",
      "  9   1  ATT4\n",
      "  10   1  ATT4\n",
      "  11   1  ATT4\n",
      "  12   1  ATT4\n",
      "  13   1  ATT4\n",
      "  14   1  ATT4\n",
      "  15   1  ATT4\n",
      "  16   1  ATT4\n",
      "  17   1  ATT4\n",
      "  18   1  ATT4\n",
      "  19   1  ATT4\n",
      "  20   1  ATT4\n",
      "  21   1  ATT4\n",
      "  22   1  ATT4\n",
      "  23   1  ATT4\n",
      "  24   1  ATT4\n",
      "  25   1  ATT4\n",
      "  26   1  ATT4\n",
      "  27   1  ATT4\n",
      "  28   1  ATT4\n",
      "  29   1  ATT4\n",
      "  30   1  ATT4\n",
      "  31   1  ATT4\n",
      "  32   1  ATT4\n",
      "  33   1  ATT4\n",
      "  34   1  ATT4\n",
      "  35   1  ATT4\n",
      "  36   1  ATT4\n",
      "  37   1  ATT4\n",
      "  38   1  ATT4\n",
      "  39   1  ATT4\n",
      "  40   1  ATT4\n",
      "  41   1  ATT4\n",
      "  42   1  ATT4\n",
      "  43   1  ATT4\n",
      "  44   1  ATT4\n",
      "  45   1  ATT4\n",
      "  46   1  ATT4\n",
      "  47   1  ATT4\n",
      "  48   1  ATT4\n",
      "  49   1  ATT4\n",
      "  50   1  ATT4\n",
      "  missForest iteration 1 in progress...done!\n",
      "  missForest iteration 2 in progress...done!\n",
      "  missForest iteration 3 in progress...done!\n",
      "  missForest iteration 4 in progress...done!\n",
      "\n",
      " iter imp variable\n",
      "  1   1  ATT4\n",
      "  2   1  ATT4\n",
      "  3   1  ATT4\n",
      "  4   1  ATT4\n",
      "  5   1  ATT4\n",
      "  6   1  ATT4\n",
      "  7   1  ATT4\n",
      "  8   1  ATT4\n",
      "  9   1  ATT4\n",
      "  10   1  ATT4\n",
      "  11   1  ATT4\n",
      "  12   1  ATT4\n",
      "  13   1  ATT4\n",
      "  14   1  ATT4\n",
      "  15   1  ATT4\n",
      "  16   1  ATT4\n",
      "  17   1  ATT4\n",
      "  18   1  ATT4\n",
      "  19   1  ATT4\n",
      "  20   1  ATT4\n",
      "  21   1  ATT4\n",
      "  22   1  ATT4\n",
      "  23   1  ATT4\n",
      "  24   1  ATT4\n",
      "  25   1  ATT4\n",
      "  26   1  ATT4\n",
      "  27   1  ATT4\n",
      "  28   1  ATT4\n",
      "  29   1  ATT4\n",
      "  30   1  ATT4\n",
      "  31   1  ATT4\n",
      "  32   1  ATT4\n",
      "  33   1  ATT4\n",
      "  34   1  ATT4\n",
      "  35   1  ATT4\n",
      "  36   1  ATT4\n",
      "  37   1  ATT4\n",
      "  38   1  ATT4\n",
      "  39   1  ATT4\n",
      "  40   1  ATT4\n",
      "  41   1  ATT4\n",
      "  42   1  ATT4\n",
      "  43   1  ATT4\n",
      "  44   1  ATT4\n",
      "  45   1  ATT4\n",
      "  46   1  ATT4\n",
      "  47   1  ATT4\n",
      "  48   1  ATT4\n",
      "  49   1  ATT4\n",
      "  50   1  ATT4\n",
      "  missForest iteration 1 in progress...done!\n",
      "  missForest iteration 2 in progress...done!\n",
      "  missForest iteration 3 in progress...done!\n",
      "  missForest iteration 4 in progress...done!\n",
      "\n",
      " iter imp variable\n",
      "  1   1  ATT4\n",
      "  2   1  ATT4\n",
      "  3   1  ATT4\n",
      "  4   1  ATT4\n",
      "  5   1  ATT4\n",
      "  6   1  ATT4\n",
      "  7   1  ATT4\n",
      "  8   1  ATT4\n",
      "  9   1  ATT4\n",
      "  10   1  ATT4\n",
      "  11   1  ATT4\n",
      "  12   1  ATT4\n",
      "  13   1  ATT4\n",
      "  14   1  ATT4\n",
      "  15   1  ATT4\n",
      "  16   1  ATT4\n",
      "  17   1  ATT4\n",
      "  18   1  ATT4\n",
      "  19   1  ATT4\n",
      "  20   1  ATT4\n",
      "  21   1  ATT4\n",
      "  22   1  ATT4\n",
      "  23   1  ATT4\n",
      "  24   1  ATT4\n",
      "  25   1  ATT4\n",
      "  26   1  ATT4\n",
      "  27   1  ATT4\n",
      "  28   1  ATT4\n",
      "  29   1  ATT4\n",
      "  30   1  ATT4\n",
      "  31   1  ATT4\n",
      "  32   1  ATT4\n",
      "  33   1  ATT4\n",
      "  34   1  ATT4\n",
      "  35   1  ATT4\n",
      "  36   1  ATT4\n",
      "  37   1  ATT4\n",
      "  38   1  ATT4\n",
      "  39   1  ATT4\n",
      "  40   1  ATT4\n",
      "  41   1  ATT4\n",
      "  42   1  ATT4\n",
      "  43   1  ATT4\n",
      "  44   1  ATT4\n",
      "  45   1  ATT4\n",
      "  46   1  ATT4\n",
      "  47   1  ATT4\n",
      "  48   1  ATT4\n",
      "  49   1  ATT4\n",
      "  50   1  ATT4\n",
      "  missForest iteration 1 in progress...done!\n",
      "  missForest iteration 2 in progress...done!\n",
      "  missForest iteration 3 in progress...done!\n",
      "  missForest iteration 4 in progress...done!\n",
      "  missForest iteration 5 in progress...done!\n",
      "  missForest iteration 6 in progress...done!\n",
      "\n",
      " iter imp variable\n",
      "  1   1  ATT5\n",
      "  2   1  ATT5\n",
      "  3   1  ATT5\n",
      "  4   1  ATT5\n",
      "  5   1  ATT5\n",
      "  6   1  ATT5\n",
      "  7   1  ATT5\n",
      "  8   1  ATT5\n",
      "  9   1  ATT5\n",
      "  10   1  ATT5\n",
      "  11   1  ATT5\n",
      "  12   1  ATT5\n",
      "  13   1  ATT5\n",
      "  14   1  ATT5\n",
      "  15   1  ATT5\n",
      "  16   1  ATT5\n",
      "  17   1  ATT5\n",
      "  18   1  ATT5\n",
      "  19   1  ATT5\n",
      "  20   1  ATT5\n",
      "  21   1  ATT5\n",
      "  22   1  ATT5\n",
      "  23   1  ATT5\n",
      "  24   1  ATT5\n",
      "  25   1  ATT5\n",
      "  26   1  ATT5\n",
      "  27   1  ATT5\n",
      "  28   1  ATT5\n",
      "  29   1  ATT5\n",
      "  30   1  ATT5\n",
      "  31   1  ATT5\n",
      "  32   1  ATT5\n",
      "  33   1  ATT5\n",
      "  34   1  ATT5\n",
      "  35   1  ATT5\n",
      "  36   1  ATT5\n",
      "  37   1  ATT5\n",
      "  38   1  ATT5\n",
      "  39   1  ATT5\n",
      "  40   1  ATT5\n",
      "  41   1  ATT5\n",
      "  42   1  ATT5\n",
      "  43   1  ATT5\n",
      "  44   1  ATT5\n",
      "  45   1  ATT5\n",
      "  46   1  ATT5\n",
      "  47   1  ATT5\n",
      "  48   1  ATT5\n",
      "  49   1  ATT5\n",
      "  50   1  ATT5\n",
      "  missForest iteration 1 in progress...done!\n",
      "  missForest iteration 2 in progress...done!\n",
      "  missForest iteration 3 in progress...done!\n",
      "  missForest iteration 4 in progress...done!\n",
      "\n",
      " iter imp variable\n",
      "  1   1  ATT5\n",
      "  2   1  ATT5\n",
      "  3   1  ATT5\n",
      "  4   1  ATT5\n",
      "  5   1  ATT5\n",
      "  6   1  ATT5\n",
      "  7   1  ATT5\n",
      "  8   1  ATT5\n",
      "  9   1  ATT5\n",
      "  10   1  ATT5\n",
      "  11   1  ATT5\n",
      "  12   1  ATT5\n",
      "  13   1  ATT5\n",
      "  14   1  ATT5\n",
      "  15   1  ATT5\n",
      "  16   1  ATT5\n",
      "  17   1  ATT5\n",
      "  18   1  ATT5\n",
      "  19   1  ATT5\n",
      "  20   1  ATT5\n",
      "  21   1  ATT5\n",
      "  22   1  ATT5\n",
      "  23   1  ATT5\n",
      "  24   1  ATT5\n",
      "  25   1  ATT5\n",
      "  26   1  ATT5\n",
      "  27   1  ATT5\n",
      "  28   1  ATT5\n",
      "  29   1  ATT5\n",
      "  30   1  ATT5\n",
      "  31   1  ATT5\n",
      "  32   1  ATT5\n",
      "  33   1  ATT5\n",
      "  34   1  ATT5\n",
      "  35   1  ATT5\n",
      "  36   1  ATT5\n",
      "  37   1  ATT5\n",
      "  38   1  ATT5\n",
      "  39   1  ATT5\n",
      "  40   1  ATT5\n",
      "  41   1  ATT5\n",
      "  42   1  ATT5\n",
      "  43   1  ATT5\n",
      "  44   1  ATT5\n",
      "  45   1  ATT5\n",
      "  46   1  ATT5\n",
      "  47   1  ATT5\n",
      "  48   1  ATT5\n",
      "  49   1  ATT5\n",
      "  50   1  ATT5\n",
      "  missForest iteration 1 in progress...done!\n",
      "  missForest iteration 2 in progress...done!\n",
      "  missForest iteration 3 in progress...done!\n",
      "  missForest iteration 4 in progress...done!\n",
      "  missForest iteration 5 in progress...done!\n",
      "\n",
      " iter imp variable\n",
      "  1   1  ATT5\n",
      "  2   1  ATT5\n",
      "  3   1  ATT5\n",
      "  4   1  ATT5\n",
      "  5   1  ATT5\n",
      "  6   1  ATT5\n",
      "  7   1  ATT5\n",
      "  8   1  ATT5\n",
      "  9   1  ATT5\n",
      "  10   1  ATT5\n",
      "  11   1  ATT5\n",
      "  12   1  ATT5\n",
      "  13   1  ATT5\n",
      "  14   1  ATT5\n",
      "  15   1  ATT5\n",
      "  16   1  ATT5\n",
      "  17   1  ATT5\n",
      "  18   1  ATT5\n",
      "  19   1  ATT5\n",
      "  20   1  ATT5\n",
      "  21   1  ATT5\n",
      "  22   1  ATT5\n",
      "  23   1  ATT5\n",
      "  24   1  ATT5\n",
      "  25   1  ATT5\n",
      "  26   1  ATT5\n",
      "  27   1  ATT5\n",
      "  28   1  ATT5\n",
      "  29   1  ATT5\n",
      "  30   1  ATT5\n",
      "  31   1  ATT5\n",
      "  32   1  ATT5\n",
      "  33   1  ATT5\n",
      "  34   1  ATT5\n",
      "  35   1  ATT5\n",
      "  36   1  ATT5\n",
      "  37   1  ATT5\n",
      "  38   1  ATT5\n",
      "  39   1  ATT5\n",
      "  40   1  ATT5\n",
      "  41   1  ATT5\n",
      "  42   1  ATT5\n",
      "  43   1  ATT5\n",
      "  44   1  ATT5\n",
      "  45   1  ATT5\n",
      "  46   1  ATT5\n",
      "  47   1  ATT5\n",
      "  48   1  ATT5\n",
      "  49   1  ATT5\n",
      "  50   1  ATT5\n",
      "  missForest iteration 1 in progress...done!\n",
      "  missForest iteration 2 in progress...done!\n",
      "  missForest iteration 3 in progress...done!\n",
      "  missForest iteration 4 in progress...done!\n",
      "\n",
      " iter imp variable\n",
      "  1   1  ATT5\n",
      "  2   1  ATT5\n",
      "  3   1  ATT5\n",
      "  4   1  ATT5\n",
      "  5   1  ATT5\n",
      "  6   1  ATT5\n",
      "  7   1  ATT5\n",
      "  8   1  ATT5\n",
      "  9   1  ATT5\n",
      "  10   1  ATT5\n",
      "  11   1  ATT5\n",
      "  12   1  ATT5\n",
      "  13   1  ATT5\n",
      "  14   1  ATT5\n",
      "  15   1  ATT5\n",
      "  16   1  ATT5\n",
      "  17   1  ATT5\n",
      "  18   1  ATT5\n",
      "  19   1  ATT5\n",
      "  20   1  ATT5\n",
      "  21   1  ATT5\n",
      "  22   1  ATT5\n",
      "  23   1  ATT5\n",
      "  24   1  ATT5\n",
      "  25   1  ATT5\n",
      "  26   1  ATT5\n",
      "  27   1  ATT5\n",
      "  28   1  ATT5\n",
      "  29   1  ATT5\n",
      "  30   1  ATT5\n",
      "  31   1  ATT5\n",
      "  32   1  ATT5\n",
      "  33   1  ATT5\n",
      "  34   1  ATT5\n",
      "  35   1  ATT5\n",
      "  36   1  ATT5\n",
      "  37   1  ATT5\n",
      "  38   1  ATT5\n",
      "  39   1  ATT5\n",
      "  40   1  ATT5\n",
      "  41   1  ATT5\n",
      "  42   1  ATT5\n",
      "  43   1  ATT5\n",
      "  44   1  ATT5\n",
      "  45   1  ATT5\n",
      "  46   1  ATT5\n",
      "  47   1  ATT5\n",
      "  48   1  ATT5\n",
      "  49   1  ATT5\n",
      "  50   1  ATT5\n",
      "  missForest iteration 1 in progress...done!\n",
      "  missForest iteration 2 in progress...done!\n",
      "  missForest iteration 3 in progress...done!\n",
      "\n",
      " iter imp variable\n",
      "  1   1  ATT5\n",
      "  2   1  ATT5\n",
      "  3   1  ATT5\n",
      "  4   1  ATT5\n",
      "  5   1  ATT5\n",
      "  6   1  ATT5\n",
      "  7   1  ATT5\n",
      "  8   1  ATT5\n",
      "  9   1  ATT5\n",
      "  10   1  ATT5\n",
      "  11   1  ATT5\n",
      "  12   1  ATT5\n",
      "  13   1  ATT5\n",
      "  14   1  ATT5\n",
      "  15   1  ATT5\n",
      "  16   1  ATT5\n",
      "  17   1  ATT5\n",
      "  18   1  ATT5\n",
      "  19   1  ATT5\n",
      "  20   1  ATT5\n",
      "  21   1  ATT5\n",
      "  22   1  ATT5\n",
      "  23   1  ATT5\n",
      "  24   1  ATT5\n",
      "  25   1  ATT5\n",
      "  26   1  ATT5\n",
      "  27   1  ATT5\n",
      "  28   1  ATT5\n",
      "  29   1  ATT5\n",
      "  30   1  ATT5\n",
      "  31   1  ATT5\n",
      "  32   1  ATT5\n",
      "  33   1  ATT5\n",
      "  34   1  ATT5\n",
      "  35   1  ATT5\n",
      "  36   1  ATT5\n",
      "  37   1  ATT5\n",
      "  38   1  ATT5\n",
      "  39   1  ATT5\n",
      "  40   1  ATT5\n",
      "  41   1  ATT5\n",
      "  42   1  ATT5\n",
      "  43   1  ATT5\n",
      "  44   1  ATT5\n",
      "  45   1  ATT5\n",
      "  46   1  ATT5\n",
      "  47   1  ATT5\n",
      "  48   1  ATT5\n",
      "  49   1  ATT5\n",
      "  50   1  ATT5\n",
      "  missForest iteration 1 in progress...done!\n",
      "  missForest iteration 2 in progress...done!\n",
      "  missForest iteration 3 in progress...done!\n",
      "  missForest iteration 4 in progress...done!\n",
      "\n",
      " iter imp variable\n",
      "  1   1  ATT5\n",
      "  2   1  ATT5\n",
      "  3   1  ATT5\n",
      "  4   1  ATT5\n",
      "  5   1  ATT5\n",
      "  6   1  ATT5\n",
      "  7   1  ATT5\n",
      "  8   1  ATT5\n",
      "  9   1  ATT5\n",
      "  10   1  ATT5\n",
      "  11   1  ATT5\n",
      "  12   1  ATT5\n",
      "  13   1  ATT5\n",
      "  14   1  ATT5\n",
      "  15   1  ATT5\n",
      "  16   1  ATT5\n",
      "  17   1  ATT5\n",
      "  18   1  ATT5\n",
      "  19   1  ATT5\n",
      "  20   1  ATT5\n",
      "  21   1  ATT5\n",
      "  22   1  ATT5\n",
      "  23   1  ATT5\n",
      "  24   1  ATT5\n",
      "  25   1  ATT5\n",
      "  26   1  ATT5\n",
      "  27   1  ATT5\n",
      "  28   1  ATT5\n",
      "  29   1  ATT5\n",
      "  30   1  ATT5\n",
      "  31   1  ATT5\n",
      "  32   1  ATT5\n",
      "  33   1  ATT5\n",
      "  34   1  ATT5\n",
      "  35   1  ATT5\n",
      "  36   1  ATT5\n",
      "  37   1  ATT5\n",
      "  38   1  ATT5\n",
      "  39   1  ATT5\n",
      "  40   1  ATT5\n",
      "  41   1  ATT5\n",
      "  42   1  ATT5\n",
      "  43   1  ATT5\n",
      "  44   1  ATT5\n",
      "  45   1  ATT5\n",
      "  46   1  ATT5\n",
      "  47   1  ATT5\n",
      "  48   1  ATT5\n",
      "  49   1  ATT5\n",
      "  50   1  ATT5\n",
      "  missForest iteration 1 in progress...done!\n",
      "  missForest iteration 2 in progress...done!\n",
      "  missForest iteration 3 in progress...done!\n",
      "  missForest iteration 4 in progress...done!\n",
      "  missForest iteration 5 in progress...done!\n",
      "\n",
      " iter imp variable\n",
      "  1   1  ATT5\n",
      "  2   1  ATT5\n",
      "  3   1  ATT5\n",
      "  4   1  ATT5\n",
      "  5   1  ATT5\n",
      "  6   1  ATT5\n",
      "  7   1  ATT5\n",
      "  8   1  ATT5\n",
      "  9   1  ATT5\n",
      "  10   1  ATT5\n",
      "  11   1  ATT5\n",
      "  12   1  ATT5\n",
      "  13   1  ATT5\n",
      "  14   1  ATT5\n",
      "  15   1  ATT5\n",
      "  16   1  ATT5\n",
      "  17   1  ATT5\n",
      "  18   1  ATT5\n",
      "  19   1  ATT5\n",
      "  20   1  ATT5\n",
      "  21   1  ATT5\n",
      "  22   1  ATT5\n",
      "  23   1  ATT5\n",
      "  24   1  ATT5\n",
      "  25   1  ATT5\n",
      "  26   1  ATT5\n",
      "  27   1  ATT5\n",
      "  28   1  ATT5\n",
      "  29   1  ATT5\n",
      "  30   1  ATT5\n",
      "  31   1  ATT5\n",
      "  32   1  ATT5\n",
      "  33   1  ATT5\n",
      "  34   1  ATT5\n",
      "  35   1  ATT5\n",
      "  36   1  ATT5\n",
      "  37   1  ATT5\n",
      "  38   1  ATT5\n",
      "  39   1  ATT5\n",
      "  40   1  ATT5\n",
      "  41   1  ATT5\n",
      "  42   1  ATT5\n",
      "  43   1  ATT5\n",
      "  44   1  ATT5\n",
      "  45   1  ATT5\n",
      "  46   1  ATT5\n",
      "  47   1  ATT5\n",
      "  48   1  ATT5\n",
      "  49   1  ATT5\n",
      "  50   1  ATT5\n",
      "  missForest iteration 1 in progress...done!\n",
      "  missForest iteration 2 in progress...done!\n",
      "  missForest iteration 3 in progress...done!\n",
      "  missForest iteration 4 in progress...done!\n",
      "  missForest iteration 5 in progress...done!\n",
      "\n",
      " iter imp variable\n",
      "  1   1  ATT5\n",
      "  2   1  ATT5\n",
      "  3   1  ATT5\n",
      "  4   1  ATT5\n",
      "  5   1  ATT5\n",
      "  6   1  ATT5\n",
      "  7   1  ATT5\n",
      "  8   1  ATT5\n",
      "  9   1  ATT5\n",
      "  10   1  ATT5\n",
      "  11   1  ATT5\n",
      "  12   1  ATT5\n",
      "  13   1  ATT5\n",
      "  14   1  ATT5\n",
      "  15   1  ATT5\n",
      "  16   1  ATT5\n",
      "  17   1  ATT5\n",
      "  18   1  ATT5\n",
      "  19   1  ATT5\n",
      "  20   1  ATT5\n",
      "  21   1  ATT5\n",
      "  22   1  ATT5\n",
      "  23   1  ATT5\n",
      "  24   1  ATT5\n",
      "  25   1  ATT5\n",
      "  26   1  ATT5\n",
      "  27   1  ATT5\n",
      "  28   1  ATT5\n",
      "  29   1  ATT5\n",
      "  30   1  ATT5\n",
      "  31   1  ATT5\n",
      "  32   1  ATT5\n",
      "  33   1  ATT5\n",
      "  34   1  ATT5\n",
      "  35   1  ATT5\n",
      "  36   1  ATT5\n",
      "  37   1  ATT5\n",
      "  38   1  ATT5\n",
      "  39   1  ATT5\n",
      "  40   1  ATT5\n",
      "  41   1  ATT5\n",
      "  42   1  ATT5\n",
      "  43   1  ATT5\n",
      "  44   1  ATT5\n",
      "  45   1  ATT5\n",
      "  46   1  ATT5\n",
      "  47   1  ATT5\n",
      "  48   1  ATT5\n",
      "  49   1  ATT5\n",
      "  50   1  ATT5\n",
      "  missForest iteration 1 in progress...done!\n",
      "  missForest iteration 2 in progress...done!\n",
      "  missForest iteration 3 in progress...done!\n",
      "\n",
      " iter imp variable\n",
      "  1   1  ATT5\n",
      "  2   1  ATT5\n",
      "  3   1  ATT5\n",
      "  4   1  ATT5\n",
      "  5   1  ATT5\n",
      "  6   1  ATT5\n",
      "  7   1  ATT5\n",
      "  8   1  ATT5\n",
      "  9   1  ATT5\n",
      "  10   1  ATT5\n",
      "  11   1  ATT5\n",
      "  12   1  ATT5\n",
      "  13   1  ATT5\n",
      "  14   1  ATT5\n",
      "  15   1  ATT5\n",
      "  16   1  ATT5\n",
      "  17   1  ATT5\n",
      "  18   1  ATT5\n",
      "  19   1  ATT5\n",
      "  20   1  ATT5\n",
      "  21   1  ATT5\n",
      "  22   1  ATT5\n",
      "  23   1  ATT5\n",
      "  24   1  ATT5\n",
      "  25   1  ATT5\n",
      "  26   1  ATT5\n",
      "  27   1  ATT5\n",
      "  28   1  ATT5\n",
      "  29   1  ATT5\n",
      "  30   1  ATT5\n",
      "  31   1  ATT5\n",
      "  32   1  ATT5\n",
      "  33   1  ATT5\n",
      "  34   1  ATT5\n",
      "  35   1  ATT5\n",
      "  36   1  ATT5\n",
      "  37   1  ATT5\n",
      "  38   1  ATT5\n",
      "  39   1  ATT5\n",
      "  40   1  ATT5\n",
      "  41   1  ATT5\n",
      "  42   1  ATT5\n",
      "  43   1  ATT5\n",
      "  44   1  ATT5\n",
      "  45   1  ATT5\n",
      "  46   1  ATT5\n",
      "  47   1  ATT5\n",
      "  48   1  ATT5\n",
      "  49   1  ATT5\n",
      "  50   1  ATT5\n",
      "  missForest iteration 1 in progress...done!\n",
      "  missForest iteration 2 in progress...done!\n",
      "  missForest iteration 3 in progress...done!\n",
      "  missForest iteration 4 in progress...done!\n",
      "\n",
      " iter imp variable\n",
      "  1   1  ATT5\n",
      "  2   1  ATT5\n",
      "  3   1  ATT5\n",
      "  4   1  ATT5\n",
      "  5   1  ATT5\n",
      "  6   1  ATT5\n",
      "  7   1  ATT5\n",
      "  8   1  ATT5\n",
      "  9   1  ATT5\n",
      "  10   1  ATT5\n",
      "  11   1  ATT5\n",
      "  12   1  ATT5\n",
      "  13   1  ATT5\n",
      "  14   1  ATT5\n",
      "  15   1  ATT5\n",
      "  16   1  ATT5\n",
      "  17   1  ATT5\n",
      "  18   1  ATT5\n",
      "  19   1  ATT5\n",
      "  20   1  ATT5\n",
      "  21   1  ATT5\n",
      "  22   1  ATT5\n",
      "  23   1  ATT5\n",
      "  24   1  ATT5\n",
      "  25   1  ATT5\n",
      "  26   1  ATT5\n",
      "  27   1  ATT5\n",
      "  28   1  ATT5\n",
      "  29   1  ATT5\n",
      "  30   1  ATT5\n",
      "  31   1  ATT5\n",
      "  32   1  ATT5\n",
      "  33   1  ATT5\n",
      "  34   1  ATT5\n",
      "  35   1  ATT5\n",
      "  36   1  ATT5\n",
      "  37   1  ATT5\n",
      "  38   1  ATT5\n",
      "  39   1  ATT5\n",
      "  40   1  ATT5\n",
      "  41   1  ATT5\n",
      "  42   1  ATT5\n",
      "  43   1  ATT5\n",
      "  44   1  ATT5\n",
      "  45   1  ATT5\n",
      "  46   1  ATT5\n",
      "  47   1  ATT5\n",
      "  48   1  ATT5\n",
      "  49   1  ATT5\n",
      "  50   1  ATT5\n"
     ]
    }
   ],
   "source": [
    "attributeList <- c('ATT1', 'ATT3', 'ATT4', 'ATT5')\n",
    "\n",
    "checkImputation <- function(data, attributeList, K) {\n",
    "    svmGrid <- expand.grid(C = c(0.75, 1, 1.5, 2, 5, 10))\n",
    "    trCtrl <- trainControl(method = \"cv\", number = 10)\n",
    "\n",
    "\n",
    "    \n",
    "    rmseDataFrame <-  data.frame(matrix(, nrow=0, ncol=4))\n",
    "    colnames(rmseDataFrame) <- c('Attribute', 'MissForest', 'MICE', 'SVM')\n",
    "    rmseMF <- 0\n",
    "    rmseMICE <- 0\n",
    "    i <- 1\n",
    "    for (attribute in attributeList){\n",
    "        imputationData <- data\n",
    "        rmseDataFrame[i, 'Attribute'] <- attribute\n",
    "        # if the attribute being imputed is ATT3 delete ATT5\n",
    "        if (attribute == 'ATT3') {\n",
    "            imputationData <- subset(imputationData, select=-c(ATT5))\n",
    "        }\n",
    "        # if the attribute being imputed is ATT5 delete ATT3\n",
    "        if (attribute == 'ATT5') {\n",
    "            imputationDatae <- subset(imputationData, select=-c(ATT3))\n",
    "        }\n",
    "        \n",
    "        svmModel <- train(as.formula(paste(attribute, '~ .')) , data = imputationData, preProc = c(\"center\",\"scale\"), method = \"svmLinear\", trControl=trCtrl, tuneGrid = svmGrid)\n",
    "        rmseDataFrame[i, 'SVM'] <- min(svmModel$results['RMSE'])\n",
    "    \n",
    "        k <- 1\n",
    "        for (k in 1:K) {\n",
    "            # get a random set of 50 integers representing random row index of the data\n",
    "            sampleRowSetNa <- sample(nrow(imputationData),50)\n",
    "            # in the current attribute we are testing set the random rows from above to NA\n",
    "            imputationData[attribute][sampleRowSetNa,] <- NA\n",
    "            # run the imputation using missForest\n",
    "            imputationData.imputed <- missForest(imputationData)\n",
    "            rmseMF[k]  <- RMSE(imputationData.imputed$ximp[attribute][sampleRowSetNa,], completeData[attribute][sampleRowSetNa,])\n",
    "            imputationData.imputed <- mice(imputationData, m=1, maxit = 50, method = 'pmm', seed = 500)\n",
    "            imputationData.imputed <- complete(imputationData.imputed, 1)\n",
    "            rmseMICE[k] <- RMSE(imputationData.imputed[attribute][sampleRowSetNa,], completeData[attribute][sampleRowSetNa,])\n",
    "        }\n",
    "\n",
    "        rmseDataFrame[i, 'MissForest'] <- mean(rmseMF)\n",
    "        rmseDataFrame[i, 'MICE'] <- mean(rmseMICE)\n",
    "             \n",
    "        i = i + 1\n",
    "\n",
    "    }\n",
    "    return(rmseDataFrame)\n",
    "}\n",
    "checkImputationRMSE <- checkImputation(completeData, attributeList, 10)"
   ]
  },
  {
   "cell_type": "code",
   "execution_count": 23,
   "metadata": {
    "collapsed": false
   },
   "outputs": [
    {
     "data": {
      "text/html": [
       "<table>\n",
       "<thead><tr><th scope=col>Attribute</th><th scope=col>MissForest</th><th scope=col>MICE</th><th scope=col>SVM</th></tr></thead>\n",
       "<tbody>\n",
       "\t<tr><td>ATT1    </td><td>2.405233</td><td>3.236590</td><td>2.263700</td></tr>\n",
       "\t<tr><td>ATT3    </td><td>2.360581</td><td>3.335541</td><td>2.358680</td></tr>\n",
       "\t<tr><td>ATT4    </td><td>2.411209</td><td>3.153231</td><td>2.271465</td></tr>\n",
       "\t<tr><td>ATT5    </td><td>2.296967</td><td>3.124650</td><td>2.237270</td></tr>\n",
       "</tbody>\n",
       "</table>\n"
      ],
      "text/latex": [
       "\\begin{tabular}{r|llll}\n",
       " Attribute & MissForest & MICE & SVM\\\\\n",
       "\\hline\n",
       "\t ATT1     & 2.405233 & 3.236590 & 2.263700\\\\\n",
       "\t ATT3     & 2.360581 & 3.335541 & 2.358680\\\\\n",
       "\t ATT4     & 2.411209 & 3.153231 & 2.271465\\\\\n",
       "\t ATT5     & 2.296967 & 3.124650 & 2.237270\\\\\n",
       "\\end{tabular}\n"
      ],
      "text/markdown": [
       "\n",
       "Attribute | MissForest | MICE | SVM | \n",
       "|---|---|---|---|\n",
       "| ATT1     | 2.405233 | 3.236590 | 2.263700 | \n",
       "| ATT3     | 2.360581 | 3.335541 | 2.358680 | \n",
       "| ATT4     | 2.411209 | 3.153231 | 2.271465 | \n",
       "| ATT5     | 2.296967 | 3.124650 | 2.237270 | \n",
       "\n",
       "\n"
      ],
      "text/plain": [
       "  Attribute MissForest MICE     SVM     \n",
       "1 ATT1      2.405233   3.236590 2.263700\n",
       "2 ATT3      2.360581   3.335541 2.358680\n",
       "3 ATT4      2.411209   3.153231 2.271465\n",
       "4 ATT5      2.296967   3.124650 2.237270"
      ]
     },
     "metadata": {},
     "output_type": "display_data"
    }
   ],
   "source": [
    "checkImputationRMSE"
   ]
  },
  {
   "cell_type": "markdown",
   "metadata": {},
   "source": [
    "We can see that for all attributes the SVM regression has performed best. We'll need to build four different models to impute each of the values in the data set."
   ]
  },
  {
   "cell_type": "markdown",
   "metadata": {},
   "source": [
    "<b>Model for ATT1</b>\n",
    "We'll use caret to help build the regression mdoels for the imputation of the missing data. First we need to set up the train control method for cross validation using ten folds, we'll also set up the tuning grid parameters for C, the cost function used."
   ]
  },
  {
   "cell_type": "code",
   "execution_count": 24,
   "metadata": {
    "collapsed": false
   },
   "outputs": [
    {
     "data": {
      "text/plain": [
       "Support Vector Machines with Linear Kernel \n",
       "\n",
       "2997 samples\n",
       "  10 predictors\n",
       "\n",
       "Pre-processing: centered (12), scaled (12) \n",
       "Resampling: Cross-Validated (10 fold) \n",
       "Summary of sample sizes: 2697, 2697, 2697, 2699, 2696, 2698, ... \n",
       "Resampling results across tuning parameters:\n",
       "\n",
       "  C     RMSE      Rsquared   MAE     \n",
       "  0.05  2.258308  0.3139381  1.831731\n",
       "  0.10  2.260499  0.3136408  1.830265\n",
       "  0.20  2.261690  0.3139809  1.829431\n",
       "\n",
       "RMSE was used to select the optimal model using  the smallest value.\n",
       "The final value used for the model was C = 0.05."
      ]
     },
     "metadata": {},
     "output_type": "display_data"
    }
   ],
   "source": [
    "svmGrid <- expand.grid(C = c(0.05, 0.1, 0.2))\n",
    "trCtrl <- trainControl(method = \"cv\", number = 10)\n",
    "att1Model <- train(ATT1 ~ . , data = completeData, preProc = c(\"center\",\"scale\"), method = \"svmLinear\", trControl=trCtrl, tuneGrid = svmGrid)\n",
    "att1Model"
   ]
  },
  {
   "cell_type": "markdown",
   "metadata": {},
   "source": [
    "<b>Model Performance</b><br>\n",
    "We can see the model has performed in line with the cross validation found earlier in our model comparison table. Let's now impute and replace the NA value in the data at row 2."
   ]
  },
  {
   "cell_type": "code",
   "execution_count": 25,
   "metadata": {
    "collapsed": false
   },
   "outputs": [
    {
     "data": {
      "text/html": [
       "<table>\n",
       "<thead><tr><th></th><th scope=col>ATT1</th><th scope=col>ATT2</th><th scope=col>ATT3</th><th scope=col>ATT4</th><th scope=col>ATT5</th><th scope=col>ATT6</th><th scope=col>ATT7</th><th scope=col>ATT8</th><th scope=col>ATT9</th><th scope=col>ATT10</th><th scope=col>Result</th></tr></thead>\n",
       "<tbody>\n",
       "\t<tr><th scope=row>2</th><td>NA</td><td>8 </td><td>9 </td><td>1 </td><td>1 </td><td>1 </td><td>1 </td><td>5 </td><td>6 </td><td>1 </td><td>1 </td></tr>\n",
       "</tbody>\n",
       "</table>\n"
      ],
      "text/latex": [
       "\\begin{tabular}{r|lllllllllll}\n",
       "  & ATT1 & ATT2 & ATT3 & ATT4 & ATT5 & ATT6 & ATT7 & ATT8 & ATT9 & ATT10 & Result\\\\\n",
       "\\hline\n",
       "\t2 & NA & 8  & 9  & 1  & 1  & 1  & 1  & 5  & 6  & 1  & 1 \\\\\n",
       "\\end{tabular}\n"
      ],
      "text/markdown": [
       "\n",
       "| <!--/--> | ATT1 | ATT2 | ATT3 | ATT4 | ATT5 | ATT6 | ATT7 | ATT8 | ATT9 | ATT10 | Result | \n",
       "|---|\n",
       "| 2 | NA | 8  | 9  | 1  | 1  | 1  | 1  | 5  | 6  | 1  | 1  | \n",
       "\n",
       "\n"
      ],
      "text/plain": [
       "  ATT1 ATT2 ATT3 ATT4 ATT5 ATT6 ATT7 ATT8 ATT9 ATT10 Result\n",
       "2 NA   8    9    1    1    1    1    5    6    1     1     "
      ]
     },
     "metadata": {},
     "output_type": "display_data"
    }
   ],
   "source": [
    "imputedData <- data[-1]\n",
    "imputedData[2,]"
   ]
  },
  {
   "cell_type": "code",
   "execution_count": 26,
   "metadata": {
    "collapsed": false
   },
   "outputs": [
    {
     "data": {
      "text/html": [
       "<strong>2:</strong> 7"
      ],
      "text/latex": [
       "\\textbf{2:} 7"
      ],
      "text/markdown": [
       "**2:** 7"
      ],
      "text/plain": [
       "2 \n",
       "7 "
      ]
     },
     "metadata": {},
     "output_type": "display_data"
    }
   ],
   "source": [
    "attData <- data[-1]\n",
    "att1Predict <- round(predict(object = att1Model, newdata = attData[2,]), 0)\n",
    "att1Predict"
   ]
  },
  {
   "cell_type": "code",
   "execution_count": 27,
   "metadata": {
    "collapsed": false
   },
   "outputs": [
    {
     "data": {
      "text/html": [
       "<table>\n",
       "<thead><tr><th scope=col>ATT1</th><th scope=col>ATT2</th><th scope=col>ATT3</th><th scope=col>ATT4</th><th scope=col>ATT5</th><th scope=col>ATT6</th><th scope=col>ATT7</th><th scope=col>ATT8</th><th scope=col>ATT9</th><th scope=col>ATT10</th><th scope=col>Result</th></tr></thead>\n",
       "<tbody>\n",
       "\t<tr><td> 1</td><td>4 </td><td> 1</td><td> 4</td><td> 3</td><td>7 </td><td> 1</td><td>2 </td><td>6 </td><td>8 </td><td>0 </td></tr>\n",
       "\t<tr><td> 7</td><td>8 </td><td> 9</td><td> 1</td><td> 1</td><td>1 </td><td> 1</td><td>5 </td><td>6 </td><td>1 </td><td>1 </td></tr>\n",
       "\t<tr><td>10</td><td>7 </td><td>NA</td><td> 7</td><td>NA</td><td>5 </td><td> 2</td><td>7 </td><td>1 </td><td>1 </td><td>2 </td></tr>\n",
       "\t<tr><td> 3</td><td>4 </td><td> 3</td><td>NA</td><td> 2</td><td>8 </td><td> 4</td><td>6 </td><td>7 </td><td>2 </td><td>1 </td></tr>\n",
       "\t<tr><td> 3</td><td>5 </td><td> 2</td><td> 1</td><td> 6</td><td>5 </td><td> 3</td><td>1 </td><td>7 </td><td>1 </td><td>0 </td></tr>\n",
       "\t<tr><td> 2</td><td>7 </td><td> 3</td><td> 2</td><td> 1</td><td>4 </td><td>10</td><td>3 </td><td>9 </td><td>5 </td><td>1 </td></tr>\n",
       "</tbody>\n",
       "</table>\n"
      ],
      "text/latex": [
       "\\begin{tabular}{r|lllllllllll}\n",
       " ATT1 & ATT2 & ATT3 & ATT4 & ATT5 & ATT6 & ATT7 & ATT8 & ATT9 & ATT10 & Result\\\\\n",
       "\\hline\n",
       "\t  1 & 4  &  1 &  4 &  3 & 7  &  1 & 2  & 6  & 8  & 0 \\\\\n",
       "\t  7 & 8  &  9 &  1 &  1 & 1  &  1 & 5  & 6  & 1  & 1 \\\\\n",
       "\t 10 & 7  & NA &  7 & NA & 5  &  2 & 7  & 1  & 1  & 2 \\\\\n",
       "\t  3 & 4  &  3 & NA &  2 & 8  &  4 & 6  & 7  & 2  & 1 \\\\\n",
       "\t  3 & 5  &  2 &  1 &  6 & 5  &  3 & 1  & 7  & 1  & 0 \\\\\n",
       "\t  2 & 7  &  3 &  2 &  1 & 4  & 10 & 3  & 9  & 5  & 1 \\\\\n",
       "\\end{tabular}\n"
      ],
      "text/markdown": [
       "\n",
       "ATT1 | ATT2 | ATT3 | ATT4 | ATT5 | ATT6 | ATT7 | ATT8 | ATT9 | ATT10 | Result | \n",
       "|---|---|---|---|---|---|\n",
       "|  1 | 4  |  1 |  4 |  3 | 7  |  1 | 2  | 6  | 8  | 0  | \n",
       "|  7 | 8  |  9 |  1 |  1 | 1  |  1 | 5  | 6  | 1  | 1  | \n",
       "| 10 | 7  | NA |  7 | NA | 5  |  2 | 7  | 1  | 1  | 2  | \n",
       "|  3 | 4  |  3 | NA |  2 | 8  |  4 | 6  | 7  | 2  | 1  | \n",
       "|  3 | 5  |  2 |  1 |  6 | 5  |  3 | 1  | 7  | 1  | 0  | \n",
       "|  2 | 7  |  3 |  2 |  1 | 4  | 10 | 3  | 9  | 5  | 1  | \n",
       "\n",
       "\n"
      ],
      "text/plain": [
       "  ATT1 ATT2 ATT3 ATT4 ATT5 ATT6 ATT7 ATT8 ATT9 ATT10 Result\n",
       "1  1   4     1    4    3   7     1   2    6    8     0     \n",
       "2  7   8     9    1    1   1     1   5    6    1     1     \n",
       "3 10   7    NA    7   NA   5     2   7    1    1     2     \n",
       "4  3   4     3   NA    2   8     4   6    7    2     1     \n",
       "5  3   5     2    1    6   5     3   1    7    1     0     \n",
       "6  2   7     3    2    1   4    10   3    9    5     1     "
      ]
     },
     "metadata": {},
     "output_type": "display_data"
    }
   ],
   "source": [
    "imputedData[2,1] <- att1Predict\n",
    "head(imputedData)"
   ]
  },
  {
   "cell_type": "markdown",
   "metadata": {},
   "source": [
    "<b>Model for ATT4</b>"
   ]
  },
  {
   "cell_type": "code",
   "execution_count": 28,
   "metadata": {
    "collapsed": false
   },
   "outputs": [
    {
     "data": {
      "text/plain": [
       "Support Vector Machines with Linear Kernel \n",
       "\n",
       "2997 samples\n",
       "  10 predictors\n",
       "\n",
       "Pre-processing: centered (12), scaled (12) \n",
       "Resampling: Cross-Validated (10 fold) \n",
       "Summary of sample sizes: 2697, 2698, 2697, 2697, 2698, 2699, ... \n",
       "Resampling results across tuning parameters:\n",
       "\n",
       "  C     RMSE      Rsquared   MAE     \n",
       "  0.05  2.263310  0.2982758  1.830265\n",
       "  0.10  2.266542  0.2974523  1.827796\n",
       "  0.20  2.269529  0.2967890  1.826927\n",
       "\n",
       "RMSE was used to select the optimal model using  the smallest value.\n",
       "The final value used for the model was C = 0.05."
      ]
     },
     "metadata": {},
     "output_type": "display_data"
    }
   ],
   "source": [
    "att4Model <- train(ATT4 ~ . , data = completeData, preProc = c(\"center\",\"scale\"), method = \"svmLinear\", trControl=trCtrl, tuneGrid = svmGrid)\n",
    "att4Model"
   ]
  },
  {
   "cell_type": "markdown",
   "metadata": {},
   "source": [
    "<b>Model Performance</b><br>\n",
    "We can see the model has performed in line with the cross validation found earlier in our model comparison table. Let's now impute and replace the NA value in the data at row 4."
   ]
  },
  {
   "cell_type": "code",
   "execution_count": 29,
   "metadata": {
    "collapsed": false
   },
   "outputs": [
    {
     "data": {
      "text/html": [
       "<table>\n",
       "<thead><tr><th></th><th scope=col>ATT1</th><th scope=col>ATT2</th><th scope=col>ATT3</th><th scope=col>ATT4</th><th scope=col>ATT5</th><th scope=col>ATT6</th><th scope=col>ATT7</th><th scope=col>ATT8</th><th scope=col>ATT9</th><th scope=col>ATT10</th><th scope=col>Result</th></tr></thead>\n",
       "<tbody>\n",
       "\t<tr><th scope=row>4</th><td>3 </td><td>4 </td><td>3 </td><td>NA</td><td>2 </td><td>8 </td><td>4 </td><td>6 </td><td>7 </td><td>2 </td><td>1 </td></tr>\n",
       "</tbody>\n",
       "</table>\n"
      ],
      "text/latex": [
       "\\begin{tabular}{r|lllllllllll}\n",
       "  & ATT1 & ATT2 & ATT3 & ATT4 & ATT5 & ATT6 & ATT7 & ATT8 & ATT9 & ATT10 & Result\\\\\n",
       "\\hline\n",
       "\t4 & 3  & 4  & 3  & NA & 2  & 8  & 4  & 6  & 7  & 2  & 1 \\\\\n",
       "\\end{tabular}\n"
      ],
      "text/markdown": [
       "\n",
       "| <!--/--> | ATT1 | ATT2 | ATT3 | ATT4 | ATT5 | ATT6 | ATT7 | ATT8 | ATT9 | ATT10 | Result | \n",
       "|---|\n",
       "| 4 | 3  | 4  | 3  | NA | 2  | 8  | 4  | 6  | 7  | 2  | 1  | \n",
       "\n",
       "\n"
      ],
      "text/plain": [
       "  ATT1 ATT2 ATT3 ATT4 ATT5 ATT6 ATT7 ATT8 ATT9 ATT10 Result\n",
       "4 3    4    3    NA   2    8    4    6    7    2     1     "
      ]
     },
     "metadata": {},
     "output_type": "display_data"
    }
   ],
   "source": [
    "imputedData[4,]"
   ]
  },
  {
   "cell_type": "code",
   "execution_count": 30,
   "metadata": {
    "collapsed": false
   },
   "outputs": [
    {
     "data": {
      "text/html": [
       "<strong>4:</strong> 5"
      ],
      "text/latex": [
       "\\textbf{4:} 5"
      ],
      "text/markdown": [
       "**4:** 5"
      ],
      "text/plain": [
       "4 \n",
       "5 "
      ]
     },
     "metadata": {},
     "output_type": "display_data"
    }
   ],
   "source": [
    "att4Predict <- round(predict(object = att4Model, newdata = attData[4,]), 0)\n",
    "att4Predict"
   ]
  },
  {
   "cell_type": "code",
   "execution_count": 31,
   "metadata": {
    "collapsed": false
   },
   "outputs": [
    {
     "data": {
      "text/html": [
       "<table>\n",
       "<thead><tr><th scope=col>ATT1</th><th scope=col>ATT2</th><th scope=col>ATT3</th><th scope=col>ATT4</th><th scope=col>ATT5</th><th scope=col>ATT6</th><th scope=col>ATT7</th><th scope=col>ATT8</th><th scope=col>ATT9</th><th scope=col>ATT10</th><th scope=col>Result</th></tr></thead>\n",
       "<tbody>\n",
       "\t<tr><td> 1</td><td>4 </td><td> 1</td><td>4 </td><td> 3</td><td>7 </td><td> 1</td><td>2 </td><td>6 </td><td>8 </td><td>0 </td></tr>\n",
       "\t<tr><td> 7</td><td>8 </td><td> 9</td><td>1 </td><td> 1</td><td>1 </td><td> 1</td><td>5 </td><td>6 </td><td>1 </td><td>1 </td></tr>\n",
       "\t<tr><td>10</td><td>7 </td><td>NA</td><td>7 </td><td>NA</td><td>5 </td><td> 2</td><td>7 </td><td>1 </td><td>1 </td><td>2 </td></tr>\n",
       "\t<tr><td> 3</td><td>4 </td><td> 3</td><td>5 </td><td> 2</td><td>8 </td><td> 4</td><td>6 </td><td>7 </td><td>2 </td><td>1 </td></tr>\n",
       "\t<tr><td> 3</td><td>5 </td><td> 2</td><td>1 </td><td> 6</td><td>5 </td><td> 3</td><td>1 </td><td>7 </td><td>1 </td><td>0 </td></tr>\n",
       "\t<tr><td> 2</td><td>7 </td><td> 3</td><td>2 </td><td> 1</td><td>4 </td><td>10</td><td>3 </td><td>9 </td><td>5 </td><td>1 </td></tr>\n",
       "</tbody>\n",
       "</table>\n"
      ],
      "text/latex": [
       "\\begin{tabular}{r|lllllllllll}\n",
       " ATT1 & ATT2 & ATT3 & ATT4 & ATT5 & ATT6 & ATT7 & ATT8 & ATT9 & ATT10 & Result\\\\\n",
       "\\hline\n",
       "\t  1 & 4  &  1 & 4  &  3 & 7  &  1 & 2  & 6  & 8  & 0 \\\\\n",
       "\t  7 & 8  &  9 & 1  &  1 & 1  &  1 & 5  & 6  & 1  & 1 \\\\\n",
       "\t 10 & 7  & NA & 7  & NA & 5  &  2 & 7  & 1  & 1  & 2 \\\\\n",
       "\t  3 & 4  &  3 & 5  &  2 & 8  &  4 & 6  & 7  & 2  & 1 \\\\\n",
       "\t  3 & 5  &  2 & 1  &  6 & 5  &  3 & 1  & 7  & 1  & 0 \\\\\n",
       "\t  2 & 7  &  3 & 2  &  1 & 4  & 10 & 3  & 9  & 5  & 1 \\\\\n",
       "\\end{tabular}\n"
      ],
      "text/markdown": [
       "\n",
       "ATT1 | ATT2 | ATT3 | ATT4 | ATT5 | ATT6 | ATT7 | ATT8 | ATT9 | ATT10 | Result | \n",
       "|---|---|---|---|---|---|\n",
       "|  1 | 4  |  1 | 4  |  3 | 7  |  1 | 2  | 6  | 8  | 0  | \n",
       "|  7 | 8  |  9 | 1  |  1 | 1  |  1 | 5  | 6  | 1  | 1  | \n",
       "| 10 | 7  | NA | 7  | NA | 5  |  2 | 7  | 1  | 1  | 2  | \n",
       "|  3 | 4  |  3 | 5  |  2 | 8  |  4 | 6  | 7  | 2  | 1  | \n",
       "|  3 | 5  |  2 | 1  |  6 | 5  |  3 | 1  | 7  | 1  | 0  | \n",
       "|  2 | 7  |  3 | 2  |  1 | 4  | 10 | 3  | 9  | 5  | 1  | \n",
       "\n",
       "\n"
      ],
      "text/plain": [
       "  ATT1 ATT2 ATT3 ATT4 ATT5 ATT6 ATT7 ATT8 ATT9 ATT10 Result\n",
       "1  1   4     1   4     3   7     1   2    6    8     0     \n",
       "2  7   8     9   1     1   1     1   5    6    1     1     \n",
       "3 10   7    NA   7    NA   5     2   7    1    1     2     \n",
       "4  3   4     3   5     2   8     4   6    7    2     1     \n",
       "5  3   5     2   1     6   5     3   1    7    1     0     \n",
       "6  2   7     3   2     1   4    10   3    9    5     1     "
      ]
     },
     "metadata": {},
     "output_type": "display_data"
    }
   ],
   "source": [
    "imputedData[4,4] <- att4Predict\n",
    "head(imputedData)"
   ]
  },
  {
   "cell_type": "markdown",
   "metadata": {},
   "source": [
    "<b>Model for ATT3</b><br>\n",
    "For ATT3 and ATT5 we need to adjust the data set so the prediction for each is made without the other since they are both missing from row 3."
   ]
  },
  {
   "cell_type": "code",
   "execution_count": 32,
   "metadata": {
    "collapsed": false
   },
   "outputs": [
    {
     "data": {
      "text/html": [
       "<table>\n",
       "<thead><tr><th></th><th scope=col>ATT1</th><th scope=col>ATT2</th><th scope=col>ATT3</th><th scope=col>ATT4</th><th scope=col>ATT6</th><th scope=col>ATT7</th><th scope=col>ATT8</th><th scope=col>ATT9</th><th scope=col>ATT10</th><th scope=col>Result</th></tr></thead>\n",
       "<tbody>\n",
       "\t<tr><th scope=row>1</th><td>1 </td><td>4 </td><td>1 </td><td>4 </td><td>7 </td><td> 1</td><td>2 </td><td> 6</td><td>8 </td><td>0 </td></tr>\n",
       "\t<tr><th scope=row>5</th><td>3 </td><td>5 </td><td>2 </td><td>1 </td><td>5 </td><td> 3</td><td>1 </td><td> 7</td><td>1 </td><td>0 </td></tr>\n",
       "\t<tr><th scope=row>6</th><td>2 </td><td>7 </td><td>3 </td><td>2 </td><td>4 </td><td>10</td><td>3 </td><td> 9</td><td>5 </td><td>1 </td></tr>\n",
       "\t<tr><th scope=row>7</th><td>1 </td><td>1 </td><td>3 </td><td>5 </td><td>3 </td><td> 7</td><td>1 </td><td>10</td><td>7 </td><td>1 </td></tr>\n",
       "\t<tr><th scope=row>8</th><td>8 </td><td>5 </td><td>2 </td><td>6 </td><td>7 </td><td> 3</td><td>6 </td><td> 7</td><td>3 </td><td>1 </td></tr>\n",
       "\t<tr><th scope=row>9</th><td>2 </td><td>9 </td><td>2 </td><td>1 </td><td>6 </td><td> 8</td><td>8 </td><td> 4</td><td>3 </td><td>1 </td></tr>\n",
       "</tbody>\n",
       "</table>\n"
      ],
      "text/latex": [
       "\\begin{tabular}{r|llllllllll}\n",
       "  & ATT1 & ATT2 & ATT3 & ATT4 & ATT6 & ATT7 & ATT8 & ATT9 & ATT10 & Result\\\\\n",
       "\\hline\n",
       "\t1 & 1  & 4  & 1  & 4  & 7  &  1 & 2  &  6 & 8  & 0 \\\\\n",
       "\t5 & 3  & 5  & 2  & 1  & 5  &  3 & 1  &  7 & 1  & 0 \\\\\n",
       "\t6 & 2  & 7  & 3  & 2  & 4  & 10 & 3  &  9 & 5  & 1 \\\\\n",
       "\t7 & 1  & 1  & 3  & 5  & 3  &  7 & 1  & 10 & 7  & 1 \\\\\n",
       "\t8 & 8  & 5  & 2  & 6  & 7  &  3 & 6  &  7 & 3  & 1 \\\\\n",
       "\t9 & 2  & 9  & 2  & 1  & 6  &  8 & 8  &  4 & 3  & 1 \\\\\n",
       "\\end{tabular}\n"
      ],
      "text/markdown": [
       "\n",
       "| <!--/--> | ATT1 | ATT2 | ATT3 | ATT4 | ATT6 | ATT7 | ATT8 | ATT9 | ATT10 | Result | \n",
       "|---|---|---|---|---|---|\n",
       "| 1 | 1  | 4  | 1  | 4  | 7  |  1 | 2  |  6 | 8  | 0  | \n",
       "| 5 | 3  | 5  | 2  | 1  | 5  |  3 | 1  |  7 | 1  | 0  | \n",
       "| 6 | 2  | 7  | 3  | 2  | 4  | 10 | 3  |  9 | 5  | 1  | \n",
       "| 7 | 1  | 1  | 3  | 5  | 3  |  7 | 1  | 10 | 7  | 1  | \n",
       "| 8 | 8  | 5  | 2  | 6  | 7  |  3 | 6  |  7 | 3  | 1  | \n",
       "| 9 | 2  | 9  | 2  | 1  | 6  |  8 | 8  |  4 | 3  | 1  | \n",
       "\n",
       "\n"
      ],
      "text/plain": [
       "  ATT1 ATT2 ATT3 ATT4 ATT6 ATT7 ATT8 ATT9 ATT10 Result\n",
       "1 1    4    1    4    7     1   2     6   8     0     \n",
       "5 3    5    2    1    5     3   1     7   1     0     \n",
       "6 2    7    3    2    4    10   3     9   5     1     \n",
       "7 1    1    3    5    3     7   1    10   7     1     \n",
       "8 8    5    2    6    7     3   6     7   3     1     \n",
       "9 2    9    2    1    6     8   8     4   3     1     "
      ]
     },
     "metadata": {},
     "output_type": "display_data"
    }
   ],
   "source": [
    "att3Data <- completeData[-5]\n",
    "head(att3Data)"
   ]
  },
  {
   "cell_type": "code",
   "execution_count": 33,
   "metadata": {
    "collapsed": false
   },
   "outputs": [
    {
     "data": {
      "text/plain": [
       "Support Vector Machines with Linear Kernel \n",
       "\n",
       "2997 samples\n",
       "   9 predictors\n",
       "\n",
       "Pre-processing: centered (11), scaled (11) \n",
       "Resampling: Cross-Validated (10 fold) \n",
       "Summary of sample sizes: 2698, 2697, 2697, 2699, 2697, 2697, ... \n",
       "Resampling results across tuning parameters:\n",
       "\n",
       "  C     RMSE      Rsquared   MAE     \n",
       "  0.05  2.359460  0.2513453  1.934976\n",
       "  0.10  2.360020  0.2519012  1.933645\n",
       "  0.20  2.360676  0.2520110  1.933528\n",
       "\n",
       "RMSE was used to select the optimal model using  the smallest value.\n",
       "The final value used for the model was C = 0.05."
      ]
     },
     "metadata": {},
     "output_type": "display_data"
    }
   ],
   "source": [
    "att3Model <- train(ATT3 ~ . , data = att3Data, preProc = c(\"center\",\"scale\"), method = \"svmLinear\", trControl=trCtrl, tuneGrid = svmGrid)\n",
    "att3Model"
   ]
  },
  {
   "cell_type": "markdown",
   "metadata": {},
   "source": [
    "<b>Model Performance</b><br>\n",
    "We can see the model has performed in line with the cross validation found earlier in our model comparison table. Let's now impute and replace the NA value in the data at row 3."
   ]
  },
  {
   "cell_type": "code",
   "execution_count": 34,
   "metadata": {
    "collapsed": false
   },
   "outputs": [
    {
     "data": {
      "text/html": [
       "<table>\n",
       "<thead><tr><th></th><th scope=col>ATT1</th><th scope=col>ATT2</th><th scope=col>ATT3</th><th scope=col>ATT4</th><th scope=col>ATT5</th><th scope=col>ATT6</th><th scope=col>ATT7</th><th scope=col>ATT8</th><th scope=col>ATT9</th><th scope=col>ATT10</th><th scope=col>Result</th></tr></thead>\n",
       "<tbody>\n",
       "\t<tr><th scope=row>3</th><td>10</td><td>7 </td><td>NA</td><td>7 </td><td>NA</td><td>5 </td><td>2 </td><td>7 </td><td>1 </td><td>1 </td><td>2 </td></tr>\n",
       "</tbody>\n",
       "</table>\n"
      ],
      "text/latex": [
       "\\begin{tabular}{r|lllllllllll}\n",
       "  & ATT1 & ATT2 & ATT3 & ATT4 & ATT5 & ATT6 & ATT7 & ATT8 & ATT9 & ATT10 & Result\\\\\n",
       "\\hline\n",
       "\t3 & 10 & 7  & NA & 7  & NA & 5  & 2  & 7  & 1  & 1  & 2 \\\\\n",
       "\\end{tabular}\n"
      ],
      "text/markdown": [
       "\n",
       "| <!--/--> | ATT1 | ATT2 | ATT3 | ATT4 | ATT5 | ATT6 | ATT7 | ATT8 | ATT9 | ATT10 | Result | \n",
       "|---|\n",
       "| 3 | 10 | 7  | NA | 7  | NA | 5  | 2  | 7  | 1  | 1  | 2  | \n",
       "\n",
       "\n"
      ],
      "text/plain": [
       "  ATT1 ATT2 ATT3 ATT4 ATT5 ATT6 ATT7 ATT8 ATT9 ATT10 Result\n",
       "3 10   7    NA   7    NA   5    2    7    1    1     2     "
      ]
     },
     "metadata": {},
     "output_type": "display_data"
    }
   ],
   "source": [
    "imputedData[3,]"
   ]
  },
  {
   "cell_type": "code",
   "execution_count": 35,
   "metadata": {
    "collapsed": false
   },
   "outputs": [
    {
     "data": {
      "text/html": [
       "<strong>3:</strong> 6"
      ],
      "text/latex": [
       "\\textbf{3:} 6"
      ],
      "text/markdown": [
       "**3:** 6"
      ],
      "text/plain": [
       "3 \n",
       "6 "
      ]
     },
     "metadata": {},
     "output_type": "display_data"
    }
   ],
   "source": [
    "att3Predict <- round(predict(object = att3Model, newdata = attData[3,]), 0)\n",
    "att3Predict"
   ]
  },
  {
   "cell_type": "code",
   "execution_count": 36,
   "metadata": {
    "collapsed": false
   },
   "outputs": [
    {
     "data": {
      "text/html": [
       "<table>\n",
       "<thead><tr><th scope=col>ATT1</th><th scope=col>ATT2</th><th scope=col>ATT3</th><th scope=col>ATT4</th><th scope=col>ATT5</th><th scope=col>ATT6</th><th scope=col>ATT7</th><th scope=col>ATT8</th><th scope=col>ATT9</th><th scope=col>ATT10</th><th scope=col>Result</th></tr></thead>\n",
       "<tbody>\n",
       "\t<tr><td> 1</td><td>4 </td><td>1 </td><td>4 </td><td> 3</td><td>7 </td><td> 1</td><td>2 </td><td>6 </td><td>8 </td><td>0 </td></tr>\n",
       "\t<tr><td> 7</td><td>8 </td><td>9 </td><td>1 </td><td> 1</td><td>1 </td><td> 1</td><td>5 </td><td>6 </td><td>1 </td><td>1 </td></tr>\n",
       "\t<tr><td>10</td><td>7 </td><td>6 </td><td>7 </td><td>NA</td><td>5 </td><td> 2</td><td>7 </td><td>1 </td><td>1 </td><td>2 </td></tr>\n",
       "\t<tr><td> 3</td><td>4 </td><td>3 </td><td>5 </td><td> 2</td><td>8 </td><td> 4</td><td>6 </td><td>7 </td><td>2 </td><td>1 </td></tr>\n",
       "\t<tr><td> 3</td><td>5 </td><td>2 </td><td>1 </td><td> 6</td><td>5 </td><td> 3</td><td>1 </td><td>7 </td><td>1 </td><td>0 </td></tr>\n",
       "\t<tr><td> 2</td><td>7 </td><td>3 </td><td>2 </td><td> 1</td><td>4 </td><td>10</td><td>3 </td><td>9 </td><td>5 </td><td>1 </td></tr>\n",
       "</tbody>\n",
       "</table>\n"
      ],
      "text/latex": [
       "\\begin{tabular}{r|lllllllllll}\n",
       " ATT1 & ATT2 & ATT3 & ATT4 & ATT5 & ATT6 & ATT7 & ATT8 & ATT9 & ATT10 & Result\\\\\n",
       "\\hline\n",
       "\t  1 & 4  & 1  & 4  &  3 & 7  &  1 & 2  & 6  & 8  & 0 \\\\\n",
       "\t  7 & 8  & 9  & 1  &  1 & 1  &  1 & 5  & 6  & 1  & 1 \\\\\n",
       "\t 10 & 7  & 6  & 7  & NA & 5  &  2 & 7  & 1  & 1  & 2 \\\\\n",
       "\t  3 & 4  & 3  & 5  &  2 & 8  &  4 & 6  & 7  & 2  & 1 \\\\\n",
       "\t  3 & 5  & 2  & 1  &  6 & 5  &  3 & 1  & 7  & 1  & 0 \\\\\n",
       "\t  2 & 7  & 3  & 2  &  1 & 4  & 10 & 3  & 9  & 5  & 1 \\\\\n",
       "\\end{tabular}\n"
      ],
      "text/markdown": [
       "\n",
       "ATT1 | ATT2 | ATT3 | ATT4 | ATT5 | ATT6 | ATT7 | ATT8 | ATT9 | ATT10 | Result | \n",
       "|---|---|---|---|---|---|\n",
       "|  1 | 4  | 1  | 4  |  3 | 7  |  1 | 2  | 6  | 8  | 0  | \n",
       "|  7 | 8  | 9  | 1  |  1 | 1  |  1 | 5  | 6  | 1  | 1  | \n",
       "| 10 | 7  | 6  | 7  | NA | 5  |  2 | 7  | 1  | 1  | 2  | \n",
       "|  3 | 4  | 3  | 5  |  2 | 8  |  4 | 6  | 7  | 2  | 1  | \n",
       "|  3 | 5  | 2  | 1  |  6 | 5  |  3 | 1  | 7  | 1  | 0  | \n",
       "|  2 | 7  | 3  | 2  |  1 | 4  | 10 | 3  | 9  | 5  | 1  | \n",
       "\n",
       "\n"
      ],
      "text/plain": [
       "  ATT1 ATT2 ATT3 ATT4 ATT5 ATT6 ATT7 ATT8 ATT9 ATT10 Result\n",
       "1  1   4    1    4     3   7     1   2    6    8     0     \n",
       "2  7   8    9    1     1   1     1   5    6    1     1     \n",
       "3 10   7    6    7    NA   5     2   7    1    1     2     \n",
       "4  3   4    3    5     2   8     4   6    7    2     1     \n",
       "5  3   5    2    1     6   5     3   1    7    1     0     \n",
       "6  2   7    3    2     1   4    10   3    9    5     1     "
      ]
     },
     "metadata": {},
     "output_type": "display_data"
    }
   ],
   "source": [
    "imputedData[3,3] <- att3Predict\n",
    "head(imputedData)"
   ]
  },
  {
   "cell_type": "markdown",
   "metadata": {},
   "source": [
    "<b>Model for ATT5<b>"
   ]
  },
  {
   "cell_type": "code",
   "execution_count": 37,
   "metadata": {
    "collapsed": false
   },
   "outputs": [
    {
     "data": {
      "text/html": [
       "<table>\n",
       "<thead><tr><th></th><th scope=col>ATT1</th><th scope=col>ATT2</th><th scope=col>ATT4</th><th scope=col>ATT5</th><th scope=col>ATT6</th><th scope=col>ATT7</th><th scope=col>ATT8</th><th scope=col>ATT9</th><th scope=col>ATT10</th><th scope=col>Result</th></tr></thead>\n",
       "<tbody>\n",
       "\t<tr><th scope=row>1</th><td>1 </td><td>4 </td><td>4 </td><td>3 </td><td>7 </td><td> 1</td><td>2 </td><td> 6</td><td>8 </td><td>0 </td></tr>\n",
       "\t<tr><th scope=row>5</th><td>3 </td><td>5 </td><td>1 </td><td>6 </td><td>5 </td><td> 3</td><td>1 </td><td> 7</td><td>1 </td><td>0 </td></tr>\n",
       "\t<tr><th scope=row>6</th><td>2 </td><td>7 </td><td>2 </td><td>1 </td><td>4 </td><td>10</td><td>3 </td><td> 9</td><td>5 </td><td>1 </td></tr>\n",
       "\t<tr><th scope=row>7</th><td>1 </td><td>1 </td><td>5 </td><td>9 </td><td>3 </td><td> 7</td><td>1 </td><td>10</td><td>7 </td><td>1 </td></tr>\n",
       "\t<tr><th scope=row>8</th><td>8 </td><td>5 </td><td>6 </td><td>2 </td><td>7 </td><td> 3</td><td>6 </td><td> 7</td><td>3 </td><td>1 </td></tr>\n",
       "\t<tr><th scope=row>9</th><td>2 </td><td>9 </td><td>1 </td><td>4 </td><td>6 </td><td> 8</td><td>8 </td><td> 4</td><td>3 </td><td>1 </td></tr>\n",
       "</tbody>\n",
       "</table>\n"
      ],
      "text/latex": [
       "\\begin{tabular}{r|llllllllll}\n",
       "  & ATT1 & ATT2 & ATT4 & ATT5 & ATT6 & ATT7 & ATT8 & ATT9 & ATT10 & Result\\\\\n",
       "\\hline\n",
       "\t1 & 1  & 4  & 4  & 3  & 7  &  1 & 2  &  6 & 8  & 0 \\\\\n",
       "\t5 & 3  & 5  & 1  & 6  & 5  &  3 & 1  &  7 & 1  & 0 \\\\\n",
       "\t6 & 2  & 7  & 2  & 1  & 4  & 10 & 3  &  9 & 5  & 1 \\\\\n",
       "\t7 & 1  & 1  & 5  & 9  & 3  &  7 & 1  & 10 & 7  & 1 \\\\\n",
       "\t8 & 8  & 5  & 6  & 2  & 7  &  3 & 6  &  7 & 3  & 1 \\\\\n",
       "\t9 & 2  & 9  & 1  & 4  & 6  &  8 & 8  &  4 & 3  & 1 \\\\\n",
       "\\end{tabular}\n"
      ],
      "text/markdown": [
       "\n",
       "| <!--/--> | ATT1 | ATT2 | ATT4 | ATT5 | ATT6 | ATT7 | ATT8 | ATT9 | ATT10 | Result | \n",
       "|---|---|---|---|---|---|\n",
       "| 1 | 1  | 4  | 4  | 3  | 7  |  1 | 2  |  6 | 8  | 0  | \n",
       "| 5 | 3  | 5  | 1  | 6  | 5  |  3 | 1  |  7 | 1  | 0  | \n",
       "| 6 | 2  | 7  | 2  | 1  | 4  | 10 | 3  |  9 | 5  | 1  | \n",
       "| 7 | 1  | 1  | 5  | 9  | 3  |  7 | 1  | 10 | 7  | 1  | \n",
       "| 8 | 8  | 5  | 6  | 2  | 7  |  3 | 6  |  7 | 3  | 1  | \n",
       "| 9 | 2  | 9  | 1  | 4  | 6  |  8 | 8  |  4 | 3  | 1  | \n",
       "\n",
       "\n"
      ],
      "text/plain": [
       "  ATT1 ATT2 ATT4 ATT5 ATT6 ATT7 ATT8 ATT9 ATT10 Result\n",
       "1 1    4    4    3    7     1   2     6   8     0     \n",
       "5 3    5    1    6    5     3   1     7   1     0     \n",
       "6 2    7    2    1    4    10   3     9   5     1     \n",
       "7 1    1    5    9    3     7   1    10   7     1     \n",
       "8 8    5    6    2    7     3   6     7   3     1     \n",
       "9 2    9    1    4    6     8   8     4   3     1     "
      ]
     },
     "metadata": {},
     "output_type": "display_data"
    }
   ],
   "source": [
    "att5Data <- completeData[-3]\n",
    "head(att5Data)"
   ]
  },
  {
   "cell_type": "code",
   "execution_count": 38,
   "metadata": {
    "collapsed": false
   },
   "outputs": [
    {
     "data": {
      "text/plain": [
       "Support Vector Machines with Linear Kernel \n",
       "\n",
       "2997 samples\n",
       "   9 predictors\n",
       "\n",
       "Pre-processing: centered (11), scaled (11) \n",
       "Resampling: Cross-Validated (10 fold) \n",
       "Summary of sample sizes: 2699, 2698, 2698, 2696, 2697, 2696, ... \n",
       "Resampling results across tuning parameters:\n",
       "\n",
       "  C     RMSE      Rsquared   MAE     \n",
       "  0.05  2.315736  0.2543370  1.879088\n",
       "  0.10  2.315191  0.2553151  1.877305\n",
       "  0.20  2.315211  0.2557998  1.876478\n",
       "\n",
       "RMSE was used to select the optimal model using  the smallest value.\n",
       "The final value used for the model was C = 0.1."
      ]
     },
     "metadata": {},
     "output_type": "display_data"
    }
   ],
   "source": [
    "att5Model <- train(ATT5 ~ . , data = att5Data, preProc = c(\"center\",\"scale\"), method = \"svmLinear\", trControl=trCtrl, tuneGrid = svmGrid)\n",
    "att5Model"
   ]
  },
  {
   "cell_type": "markdown",
   "metadata": {},
   "source": [
    "<b>Model Performance</b><br>\n",
    "We can see the model has performed in line with the cross validation found earlier in our model comparison table. Let's now impute and replace the NA value in the data at row 3."
   ]
  },
  {
   "cell_type": "code",
   "execution_count": 39,
   "metadata": {
    "collapsed": false
   },
   "outputs": [
    {
     "data": {
      "text/html": [
       "<strong>3:</strong> 6"
      ],
      "text/latex": [
       "\\textbf{3:} 6"
      ],
      "text/markdown": [
       "**3:** 6"
      ],
      "text/plain": [
       "3 \n",
       "6 "
      ]
     },
     "metadata": {},
     "output_type": "display_data"
    }
   ],
   "source": [
    "att5Predict <- round(predict(object = att5Model, newdata = attData[3,]), 0)\n",
    "att5Predict"
   ]
  },
  {
   "cell_type": "code",
   "execution_count": 40,
   "metadata": {
    "collapsed": false
   },
   "outputs": [
    {
     "data": {
      "text/html": [
       "<table>\n",
       "<thead><tr><th></th><th scope=col>ATT1</th><th scope=col>ATT2</th><th scope=col>ATT3</th><th scope=col>ATT4</th><th scope=col>ATT5</th><th scope=col>ATT6</th><th scope=col>ATT7</th><th scope=col>ATT8</th><th scope=col>ATT9</th><th scope=col>ATT10</th><th scope=col>Result</th></tr></thead>\n",
       "<tbody>\n",
       "\t<tr><th scope=row>3</th><td>10</td><td>7 </td><td>6 </td><td>7 </td><td>NA</td><td>5 </td><td>2 </td><td>7 </td><td>1 </td><td>1 </td><td>2 </td></tr>\n",
       "</tbody>\n",
       "</table>\n"
      ],
      "text/latex": [
       "\\begin{tabular}{r|lllllllllll}\n",
       "  & ATT1 & ATT2 & ATT3 & ATT4 & ATT5 & ATT6 & ATT7 & ATT8 & ATT9 & ATT10 & Result\\\\\n",
       "\\hline\n",
       "\t3 & 10 & 7  & 6  & 7  & NA & 5  & 2  & 7  & 1  & 1  & 2 \\\\\n",
       "\\end{tabular}\n"
      ],
      "text/markdown": [
       "\n",
       "| <!--/--> | ATT1 | ATT2 | ATT3 | ATT4 | ATT5 | ATT6 | ATT7 | ATT8 | ATT9 | ATT10 | Result | \n",
       "|---|\n",
       "| 3 | 10 | 7  | 6  | 7  | NA | 5  | 2  | 7  | 1  | 1  | 2  | \n",
       "\n",
       "\n"
      ],
      "text/plain": [
       "  ATT1 ATT2 ATT3 ATT4 ATT5 ATT6 ATT7 ATT8 ATT9 ATT10 Result\n",
       "3 10   7    6    7    NA   5    2    7    1    1     2     "
      ]
     },
     "metadata": {},
     "output_type": "display_data"
    }
   ],
   "source": [
    "imputedData[3,]"
   ]
  },
  {
   "cell_type": "code",
   "execution_count": 41,
   "metadata": {
    "collapsed": false
   },
   "outputs": [
    {
     "data": {
      "text/html": [
       "<table>\n",
       "<thead><tr><th scope=col>ATT1</th><th scope=col>ATT2</th><th scope=col>ATT3</th><th scope=col>ATT4</th><th scope=col>ATT5</th><th scope=col>ATT6</th><th scope=col>ATT7</th><th scope=col>ATT8</th><th scope=col>ATT9</th><th scope=col>ATT10</th><th scope=col>Result</th></tr></thead>\n",
       "<tbody>\n",
       "\t<tr><td> 1</td><td>4 </td><td>1 </td><td>4 </td><td>3 </td><td>7 </td><td> 1</td><td>2 </td><td>6 </td><td>8 </td><td>0 </td></tr>\n",
       "\t<tr><td> 7</td><td>8 </td><td>9 </td><td>1 </td><td>1 </td><td>1 </td><td> 1</td><td>5 </td><td>6 </td><td>1 </td><td>1 </td></tr>\n",
       "\t<tr><td>10</td><td>7 </td><td>6 </td><td>7 </td><td>6 </td><td>5 </td><td> 2</td><td>7 </td><td>1 </td><td>1 </td><td>2 </td></tr>\n",
       "\t<tr><td> 3</td><td>4 </td><td>3 </td><td>5 </td><td>2 </td><td>8 </td><td> 4</td><td>6 </td><td>7 </td><td>2 </td><td>1 </td></tr>\n",
       "\t<tr><td> 3</td><td>5 </td><td>2 </td><td>1 </td><td>6 </td><td>5 </td><td> 3</td><td>1 </td><td>7 </td><td>1 </td><td>0 </td></tr>\n",
       "\t<tr><td> 2</td><td>7 </td><td>3 </td><td>2 </td><td>1 </td><td>4 </td><td>10</td><td>3 </td><td>9 </td><td>5 </td><td>1 </td></tr>\n",
       "</tbody>\n",
       "</table>\n"
      ],
      "text/latex": [
       "\\begin{tabular}{r|lllllllllll}\n",
       " ATT1 & ATT2 & ATT3 & ATT4 & ATT5 & ATT6 & ATT7 & ATT8 & ATT9 & ATT10 & Result\\\\\n",
       "\\hline\n",
       "\t  1 & 4  & 1  & 4  & 3  & 7  &  1 & 2  & 6  & 8  & 0 \\\\\n",
       "\t  7 & 8  & 9  & 1  & 1  & 1  &  1 & 5  & 6  & 1  & 1 \\\\\n",
       "\t 10 & 7  & 6  & 7  & 6  & 5  &  2 & 7  & 1  & 1  & 2 \\\\\n",
       "\t  3 & 4  & 3  & 5  & 2  & 8  &  4 & 6  & 7  & 2  & 1 \\\\\n",
       "\t  3 & 5  & 2  & 1  & 6  & 5  &  3 & 1  & 7  & 1  & 0 \\\\\n",
       "\t  2 & 7  & 3  & 2  & 1  & 4  & 10 & 3  & 9  & 5  & 1 \\\\\n",
       "\\end{tabular}\n"
      ],
      "text/markdown": [
       "\n",
       "ATT1 | ATT2 | ATT3 | ATT4 | ATT5 | ATT6 | ATT7 | ATT8 | ATT9 | ATT10 | Result | \n",
       "|---|---|---|---|---|---|\n",
       "|  1 | 4  | 1  | 4  | 3  | 7  |  1 | 2  | 6  | 8  | 0  | \n",
       "|  7 | 8  | 9  | 1  | 1  | 1  |  1 | 5  | 6  | 1  | 1  | \n",
       "| 10 | 7  | 6  | 7  | 6  | 5  |  2 | 7  | 1  | 1  | 2  | \n",
       "|  3 | 4  | 3  | 5  | 2  | 8  |  4 | 6  | 7  | 2  | 1  | \n",
       "|  3 | 5  | 2  | 1  | 6  | 5  |  3 | 1  | 7  | 1  | 0  | \n",
       "|  2 | 7  | 3  | 2  | 1  | 4  | 10 | 3  | 9  | 5  | 1  | \n",
       "\n",
       "\n"
      ],
      "text/plain": [
       "  ATT1 ATT2 ATT3 ATT4 ATT5 ATT6 ATT7 ATT8 ATT9 ATT10 Result\n",
       "1  1   4    1    4    3    7     1   2    6    8     0     \n",
       "2  7   8    9    1    1    1     1   5    6    1     1     \n",
       "3 10   7    6    7    6    5     2   7    1    1     2     \n",
       "4  3   4    3    5    2    8     4   6    7    2     1     \n",
       "5  3   5    2    1    6    5     3   1    7    1     0     \n",
       "6  2   7    3    2    1    4    10   3    9    5     1     "
      ]
     },
     "metadata": {},
     "output_type": "display_data"
    }
   ],
   "source": [
    "imputedData[3,5] <- att3Predict\n",
    "head(imputedData)"
   ]
  },
  {
   "cell_type": "markdown",
   "metadata": {},
   "source": [
    "#### Review of Imputed Data Frame"
   ]
  },
  {
   "cell_type": "code",
   "execution_count": 42,
   "metadata": {
    "collapsed": false
   },
   "outputs": [
    {
     "data": {
      "text/plain": [
       "      ATT1             ATT2             ATT3             ATT4      \n",
       " Min.   : 1.000   Min.   : 1.000   Min.   : 1.000   Min.   : 1.00  \n",
       " 1st Qu.: 2.000   1st Qu.: 2.000   1st Qu.: 2.000   1st Qu.: 2.00  \n",
       " Median : 4.000   Median : 4.000   Median : 4.000   Median : 4.00  \n",
       " Mean   : 4.426   Mean   : 4.501   Mean   : 4.422   Mean   : 4.44  \n",
       " 3rd Qu.: 7.000   3rd Qu.: 7.000   3rd Qu.: 7.000   3rd Qu.: 6.00  \n",
       " Max.   :10.000   Max.   :10.000   Max.   :10.000   Max.   :10.00  \n",
       "      ATT5             ATT6             ATT7             ATT8       \n",
       " Min.   : 1.000   Min.   : 1.000   Min.   : 1.000   Min.   : 1.000  \n",
       " 1st Qu.: 2.000   1st Qu.: 2.000   1st Qu.: 2.000   1st Qu.: 2.000  \n",
       " Median : 4.000   Median : 4.000   Median : 4.000   Median : 4.000  \n",
       " Mean   : 4.326   Mean   : 4.431   Mean   : 4.479   Mean   : 4.478  \n",
       " 3rd Qu.: 6.000   3rd Qu.: 6.000   3rd Qu.: 7.000   3rd Qu.: 7.000  \n",
       " Max.   :10.000   Max.   :10.000   Max.   :10.000   Max.   :10.000  \n",
       "      ATT9            ATT10        Result  \n",
       " Min.   : 1.000   Min.   : 1.000   0:1082  \n",
       " 1st Qu.: 2.000   1st Qu.: 2.000   1:1080  \n",
       " Median : 4.000   Median : 4.000   2: 642  \n",
       " Mean   : 4.446   Mean   : 4.459   3: 196  \n",
       " 3rd Qu.: 6.000   3rd Qu.: 7.000           \n",
       " Max.   :10.000   Max.   :10.000           "
      ]
     },
     "metadata": {},
     "output_type": "display_data"
    }
   ],
   "source": [
    "summary(imputedData)"
   ]
  },
  {
   "cell_type": "code",
   "execution_count": 43,
   "metadata": {
    "collapsed": false
   },
   "outputs": [
    {
     "name": "stdout",
     "output_type": "stream",
     "text": [
      "'data.frame':\t3000 obs. of  11 variables:\n",
      " $ ATT1  : num  1 7 10 3 3 2 1 8 2 1 ...\n",
      " $ ATT2  : num  4 8 7 4 5 7 1 5 9 1 ...\n",
      " $ ATT3  : num  1 9 6 3 2 3 3 2 2 1 ...\n",
      " $ ATT4  : num  4 1 7 5 1 2 5 6 1 8 ...\n",
      " $ ATT5  : num  3 1 6 2 6 1 9 2 4 9 ...\n",
      " $ ATT6  : num  7 1 5 8 5 4 3 7 6 2 ...\n",
      " $ ATT7  : num  1 1 2 4 3 10 7 3 8 2 ...\n",
      " $ ATT8  : num  2 5 7 6 1 3 1 6 8 5 ...\n",
      " $ ATT9  : num  6 6 1 7 7 9 10 7 4 1 ...\n",
      " $ ATT10 : num  8 1 1 2 1 5 7 3 3 3 ...\n",
      " $ Result: Factor w/ 4 levels \"0\",\"1\",\"2\",\"3\": 1 2 3 2 1 2 2 2 2 1 ...\n"
     ]
    }
   ],
   "source": [
    "str(imputedData)"
   ]
  },
  {
   "cell_type": "markdown",
   "metadata": {
    "collapsed": true
   },
   "source": [
    "We now have a complete data frame with 3000 entries and valid integers between one and ten for all predictor variables. Let's move onto building the classifier models."
   ]
  },
  {
   "cell_type": "markdown",
   "metadata": {},
   "source": [
    "## Building a Classifier\n",
    "We we build four classifiers in approximate order of model complexity: <br>\n",
    "1. Multinomial Logistic Classifier\n",
    "2. Support Vector Machine Classifer\n",
    "3. Gradient Boosted Machine Classifer\n",
    "4. Neural Network Classifier\n",
    "\n",
    "The classifiers will be built using the data set with imputed values calculated above."
   ]
  },
  {
   "cell_type": "markdown",
   "metadata": {},
   "source": [
    "#### Cross Validation\n",
    "In order to make sure that the models we build will genralize well we will use cross validation to build and test them on various 'folds' of data. The folds function takes a set of data and creates k folds of training and k folds of corresponding testing data and returns it as a list. These will then be accessed to train and test the classifiers we later build."
   ]
  },
  {
   "cell_type": "code",
   "execution_count": 44,
   "metadata": {
    "collapsed": true
   },
   "outputs": [],
   "source": [
    "folds <- function(data, k = 10) {\n",
    "  #shuffle the data\n",
    "  dataShuffled <- data[sample(nrow(data)),]\n",
    "  \n",
    "  #Create k  folds\n",
    "  folds <- cut(seq(1,nrow(dataShuffled)),breaks=k,labels=FALSE)\n",
    "  \n",
    "  testData <- list()\n",
    "  trainData <- list()\n",
    "  \n",
    "  for(i in 1:10){\n",
    "    #Segement your data by fold using the which() function \n",
    "    testIndexes <- which(folds==i,arr.ind=TRUE)\n",
    "    testData[[i]] <- dataShuffled[testIndexes, ]\n",
    "    trainData[[i]] <- dataShuffled[-testIndexes, ]\n",
    "  }\n",
    "  \n",
    "  return(list('training' = trainData, 'testing' = testData))\n",
    "}\n"
   ]
  },
  {
   "cell_type": "markdown",
   "metadata": {},
   "source": [
    "Lets build 10 folds of train and test data from the data set with imputed values to use to build and test our classification models."
   ]
  },
  {
   "cell_type": "code",
   "execution_count": 45,
   "metadata": {
    "collapsed": true
   },
   "outputs": [],
   "source": [
    "imputedDataCV <- folds(imputedData)"
   ]
  },
  {
   "cell_type": "markdown",
   "metadata": {},
   "source": [
    "### Multinomial Logistic Classification\n",
    "One of the simplest classification models available is the logistic regression classifier. Logistic regression is a form of linear classification that uses a sigmoid function and a cutoff value when deciding on the class labels, the decision boundary is still linear for any fixed cut off value. In order to build the classifier we will use the glmnet package and set the family of the classifier to multinomial.\n",
    "\n",
    "The glmnet package requires that the data be provided in a matrix so let's convert the data to a matrix. We will use the first fold of our data for am in depth trial run, looking at the log(lambda) vs misclassification error and the overall model statistics before building and recording the accuracy for all folds of our data.\n",
    "\n",
    "First let's convert the data to train and test data and labels and then convert the data portions to matrix form."
   ]
  },
  {
   "cell_type": "code",
   "execution_count": 46,
   "metadata": {
    "collapsed": true
   },
   "outputs": [],
   "source": [
    "train <- imputedDataCV$training[[1]]\n",
    "test <- imputedDataCV$testing[[1]]\n",
    "train.data = train[, -which(names(imputedData)  == 'Result')]\n",
    "train.label = train[, 'Result']\n",
    "test.data = test[, -which(names(imputedData)  == 'Result')]\n",
    "test.label = test[, 'Result']\n",
    "train_y <- train.label\n",
    "test_y <- test.label\n",
    "train_x <- as.matrix(train.data)\n",
    "test_x <- as.matrix(test.data)"
   ]
  },
  {
   "cell_type": "markdown",
   "metadata": {},
   "source": [
    "Now we can use the cv.glmnet function in the glmnet package to use cross validation to predict the best value of lambda. In this example we are doing ridge regression by setting the value of alpha to 0. After the function has run we will plot the results and be able to visualise the best value for lambda and get an idea about potential performance."
   ]
  },
  {
   "cell_type": "code",
   "execution_count": null,
   "metadata": {
    "collapsed": true
   },
   "outputs": [],
   "source": [
    "options(repr.plot.width=8, repr.plot.height=6)\n",
    "options(warn=-1)\n",
    "ridgeModel <- cv.glmnet(train_x, train_y, family=\"multinomial\", type.measure=\"class\", alpha=1)\n",
    "plot(ridgeModel)"
   ]
  },
  {
   "cell_type": "markdown",
   "metadata": {},
   "source": [
    "Wow! Our misclassification rate is zero for low values of lambda. We'll make some predictions using this model on the test data matrix and create a confusion matrix on the results."
   ]
  },
  {
   "cell_type": "code",
   "execution_count": 48,
   "metadata": {
    "collapsed": false
   },
   "outputs": [
    {
     "data": {
      "text/plain": [
       "Confusion Matrix and Statistics\n",
       "\n",
       "          Reference\n",
       "Prediction   0   1   2   3\n",
       "         0 109   0   0   0\n",
       "         1   0 117   0   0\n",
       "         2   0   0  56   0\n",
       "         3   0   0   0  18\n",
       "\n",
       "Overall Statistics\n",
       "                                     \n",
       "               Accuracy : 1          \n",
       "                 95% CI : (0.9878, 1)\n",
       "    No Information Rate : 0.39       \n",
       "    P-Value [Acc > NIR] : < 2.2e-16  \n",
       "                                     \n",
       "                  Kappa : 1          \n",
       " Mcnemar's Test P-Value : NA         \n",
       "\n",
       "Statistics by Class:\n",
       "\n",
       "                     Class: 0 Class: 1 Class: 2 Class: 3\n",
       "Sensitivity            1.0000     1.00   1.0000     1.00\n",
       "Specificity            1.0000     1.00   1.0000     1.00\n",
       "Pos Pred Value         1.0000     1.00   1.0000     1.00\n",
       "Neg Pred Value         1.0000     1.00   1.0000     1.00\n",
       "Prevalence             0.3633     0.39   0.1867     0.06\n",
       "Detection Rate         0.3633     0.39   0.1867     0.06\n",
       "Detection Prevalence   0.3633     0.39   0.1867     0.06\n",
       "Balanced Accuracy      1.0000     1.00   1.0000     1.00"
      ]
     },
     "metadata": {},
     "output_type": "display_data"
    }
   ],
   "source": [
    "ridgeModel.Predictions <- predict(ridgeModel, s = ridgeModel$lambda.min, test_x, type='class')\n",
    "confusionMatrix(data = ridgeModel.Predictions, reference = test.label)"
   ]
  },
  {
   "cell_type": "markdown",
   "metadata": {},
   "source": [
    "<b>Model Performance</b> <br>As suggested by the log(lambda) plot the multinomial classifier using ridge penalization has performed very well and has an accuracy of 100%. It is worth noting that the lambda value used in the model is very low and because of that very little coefficient penalzation would have been performed, we won't bother changing the alpha parameter which uses a mixture of ridge penalization (0) through to LASSO penalization (1).\n",
    "\n",
    "We'll now loop through all of the folds of our data and report the accuracy of each model built."
   ]
  },
  {
   "cell_type": "code",
   "execution_count": 49,
   "metadata": {
    "collapsed": false
   },
   "outputs": [
    {
     "name": "stdout",
     "output_type": "stream",
     "text": [
      "For fold  1  the Accuracy was  1 using a lambda value of  6.661119e-05 \n",
      "For fold  2  the Accuracy was  1 using a lambda value of  0.0001301747 \n",
      "For fold  3  the Accuracy was  1 using a lambda value of  4.287633e-05 \n",
      "For fold  4  the Accuracy was  1 using a lambda value of  9.122224e-05 \n",
      "For fold  5  the Accuracy was  1 using a lambda value of  5.039259e-05 \n",
      "For fold  6  the Accuracy was  1 using a lambda value of  8.881114e-05 \n",
      "For fold  7  the Accuracy was  0.9966667 using a lambda value of  0.0001699081 \n",
      "For fold  8  the Accuracy was  0.9966667 using a lambda value of  0.0004360395 \n",
      "For fold  9  the Accuracy was  1 using a lambda value of  7.276754e-05 \n",
      "For fold  10  the Accuracy was  1 using a lambda value of  5.565836e-05 \n",
      "The mean accuracy was   1"
     ]
    }
   ],
   "source": [
    "accRecord <- 0\n",
    "k <- 1\n",
    "for (k in 1:length(imputedDataCV$training)) {\n",
    "    train <- imputedDataCV$training[[k]]\n",
    "    test <- imputedDataCV$testing[[k]]\n",
    "    train.data = train[, -which(names(imputedData)  == 'Result')]\n",
    "    train.label = train[, 'Result']\n",
    "    test.data = test[, -which(names(imputedData)  == 'Result')]\n",
    "    test.label = test[, 'Result']\n",
    "    train_y <- train.label\n",
    "    test_y <- test.label\n",
    "    train_x <- as.matrix(train.data)\n",
    "    test_x <- as.matrix(test.data)\n",
    "    ridgeModel <- cv.glmnet(train_x, train_y, family=\"multinomial\", type.measure=\"class\", alpha=1)\n",
    "    ridgeModel.Predictions <- predict(ridgeModel, s = ridgeModel$lambda.min, test_x, type='class')\n",
    "    tempCM <- confusionMatrix(data = ridgeModel.Predictions, reference = test.label)\n",
    "    accRecord[k] <- tempCM$overall[['Accuracy']]\n",
    "    cat('For fold ', k, ' the Accuracy was ', accRecord[k], 'using a lambda value of ', ridgeModel$lambda.min, '\\n')\n",
    "}\n",
    "cat('The mean accuracy was  ', mean(accRecord[k]))"
   ]
  },
  {
   "cell_type": "markdown",
   "metadata": {
    "collapsed": true
   },
   "source": [
    "Great results, we can see that we can build a linear model using mutlinomial logistic regression and achieve excellent accuracy. The results suggest that the data is linearly separable, that is the decision boundaries can be drawn using straight lines (or hyper planes in this case of multidimensional space).\n",
    "\n",
    "Normally we would stop at this point, it is not really possible to get a simpler classification model for this problem nor is it possible to find a model that performs significantly better. Even if other models with similar accuracy were found we would still select the simplest model which would be this logistic classifier. For the sake of exploring other classifier models we will continue to build the remaining models."
   ]
  },
  {
   "cell_type": "markdown",
   "metadata": {
    "collapsed": true
   },
   "source": [
    "#### Linear Discriminant Analysis\n",
    "Linear Discriminant Analysis or LDA estimates the model parameters mean and variance for each feature for each class in the model. It makes further predictions by using Bayes Theorem to estimate the probability of a new data point beloinging to each class.\n",
    "\n",
    "LDA when used for classification makes an assumption that the each feature in the model is normally distributed and has the same variance. We aleady know this not to be true which is one of the reasons it was not originally selected as a classifier to test. Fortunately we can still take advantage of one of the main features of LDA, that it can be used for dimensionality reduction to see if we can get a good visualisation of the data being linearly separable. LDS can still do a good job of dimensionality reduction even whent the distribution (mean and variance) assumptions are not true."
   ]
  },
  {
   "cell_type": "code",
   "execution_count": 50,
   "metadata": {
    "collapsed": false
   },
   "outputs": [
    {
     "data": {
      "text/plain": [
       "Call:\n",
       "lda(Result ~ ., data = ldaImputedDataCV$training[[1]])\n",
       "\n",
       "Prior probabilities of groups:\n",
       "    0     1     2     3 \n",
       "0.366 0.356 0.206 0.072 \n",
       "\n",
       "Group means:\n",
       "      ATT1     ATT2     ATT3     ATT4     ATT5     ATT6     ATT7     ATT8\n",
       "0 3.265938 3.306011 3.275046 3.360656 3.289617 3.440801 3.338798 3.488160\n",
       "1 4.711610 4.619850 4.421348 4.558052 4.378277 4.582397 4.614232 4.571161\n",
       "2 5.656958 5.411003 5.407767 5.281553 5.689320 5.436893 5.559871 5.197411\n",
       "3 6.259259 6.268519 6.546296 6.907407 6.324074 6.000000 6.259259 7.055556\n",
       "      ATT9    ATT10\n",
       "0 3.218579 3.205829\n",
       "1 4.606742 4.370787\n",
       "2 5.310680 5.867314\n",
       "3 6.675926 6.425926\n",
       "\n",
       "Coefficients of linear discriminants:\n",
       "            LD1         LD2         LD3\n",
       "ATT1  0.2536850 -0.09372590  0.17510778\n",
       "ATT2  0.2447223 -0.02458968  0.12621173\n",
       "ATT3  0.2470460  0.03810790 -0.06753896\n",
       "ATT4  0.2582906  0.18198848 -0.02261503\n",
       "ATT5  0.2477111 -0.11620930 -0.15362196\n",
       "ATT6  0.2306022 -0.07962841  0.06330833\n",
       "ATT7  0.2324900 -0.07664995  0.08283523\n",
       "ATT8  0.2557074  0.23801896 -0.10014722\n",
       "ATT9  0.2525464  0.09592158  0.10831195\n",
       "ATT10 0.2567236 -0.14639906 -0.18508932\n",
       "\n",
       "Proportion of trace:\n",
       "   LD1    LD2    LD3 \n",
       "0.9959 0.0032 0.0009 "
      ]
     },
     "metadata": {},
     "output_type": "display_data"
    }
   ],
   "source": [
    "ldaImputedDataCV <- folds(imputedData, 2)\n",
    "ldaModel <- lda(formula = Result ~ ., data = ldaImputedDataCV$training[[1]])\n",
    "ldaModel\n"
   ]
  },
  {
   "cell_type": "markdown",
   "metadata": {},
   "source": [
    "<b>Model Output</b><br>The output of the model shows that 99.7% of separation of the variables can occur using the coefficients of the linear discriminant LD1. E..g a model mdade up of ~ 0.27 ATTR1 + 0.0252 ATT2 .... + 0.25 ATT10. We'd expect excellent separation based on LD1 alone.\n",
    "\n",
    "We'll predict the values for the other half of the data in the testing data set from the folds created earlier and check how the classifier performs. "
   ]
  },
  {
   "cell_type": "code",
   "execution_count": 51,
   "metadata": {
    "collapsed": false
   },
   "outputs": [
    {
     "data": {
      "text/plain": [
       "Confusion Matrix and Statistics\n",
       "\n",
       "          Reference\n",
       "Prediction   0   1   2   3\n",
       "         0 482   0   0   0\n",
       "         1  51 543  22   0\n",
       "         2   0   3 308  14\n",
       "         3   0   0   3  74\n",
       "\n",
       "Overall Statistics\n",
       "                                          \n",
       "               Accuracy : 0.938           \n",
       "                 95% CI : (0.9246, 0.9497)\n",
       "    No Information Rate : 0.364           \n",
       "    P-Value [Acc > NIR] : < 2.2e-16       \n",
       "                                          \n",
       "                  Kappa : 0.9095          \n",
       " Mcnemar's Test P-Value : NA              \n",
       "\n",
       "Statistics by Class:\n",
       "\n",
       "                     Class: 0 Class: 1 Class: 2 Class: 3\n",
       "Sensitivity            0.9043   0.9945   0.9249  0.84091\n",
       "Specificity            1.0000   0.9235   0.9854  0.99788\n",
       "Pos Pred Value         1.0000   0.8815   0.9477  0.96104\n",
       "Neg Pred Value         0.9499   0.9966   0.9787  0.99016\n",
       "Prevalence             0.3553   0.3640   0.2220  0.05867\n",
       "Detection Rate         0.3213   0.3620   0.2053  0.04933\n",
       "Detection Prevalence   0.3213   0.4107   0.2167  0.05133\n",
       "Balanced Accuracy      0.9522   0.9590   0.9552  0.91939"
      ]
     },
     "metadata": {},
     "output_type": "display_data"
    }
   ],
   "source": [
    "ldaPredict <- predict(object = ldaModel, newdata = ldaImputedDataCV$testing[[1]])\n",
    "confusionMatrix(data = ldaPredict$class, reference = ldaImputedDataCV$testing[[1]]$Result)"
   ]
  },
  {
   "cell_type": "markdown",
   "metadata": {},
   "source": [
    "<b>Model Perforamnce</b><br>Not a bad accuracy result considering we knew that the distribution of the features violates one of the constraints of using LDA for classification. Let's plot the predicted LD1 and LD2 values of each point and colour them by the class label in the original data. LD1 which is responsible for 99.74% of the separation will be plotted onthe x-axis."
   ]
  },
  {
   "cell_type": "code",
   "execution_count": 52,
   "metadata": {
    "collapsed": false
   },
   "outputs": [
    {
     "data": {},
     "metadata": {},
     "output_type": "display_data"
    },
    {
     "data": {
      "image/png": "[encoded data removed]",
      "text/plain": [
       "plot without title"
      ]
     },
     "metadata": {},
     "output_type": "display_data"
    }
   ],
   "source": [
    "options(repr.plot.width=8, repr.plot.height=6)\n",
    "dataset = data.frame(Result = ldaImputedDataCV$testing[[1]][,'Result'], lda = ldaPredict$x)\n",
    "ggplot(dataset) + geom_point(aes(lda.LD1, lda.LD2, colour = Result), size = .5)"
   ]
  },
  {
   "cell_type": "markdown",
   "metadata": {},
   "source": [
    "As expected there is excellent separation of the data along the x-axis which represents linear dsicriminant LD1. While we won't be using the LDA classifier as our chosen model it was useful to be able to visualise the data in two dimensions."
   ]
  },
  {
   "cell_type": "markdown",
   "metadata": {},
   "source": [
    "### Support Vector Machine Classification\n",
    "A support vector is a vector that describes one data point in n-dimensional space (in our case eleven dimensional space for our ten attributes and one target variable). A support vector machine simply finds lines or in this case hyperplanes between the data points and finds the planes that do the best job of separating the data while maximimising the margin (distance between the hyperplane and the nearest data point). Although support vector machines can be converted to non-linear using different kernels we will be using the \"vanila\" implementation which finds linear hyperplanes.\n",
    "\n",
    "We would expect excellent results as the main difference between logistic regression and support vector machines is the loss function, logtistic regression uses the a logistic loss function while SVM uses a hinge function. We can use the caret package to speed up our model building and automatically train the model using cross validation with ten folds. For the svm model we will also change the cost parameter."
   ]
  },
  {
   "cell_type": "code",
   "execution_count": 53,
   "metadata": {
    "collapsed": false
   },
   "outputs": [
    {
     "data": {
      "text/plain": [
       "Support Vector Machines with Linear Kernel \n",
       "\n",
       "3000 samples\n",
       "  10 predictors\n",
       "   4 classes: '0', '1', '2', '3' \n",
       "\n",
       "Pre-processing: centered (10), scaled (10) \n",
       "Resampling: Cross-Validated (10 fold) \n",
       "Summary of sample sizes: 2699, 2700, 2700, 2701, 2700, 2701, ... \n",
       "Resampling results across tuning parameters:\n",
       "\n",
       "  C      Accuracy   Kappa      Mean_F1    Mean_Sensitivity  Mean_Specificity\n",
       "   0.75  0.9926655  0.9893654  0.9941033  0.9933262         0.9971347       \n",
       "   1.00  0.9939989  0.9912984  0.9929077  0.9923760         0.9977845       \n",
       "   1.50  0.9970022  0.9956601  0.9931669  0.9940116         0.9991072       \n",
       "   2.00  0.9973355  0.9961423  0.9939735  0.9944022         0.9991965       \n",
       "   5.00  0.9986689  0.9980758  0.9973495  0.9986087         0.9996032       \n",
       "  10.00  0.9996678  0.9995195  0.9997685  0.9997685         0.9998705       \n",
       "  Mean_Pos_Pred_Value  Mean_Neg_Pred_Value  Mean_Precision  Mean_Recall\n",
       "  0.9950402            0.9974011            0.9950402       0.9933262  \n",
       "  0.9937578            0.9979701            0.9937578       0.9923760  \n",
       "  0.9925818            0.9990768            0.9925818       0.9940116  \n",
       "  0.9937723            0.9991823            0.9937723       0.9944022  \n",
       "  0.9962479            0.9995551            0.9962479       0.9986087  \n",
       "  0.9997706            0.9998711            0.9997706       0.9997685  \n",
       "  Mean_Detection_Rate  Mean_Balanced_Accuracy\n",
       "  0.2481664            0.9952305             \n",
       "  0.2484997            0.9950803             \n",
       "  0.2492506            0.9965594             \n",
       "  0.2493339            0.9967994             \n",
       "  0.2496672            0.9991060             \n",
       "  0.2499169            0.9998195             \n",
       "\n",
       "Accuracy was used to select the optimal model using  the largest value.\n",
       "The final value used for the model was C = 10."
      ]
     },
     "metadata": {},
     "output_type": "display_data"
    }
   ],
   "source": [
    "svmGrid <- expand.grid(C = c(0.75, 1, 1.5, 2, 5, 10))\n",
    "trctrl <- trainControl(method = \"cv\", number = 10, summaryFunction = multiClassSummary)\n",
    "\n",
    "svmModel <- train(Result ~ ., data = imputedData, preProc = c(\"center\",\"scale\"), method = \"svmLinear\", trControl=trctrl, tuneGrid = svmGrid)\n",
    "svmModel\n",
    "#svmPredict <- predict(object = svmModel, newdata = imputedDataCV$testing[[1]])\n",
    "#confusionMatrix(imputedDataCV$testing[[1]]$Result, svmPredict)"
   ]
  },
  {
   "cell_type": "markdown",
   "metadata": {},
   "source": [
    "Not surprisingly our accuracy approaches 1 for SVMs, similar to what was achieved with logistic regression. It is arguable which is the simpler model, SVM or logistic regression. This study (https://www.ncbi.nlm.nih.gov/pmc/articles/PMC2612652/) suggests that medical clinicians are more familiar with logistic regression and since the models are otherwise incredibly similar in complexity, computing time and performances we will reccomend the logistic regression model."
   ]
  },
  {
   "cell_type": "markdown",
   "metadata": {},
   "source": [
    "### Gradient Boosted Machines\n",
    "Gradient boosted machines is a family of learning algorithms that use gradient boosting in order to improve their accuracy. Gradient boosting builds models consecutively, the first model make an attempt to fir the training data with a decision tree, the second model then tries to reconstruct the residual (close the gap between the prediction by the first model and the actual target value). Gradient descent is used to minimize loss when adding trees.\n",
    "\n",
    "We'll use h2o to build both our Gradient Boosted Machine classifier and later our Neural Network Classifier. h2o is a java based packaged that runs in memory and can offer significant benefits both in terms of functionality and speed. Although for the relatively small data set we have we could build the models in standard R it is a good opportunity to develop some skills in h2o.\n",
    "\n",
    "First of all let's initialize the h2o instance."
   ]
  },
  {
   "cell_type": "code",
   "execution_count": 54,
   "metadata": {
    "collapsed": false
   },
   "outputs": [
    {
     "name": "stdout",
     "output_type": "stream",
     "text": [
      " Connection successful!\n",
      "\n",
      "R is connected to the H2O cluster: \n",
      "    H2O cluster uptime:         1 hours 46 minutes \n",
      "    H2O cluster version:        3.14.0.3 \n",
      "    H2O cluster version age:    29 days  \n",
      "    H2O cluster name:           H2O_started_from_R_rstudio_ghg595 \n",
      "    H2O cluster total nodes:    1 \n",
      "    H2O cluster total memory:   11.03 GB \n",
      "    H2O cluster total cores:    8 \n",
      "    H2O cluster allowed cores:  8 \n",
      "    H2O cluster healthy:        TRUE \n",
      "    H2O Connection ip:          localhost \n",
      "    H2O Connection port:        54321 \n",
      "    H2O Connection proxy:       NA \n",
      "    H2O Internal Security:      FALSE \n",
      "    H2O API Extensions:         XGBoost, Algos, AutoML, Core V3, Core V4 \n",
      "    R Version:                  R version 3.4.1 (2017-06-30) \n",
      "\n",
      "[1] 0\n"
     ]
    }
   ],
   "source": [
    "#h2o.shutdown()\n",
    "h2o.init(nthreads=-1, min_mem_size = \"12G\")\n",
    "h2o.removeAll() ## clean slate - just in case the cluster was already running"
   ]
  },
  {
   "cell_type": "markdown",
   "metadata": {},
   "source": [
    "Now we need to import the data frame as a h2o object."
   ]
  },
  {
   "cell_type": "code",
   "execution_count": 55,
   "metadata": {
    "collapsed": false
   },
   "outputs": [
    {
     "name": "stdout",
     "output_type": "stream",
     "text": [
      "\r",
      "  |                                                                            \r",
      "  |                                                                      |   0%\r",
      "  |                                                                            \r",
      "  |======================================================================| 100%\n"
     ]
    }
   ],
   "source": [
    "imputedData.hex <- as.h2o(imputedData)"
   ]
  },
  {
   "cell_type": "markdown",
   "metadata": {},
   "source": [
    "Set the y (target) and x (predictor) variables."
   ]
  },
  {
   "cell_type": "code",
   "execution_count": 56,
   "metadata": {
    "collapsed": true
   },
   "outputs": [],
   "source": [
    "y = 'Result'\n",
    "x = names(imputedData)\n",
    "x = x[-which(x==y)]"
   ]
  },
  {
   "cell_type": "markdown",
   "metadata": {},
   "source": [
    "Let's try the gradient boosted model with the default settings and check the confusion matrix (accuracy)."
   ]
  },
  {
   "cell_type": "code",
   "execution_count": 57,
   "metadata": {
    "collapsed": false
   },
   "outputs": [
    {
     "name": "stdout",
     "output_type": "stream",
     "text": [
      "\r",
      "  |                                                                            \r",
      "  |                                                                      |   0%\r",
      "  |                                                                            \r",
      "  |====                                                                  |   6%\r",
      "  |                                                                            \r",
      "  |===========================                                           |  39%\r",
      "  |                                                                            \r",
      "  |==============================================                        |  66%\r",
      "  |                                                                            \r",
      "  |=============================================================         |  88%\r",
      "  |                                                                            \r",
      "  |======================================================================| 100%\n"
     ]
    },
    {
     "data": {
      "text/html": [
       "<table>\n",
       "<thead><tr><th></th><th scope=col>0</th><th scope=col>1</th><th scope=col>2</th><th scope=col>3</th><th scope=col>Error</th><th scope=col>Rate</th></tr></thead>\n",
       "<tbody>\n",
       "\t<tr><th scope=row>0</th><td> 943       </td><td> 138       </td><td>  1        </td><td> 0         </td><td>0.1284658  </td><td>139 / 1,082</td></tr>\n",
       "\t<tr><th scope=row>1</th><td> 130       </td><td> 880       </td><td> 69        </td><td> 1         </td><td>0.1851852  </td><td>200 / 1,080</td></tr>\n",
       "\t<tr><th scope=row>2</th><td>   0       </td><td> 227       </td><td>405        </td><td>10         </td><td>0.3691589  </td><td>237 / 642  </td></tr>\n",
       "\t<tr><th scope=row>3</th><td>   0       </td><td>   1       </td><td>137        </td><td>58         </td><td>0.7040816  </td><td>138 / 196  </td></tr>\n",
       "\t<tr><th scope=row>Totals</th><td>1073       </td><td>1246       </td><td>612        </td><td>69         </td><td>0.2380000  </td><td>714 / 3,000</td></tr>\n",
       "</tbody>\n",
       "</table>\n"
      ],
      "text/latex": [
       "\\begin{tabular}{r|llllll}\n",
       "  & 0 & 1 & 2 & 3 & Error & Rate\\\\\n",
       "\\hline\n",
       "\t0 &  943        &  138        &   1         &  0          & 0.1284658   & 139 / 1,082\\\\\n",
       "\t1 &  130        &  880        &  69         &  1          & 0.1851852   & 200 / 1,080\\\\\n",
       "\t2 &    0        &  227        & 405         & 10          & 0.3691589   & 237 / 642  \\\\\n",
       "\t3 &    0        &    1        & 137         & 58          & 0.7040816   & 138 / 196  \\\\\n",
       "\tTotals & 1073        & 1246        & 612         & 69          & 0.2380000   & 714 / 3,000\\\\\n",
       "\\end{tabular}\n"
      ],
      "text/markdown": [
       "\n",
       "| <!--/--> | 0 | 1 | 2 | 3 | Error | Rate | \n",
       "|---|---|---|---|---|\n",
       "| 0 |  943        |  138        |   1         |  0          | 0.1284658   | 139 / 1,082 | \n",
       "| 1 |  130        |  880        |  69         |  1          | 0.1851852   | 200 / 1,080 | \n",
       "| 2 |    0        |  227        | 405         | 10          | 0.3691589   | 237 / 642   | \n",
       "| 3 |    0        |    1        | 137         | 58          | 0.7040816   | 138 / 196   | \n",
       "| Totals | 1073        | 1246        | 612         | 69          | 0.2380000   | 714 / 3,000 | \n",
       "\n",
       "\n"
      ],
      "text/plain": [
       "       0    1    2   3  Error     Rate       \n",
       "0       943  138   1  0 0.1284658 139 / 1,082\n",
       "1       130  880  69  1 0.1851852 200 / 1,080\n",
       "2         0  227 405 10 0.3691589 237 / 642  \n",
       "3         0    1 137 58 0.7040816 138 / 196  \n",
       "Totals 1073 1246 612 69 0.2380000 714 / 3,000"
      ]
     },
     "metadata": {},
     "output_type": "display_data"
    }
   ],
   "source": [
    "gbmModel <- h2o.gbm(\n",
    "  ## standard model parameters\n",
    "  x = x, \n",
    "  y = y, \n",
    "  training_frame = imputedData.hex, \n",
    "  nfolds = 10)\n",
    "\n",
    "h2o.confusionMatrix(h2o.performance(gbmModel, xval = TRUE))"
   ]
  },
  {
   "cell_type": "markdown",
   "metadata": {},
   "source": [
    "It predicted 2270/3000 correct, or an approximate accuracy rate of 75%. We'll and improve it by setting up a search grid"
   ]
  },
  {
   "cell_type": "markdown",
   "metadata": {
    "collapsed": true
   },
   "source": [
    "<b>GBM Hyper Parameters</b><br>\n",
    "The hyper paramters for an algorithm allow the algorithm to be tuned to find the best results. The main ones available to us in gradient boosted machines (in the implementation in h2o) are maximum depth and number of trees. Here we will search through a max_depth grid of 4, 6, 8, 12, 16 and 20 while allowing up to 10,000 trees to be built. We will add in an early stopping condition so that adiditonal trees are only built if it is having an effect on the error rate. In this case if the misclassification rate doesn't change by 1% over ten rounds then the algorithm will stop. We'll also introduce a learning rate annealing which lowers the learning rate each after each tree."
   ]
  },
  {
   "cell_type": "code",
   "execution_count": 58,
   "metadata": {
    "collapsed": false
   },
   "outputs": [
    {
     "name": "stdout",
     "output_type": "stream",
     "text": [
      "\r",
      "  |                                                                            \r",
      "  |                                                                      |   0%\r",
      "  |                                                                            \r",
      "  |=                                                                     |   1%\r",
      "  |                                                                            \r",
      "  |============                                                          |  17%\r",
      "  |                                                                            \r",
      "  |=======================                                               |  33%\r",
      "  |                                                                            \r",
      "  |=======================                                               |  34%\r",
      "  |                                                                            \r",
      "  |========================                                              |  34%\r",
      "  |                                                                            \r",
      "  |========================                                              |  35%\r",
      "  |                                                                            \r",
      "  |===================================                                   |  50%\r",
      "  |                                                                            \r",
      "  |===================================                                   |  51%\r",
      "  |                                                                            \r",
      "  |====================================                                  |  51%\r",
      "  |                                                                            \r",
      "  |====================================                                  |  52%\r",
      "  |                                                                            \r",
      "  |===============================================                       |  67%\r",
      "  |                                                                            \r",
      "  |===============================================                       |  68%\r",
      "  |                                                                            \r",
      "  |================================================                      |  68%\r",
      "  |                                                                            \r",
      "  |==========================================================            |  83%\r",
      "  |                                                                            \r",
      "  |===========================================================           |  84%\r",
      "  |                                                                            \r",
      "  |===========================================================           |  85%\r",
      "  |                                                                            \r",
      "  |============================================================          |  85%\r",
      "  |                                                                            \r",
      "  |======================================================================| 100%\n"
     ]
    }
   ],
   "source": [
    "hyper_params = list( max_depth = c(4,6,8,12,16,20) )\n",
    "grid <- h2o.grid(\n",
    "  ## hyper parameters\n",
    "  hyper_params = hyper_params,\n",
    "  \n",
    "  ## full Cartesian hyper-parameter search\n",
    "  search_criteria = list(strategy = \"Cartesian\"),\n",
    "  \n",
    "  ## which algorithm to run\n",
    "  algorithm=\"gbm\",\n",
    "  \n",
    "  ## identifier for the grid, to later retrieve it\n",
    "  grid_id=\"depth_grid\",\n",
    "  \n",
    "  ## standard model parameters\n",
    "  x = x, \n",
    "  y = y, \n",
    "  training_frame = imputedData.hex, \n",
    "  \n",
    "  ## more trees is better if the learning rate is small enough \n",
    "  ## here, use \"more than enough\" trees - we have early stopping\n",
    "  ntrees = 10000,                                                            \n",
    "  \n",
    "  ## smaller learning rate is better\n",
    "  ## since we have learning_rate_annealing, we can afford to start with a bigger learning rate\n",
    "  learn_rate = 0.05,                                                         \n",
    "  \n",
    "  ## learning rate annealing: learning_rate shrinks by 1% after every tree \n",
    "  ## (use 1.00 to disable, but then lower the learning_rate)\n",
    "  learn_rate_annealing = 0.99,                                               \n",
    "  \n",
    "  ## fix a random number generator seed for reproducibility\n",
    "  seed = 1234,                                                             \n",
    "  \n",
    "  ## early stopping once the validation AUC doesn't improve by at least 0.01% for 5 consecutive scoring events\n",
    "  stopping_rounds = 10,\n",
    "  stopping_tolerance = 1e-2,\n",
    "  stopping_metric = \"misclassification\", \n",
    "  \n",
    "  ## score every 10 trees to make early stopping reproducible (it depends on the scoring interval)\n",
    "  score_tree_interval = 10                                                \n",
    ")"
   ]
  },
  {
   "cell_type": "markdown",
   "metadata": {},
   "source": [
    "<b>Model Performance</b><br>\n",
    "We'll sort the grid results by decreasing accuracy"
   ]
  },
  {
   "cell_type": "code",
   "execution_count": 59,
   "metadata": {
    "collapsed": false
   },
   "outputs": [
    {
     "data": {
      "text/plain": [
       "H2O Grid Details\n",
       "================\n",
       "\n",
       "Grid ID: depth_grid \n",
       "Used hyper parameters: \n",
       "  -  max_depth \n",
       "Number of models: 6 \n",
       "Number of failed models: 0 \n",
       "\n",
       "Hyper-Parameter Search Summary: ordered by decreasing accuracy\n",
       "  max_depth          model_ids           accuracy\n",
       "1        12 depth_grid_model_3                1.0\n",
       "2        20 depth_grid_model_5                1.0\n",
       "3         8 depth_grid_model_2                1.0\n",
       "4        16 depth_grid_model_4                1.0\n",
       "5         6 depth_grid_model_1 0.9983333333333333\n",
       "6         4 depth_grid_model_0              0.946"
      ]
     },
     "metadata": {},
     "output_type": "display_data"
    }
   ],
   "source": [
    "sortedGrid <- h2o.getGrid(\"depth_grid\", sort_by=\"accuracy\", decreasing = TRUE)    \n",
    "sortedGrid"
   ]
  },
  {
   "cell_type": "markdown",
   "metadata": {},
   "source": [
    "Let's look at the error rate of the best model."
   ]
  },
  {
   "cell_type": "code",
   "execution_count": 60,
   "metadata": {
    "collapsed": false
   },
   "outputs": [
    {
     "data": {
      "text/html": [
       "1"
      ],
      "text/latex": [
       "1"
      ],
      "text/markdown": [
       "1"
      ],
      "text/plain": [
       "[1] 1"
      ]
     },
     "metadata": {},
     "output_type": "display_data"
    }
   ],
   "source": [
    "gbmModel <- h2o.getModel(sortedGrid@model_ids[[1]])\n",
    "as.numeric(sortedGrid@summary_table$accuracy[1])"
   ]
  },
  {
   "cell_type": "markdown",
   "metadata": {},
   "source": [
    "Just like our other models we have achieved 100% accuracy. A gbm model is significantly more complex than either the logistic regression or the SVM models already built, for linearly separable problems this algorithm is \"over the top\" in terms of power and fleixbility."
   ]
  },
  {
   "cell_type": "markdown",
   "metadata": {},
   "source": [
    "<b>Neural Network</b><br>\n",
    "Neural networks mimic the way the brain works. Neural networks are made up of connected layers of neurons, the processing or decision making is largely dependent on the weights of the connections. Once again we'll use the h2o package to build the classifier.\n",
    "\n",
    "Let's try and build a small network with mainly default settings, we'll limit the hidden layers to two layers with five neurons each, a rather small network really."
   ]
  },
  {
   "cell_type": "code",
   "execution_count": 61,
   "metadata": {
    "collapsed": false
   },
   "outputs": [
    {
     "name": "stdout",
     "output_type": "stream",
     "text": [
      "\r",
      "  |                                                                            \r",
      "  |                                                                      |   0%\r",
      "  |                                                                            \r",
      "  |===                                                                   |   5%\r",
      "  |                                                                            \r",
      "  |=======                                                               |  10%\r",
      "  |                                                                            \r",
      "  |==========                                                            |  15%\r",
      "  |                                                                            \r",
      "  |==============                                                        |  20%\r",
      "  |                                                                            \r",
      "  |=================                                                     |  25%\r",
      "  |                                                                            \r",
      "  |=====================                                                 |  29%\r",
      "  |                                                                            \r",
      "  |========================                                              |  34%\r",
      "  |                                                                            \r",
      "  |============================                                          |  39%\r",
      "  |                                                                            \r",
      "  |===============================                                       |  45%\r",
      "  |                                                                            \r",
      "  |==================================                                    |  49%\r",
      "  |                                                                            \r",
      "  |======================================                                |  54%\r",
      "  |                                                                            \r",
      "  |=========================================                             |  59%\r",
      "  |                                                                            \r",
      "  |=============================================                         |  64%\r",
      "  |                                                                            \r",
      "  |================================================                      |  69%\r",
      "  |                                                                            \r",
      "  |====================================================                  |  74%\r",
      "  |                                                                            \r",
      "  |======================================================================| 100%\n"
     ]
    }
   ],
   "source": [
    "nnModel <- h2o.deeplearning(\n",
    "  x = x,\n",
    "  y = y,\n",
    "  training_frame = imputedData.hex, \n",
    "  hidden = c(5,5),       ## default: 2 hidden layers with 200 neurons each\n",
    "  epochs = 1000,\n",
    "  nfolds = 10\n",
    ")"
   ]
  },
  {
   "cell_type": "markdown",
   "metadata": {
    "collapsed": true
   },
   "source": [
    "<b>Model Performance</b><br>"
   ]
  },
  {
   "cell_type": "code",
   "execution_count": 62,
   "metadata": {
    "collapsed": false
   },
   "outputs": [
    {
     "data": {
      "text/html": [
       "0.99797547"
      ],
      "text/latex": [
       "0.99797547"
      ],
      "text/markdown": [
       "0.99797547"
      ],
      "text/plain": [
       "[1] 0.9979755"
      ]
     },
     "metadata": {},
     "output_type": "display_data"
    }
   ],
   "source": [
    "as.numeric(nnModel@model$cross_validation_metrics_summary[1,'mean'])"
   ]
  },
  {
   "cell_type": "markdown",
   "metadata": {
    "collapsed": true
   },
   "source": [
    "Even a fairly basic neural netowrk does an excellenr job of classifying the data. This is not surprising, neural networks are very flexible and this one only has to manage to separate linearly separable data, something nearual networks can easily achieve. Again even though this model performs well it is much more complex than models that perform equally well and for that reason will not be reccomended as the final model."
   ]
  },
  {
   "cell_type": "markdown",
   "metadata": {},
   "source": [
    "## Conclusion and Final Model\n",
    "As previously mentioned the logistic regression classification model is one of the simplest models available for linear classification and also one that medical clinicians are most familiar with. We'll build our final model using  logisitic regression using all of the available training data for use in classifying future data sets."
   ]
  },
  {
   "cell_type": "code",
   "execution_count": 63,
   "metadata": {
    "collapsed": true
   },
   "outputs": [],
   "source": [
    "# build a matrix out of all the imputed data\n",
    "train <- imputedData\n",
    "train.data = train[, -which(names(imputedData)  == 'Result')]\n",
    "train.label = train[, 'Result']\n",
    "train_x <- as.matrix(train.data)\n",
    "train_y <- train.label"
   ]
  },
  {
   "cell_type": "code",
   "execution_count": 64,
   "metadata": {
    "collapsed": false
   },
   "outputs": [
    {
     "data": {
      "image/png": "[encoded data removed]",
      "text/plain": [
       "plot without title"
      ]
     },
     "metadata": {},
     "output_type": "display_data"
    }
   ],
   "source": [
    "# find the best cv value and plot the misclassification vs log(lamda) rate\n",
    "options(warn=-1)\n",
    "finalModel <- cv.glmnet(train_x, train_y, family='multinomial', alpha=1, parallel=TRUE, standardize=TRUE, type.measure='class')\n",
    "plot(finalModel)"
   ]
  },
  {
   "cell_type": "markdown",
   "metadata": {},
   "source": [
    "From the log(lambda) vs misclassification error plot we can expect excellet results from our finalModel."
   ]
  },
  {
   "cell_type": "code",
   "execution_count": 65,
   "metadata": {
    "collapsed": false
   },
   "outputs": [
    {
     "data": {
      "text/plain": [
       "$lambda\n",
       " [1] 1.507027e-01 1.373147e-01 1.251161e-01 1.140011e-01 1.038736e-01\n",
       " [6] 9.464571e-02 8.623765e-02 7.857653e-02 7.159601e-02 6.523562e-02\n",
       "[11] 5.944027e-02 5.415976e-02 4.934835e-02 4.496438e-02 4.096987e-02\n",
       "[16] 3.733022e-02 3.401391e-02 3.099220e-02 2.823894e-02 2.573027e-02\n",
       "[21] 2.344447e-02 2.136172e-02 1.946401e-02 1.773488e-02 1.615936e-02\n",
       "[26] 1.472381e-02 1.341579e-02 1.222396e-02 1.113802e-02 1.014855e-02\n",
       "[31] 9.246980e-03 8.425504e-03 7.677005e-03 6.995001e-03 6.373585e-03\n",
       "[36] 5.807373e-03 5.291462e-03 4.821383e-03 4.393065e-03 4.002797e-03\n",
       "[41] 3.647200e-03 3.323192e-03 3.027969e-03 2.758973e-03 2.513873e-03\n",
       "[46] 2.290548e-03 2.087062e-03 1.901653e-03 1.732715e-03 1.578786e-03\n",
       "[51] 1.438531e-03 1.310736e-03 1.194293e-03 1.088196e-03 9.915234e-04\n",
       "[56] 9.034392e-04 8.231801e-04 7.500511e-04 6.834186e-04 6.227056e-04\n",
       "[61] 5.673861e-04 5.169811e-04 4.710539e-04 4.292068e-04 3.910773e-04\n",
       "[66] 3.563350e-04 3.246792e-04 2.958356e-04 2.695544e-04 2.456079e-04\n",
       "[71] 2.237888e-04 2.039080e-04 1.857934e-04 1.692880e-04 1.542489e-04\n",
       "[76] 1.405459e-04 1.280602e-04 1.166837e-04 1.063178e-04 9.687282e-05\n",
       "[81] 8.826691e-05 8.042552e-05 7.328074e-05 6.677068e-05 6.083896e-05\n",
       "[86] 5.543419e-05 5.050957e-05 4.602244e-05 4.193393e-05 3.820864e-05\n",
       "[91] 3.481429e-05 3.172148e-05 2.890343e-05\n",
       "\n",
       "$cvm\n",
       " [1] 0.6070000000 0.4960000000 0.4483333333 0.4263333333 0.4093333333\n",
       " [6] 0.4013333333 0.3960000000 0.3896666667 0.3853333333 0.3766666667\n",
       "[11] 0.3700000000 0.3663333333 0.3593333333 0.3523333333 0.3440000000\n",
       "[16] 0.3300000000 0.3113333333 0.2913333333 0.2733333333 0.2516666667\n",
       "[21] 0.2300000000 0.2086666667 0.1833333333 0.1596666667 0.1466666667\n",
       "[26] 0.1313333333 0.1176666667 0.1080000000 0.0963333333 0.0850000000\n",
       "[31] 0.0753333333 0.0676666667 0.0600000000 0.0536666667 0.0470000000\n",
       "[36] 0.0430000000 0.0366666667 0.0333333333 0.0313333333 0.0290000000\n",
       "[41] 0.0273333333 0.0236666667 0.0223333333 0.0206666667 0.0186666667\n",
       "[46] 0.0166666667 0.0150000000 0.0133333333 0.0123333333 0.0103333333\n",
       "[51] 0.0086666667 0.0076666667 0.0060000000 0.0053333333 0.0053333333\n",
       "[56] 0.0050000000 0.0040000000 0.0036666667 0.0030000000 0.0030000000\n",
       "[61] 0.0030000000 0.0026666667 0.0023333333 0.0023333333 0.0020000000\n",
       "[66] 0.0020000000 0.0016666667 0.0016666667 0.0016666667 0.0016666667\n",
       "[71] 0.0013333333 0.0013333333 0.0013333333 0.0013333333 0.0013333333\n",
       "[76] 0.0010000000 0.0010000000 0.0010000000 0.0010000000 0.0010000000\n",
       "[81] 0.0010000000 0.0006666667 0.0006666667 0.0003333333 0.0003333333\n",
       "[86] 0.0003333333 0.0003333333 0.0003333333 0.0003333333 0.0003333333\n",
       "[91] 0.0003333333 0.0003333333 0.0003333333\n",
       "\n",
       "$cvsd\n",
       " [1] 0.0267103808 0.0156961897 0.0151311142 0.0144824287 0.0134421486\n",
       " [6] 0.0132516013 0.0131073441 0.0122368599 0.0122040269 0.0117062819\n",
       "[11] 0.0112436539 0.0106857468 0.0109859619 0.0115261378 0.0118613388\n",
       "[16] 0.0116746005 0.0097777778 0.0087939373 0.0097499604 0.0094182644\n",
       "[21] 0.0085056263 0.0084356680 0.0078252519 0.0069823410 0.0064021601\n",
       "[26] 0.0046930471 0.0038184090 0.0050965978 0.0044569269 0.0036599265\n",
       "[31] 0.0043090488 0.0046094374 0.0048939368 0.0049553562 0.0050540291\n",
       "[36] 0.0046201384 0.0046613727 0.0038490018 0.0037581188 0.0034444444\n",
       "[41] 0.0034354722 0.0032754229 0.0031836775 0.0025724082 0.0025915342\n",
       "[46] 0.0024845200 0.0024969117 0.0021659543 0.0021688024 0.0014444444\n",
       "[51] 0.0017356110 0.0017950549 0.0013877773 0.0011331154 0.0011331154\n",
       "[56] 0.0010243938 0.0011967033 0.0011600341 0.0010482201 0.0010482201\n",
       "[61] 0.0010482201 0.0010886621 0.0010000000 0.0010000000 0.0008888889\n",
       "[66] 0.0008888889 0.0007453560 0.0007453560 0.0007453560 0.0007453560\n",
       "[71] 0.0007370277 0.0007370277 0.0007370277 0.0007370277 0.0007370277\n",
       "[76] 0.0007114582 0.0007114582 0.0007114582 0.0007114582 0.0007114582\n",
       "[81] 0.0007114582 0.0004444444 0.0004444444 0.0003333333 0.0003333333\n",
       "[86] 0.0003333333 0.0003333333 0.0003333333 0.0003333333 0.0003333333\n",
       "[91] 0.0003333333 0.0003333333 0.0003333333\n",
       "\n",
       "$cvup\n",
       " [1] 0.6337103808 0.5116961897 0.4634644475 0.4408157620 0.4227754819\n",
       " [6] 0.4145849347 0.4091073441 0.4019035266 0.3975373602 0.3883729486\n",
       "[11] 0.3812436539 0.3770190802 0.3703192952 0.3638594711 0.3558613388\n",
       "[16] 0.3416746005 0.3211111111 0.3001272706 0.2830832938 0.2610849310\n",
       "[21] 0.2385056263 0.2171023346 0.1911585853 0.1666490077 0.1530688268\n",
       "[26] 0.1360263805 0.1214850756 0.1130965978 0.1007902602 0.0886599265\n",
       "[31] 0.0796423821 0.0722761041 0.0648939368 0.0586220229 0.0520540291\n",
       "[36] 0.0476201384 0.0413280393 0.0371823351 0.0350914521 0.0324444444\n",
       "[41] 0.0307688055 0.0269420895 0.0255170108 0.0232390749 0.0212582008\n",
       "[46] 0.0191511866 0.0174969117 0.0154992876 0.0145021357 0.0117777778\n",
       "[51] 0.0104022777 0.0094617216 0.0073877773 0.0064664488 0.0064664488\n",
       "[56] 0.0060243938 0.0051967033 0.0048267007 0.0040482201 0.0040482201\n",
       "[61] 0.0040482201 0.0037553288 0.0033333333 0.0033333333 0.0028888889\n",
       "[66] 0.0028888889 0.0024120227 0.0024120227 0.0024120227 0.0024120227\n",
       "[71] 0.0020703611 0.0020703611 0.0020703611 0.0020703611 0.0020703611\n",
       "[76] 0.0017114582 0.0017114582 0.0017114582 0.0017114582 0.0017114582\n",
       "[81] 0.0017114582 0.0011111111 0.0011111111 0.0006666667 0.0006666667\n",
       "[86] 0.0006666667 0.0006666667 0.0006666667 0.0006666667 0.0006666667\n",
       "[91] 0.0006666667 0.0006666667 0.0006666667\n",
       "\n",
       "$cvlo\n",
       " [1] 0.5802896192 0.4803038103 0.4332022191 0.4118509046 0.3958911848\n",
       " [6] 0.3880817320 0.3828926559 0.3774298067 0.3731293065 0.3649603847\n",
       "[11] 0.3587563461 0.3556475865 0.3483473715 0.3408071956 0.3321386612\n",
       "[16] 0.3183253995 0.3015555556 0.2825393960 0.2635833729 0.2422484023\n",
       "[21] 0.2214943737 0.2002309987 0.1755080814 0.1526843256 0.1402645065\n",
       "[26] 0.1266402862 0.1138482577 0.1029034022 0.0918764064 0.0813400735\n",
       "[31] 0.0710242846 0.0630572292 0.0551060632 0.0487113104 0.0419459709\n",
       "[36] 0.0383798616 0.0320052940 0.0294843315 0.0275752145 0.0255555556\n",
       "[41] 0.0238978611 0.0203912438 0.0191496558 0.0180942585 0.0160751325\n",
       "[46] 0.0141821467 0.0125030883 0.0111673790 0.0101645310 0.0088888889\n",
       "[51] 0.0069310556 0.0058716117 0.0046122227 0.0042002179 0.0042002179\n",
       "[56] 0.0039756062 0.0028032967 0.0025066326 0.0019517799 0.0019517799\n",
       "[61] 0.0019517799 0.0015780046 0.0013333333 0.0013333333 0.0011111111\n",
       "[66] 0.0011111111 0.0009213107 0.0009213107 0.0009213107 0.0009213107\n",
       "[71] 0.0005963056 0.0005963056 0.0005963056 0.0005963056 0.0005963056\n",
       "[76] 0.0002885418 0.0002885418 0.0002885418 0.0002885418 0.0002885418\n",
       "[81] 0.0002885418 0.0002222222 0.0002222222 0.0000000000 0.0000000000\n",
       "[86] 0.0000000000 0.0000000000 0.0000000000 0.0000000000 0.0000000000\n",
       "[91] 0.0000000000 0.0000000000 0.0000000000\n",
       "\n",
       "$nzero\n",
       " s0  s1  s2  s3  s4  s5  s6  s7  s8  s9 s10 s11 s12 s13 s14 s15 s16 s17 s18 s19 \n",
       "  0   0   0   0   0   0   0   0   1   1   2   3   3   4   6   8   9  10  10  10 \n",
       "s20 s21 s22 s23 s24 s25 s26 s27 s28 s29 s30 s31 s32 s33 s34 s35 s36 s37 s38 s39 \n",
       " 10  10  10  10  10  10  10  10  10  10  10  10  10  10  10  10  10  10  10  10 \n",
       "s40 s41 s42 s43 s44 s45 s46 s47 s48 s49 s50 s51 s52 s53 s54 s55 s56 s57 s58 s59 \n",
       " 10  10  10  10  10  10  10  10  10  10  10  10  10  10  10  10  10  10  10  10 \n",
       "s60 s61 s62 s63 s64 s65 s66 s67 s68 s69 s70 s71 s72 s73 s74 s75 s76 s77 s78 s79 \n",
       " 10  10  10  10  10  10  10  10  10  10  10  10  10  10  10  10  10  10  10  10 \n",
       "s80 s81 s82 s83 s84 s85 s86 s87 s88 s89 s90 s91 s92 \n",
       " 10  10  10  10  10  10  10  10  10  10  10  10  10 \n",
       "\n",
       "$name\n",
       "                    class \n",
       "\"Misclassification Error\" \n",
       "\n",
       "$glmnet.fit\n",
       "\n",
       "Call:  glmnet(x = train_x, y = train_y, parallel = TRUE, family = \"multinomial\",      alpha = 1, standardize = TRUE) \n",
       "\n",
       "      Df       %Dev    Lambda\n",
       " [1,]  0 -1.999e-14 1.507e-01\n",
       " [2,]  7  2.576e-02 1.373e-01\n",
       " [3,] 10  6.072e-02 1.251e-01\n",
       " [4,] 10  9.406e-02 1.140e-01\n",
       " [5,] 10  1.233e-01 1.039e-01\n",
       " [6,] 10  1.494e-01 9.465e-02\n",
       " [7,] 10  1.729e-01 8.624e-02\n",
       " [8,] 10  1.942e-01 7.858e-02\n",
       " [9,] 10  2.150e-01 7.160e-02\n",
       "[10,] 10  2.339e-01 6.524e-02\n",
       "[11,] 10  2.516e-01 5.944e-02\n",
       "[12,] 10  2.699e-01 5.416e-02\n",
       "[13,] 10  2.870e-01 4.935e-02\n",
       "[14,] 10  3.047e-01 4.496e-02\n",
       "[15,] 10  3.249e-01 4.097e-02\n",
       "[16,] 10  3.507e-01 3.733e-02\n",
       "[17,] 10  3.782e-01 3.401e-02\n",
       "[18,] 10  4.074e-01 3.099e-02\n",
       "[19,] 10  4.359e-01 2.824e-02\n",
       "[20,] 10  4.627e-01 2.573e-02\n",
       "[21,] 10  4.883e-01 2.344e-02\n",
       "[22,] 10  5.126e-01 2.136e-02\n",
       "[23,] 10  5.359e-01 1.946e-02\n",
       "[24,] 10  5.582e-01 1.773e-02\n",
       "[25,] 10  5.796e-01 1.616e-02\n",
       "[26,] 10  6.002e-01 1.472e-02\n",
       "[27,] 10  6.199e-01 1.342e-02\n",
       "[28,] 10  6.389e-01 1.222e-02\n",
       "[29,] 10  6.572e-01 1.114e-02\n",
       "[30,] 10  6.746e-01 1.015e-02\n",
       "[31,] 10  6.912e-01 9.247e-03\n",
       "[32,] 10  7.071e-01 8.426e-03\n",
       "[33,] 10  7.223e-01 7.677e-03\n",
       "[34,] 10  7.368e-01 6.995e-03\n",
       "[35,] 10  7.506e-01 6.374e-03\n",
       "[36,] 10  7.636e-01 5.807e-03\n",
       "[37,] 10  7.759e-01 5.291e-03\n",
       "[38,] 10  7.876e-01 4.821e-03\n",
       "[39,] 10  7.986e-01 4.393e-03\n",
       "[40,] 10  8.091e-01 4.003e-03\n",
       "[41,] 10  8.190e-01 3.647e-03\n",
       "[42,] 10  8.283e-01 3.323e-03\n",
       "[43,] 10  8.370e-01 3.028e-03\n",
       "[44,] 10  8.453e-01 2.759e-03\n",
       "[45,] 10  8.532e-01 2.514e-03\n",
       "[46,] 10  8.606e-01 2.291e-03\n",
       "[47,] 10  8.676e-01 2.087e-03\n",
       "[48,] 10  8.743e-01 1.902e-03\n",
       "[49,] 10  8.806e-01 1.733e-03\n",
       "[50,] 10  8.866e-01 1.579e-03\n",
       "[51,] 10  8.923e-01 1.439e-03\n",
       "[52,] 10  8.977e-01 1.311e-03\n",
       "[53,] 10  9.028e-01 1.194e-03\n",
       "[54,] 10  9.077e-01 1.088e-03\n",
       "[55,] 10  9.124e-01 9.915e-04\n",
       "[56,] 10  9.169e-01 9.034e-04\n",
       "[57,] 10  9.212e-01 8.232e-04\n",
       "[58,] 10  9.252e-01 7.501e-04\n",
       "[59,] 10  9.291e-01 6.834e-04\n",
       "[60,] 10  9.328e-01 6.227e-04\n",
       "[61,] 10  9.364e-01 5.674e-04\n",
       "[62,] 10  9.398e-01 5.170e-04\n",
       "[63,] 10  9.431e-01 4.711e-04\n",
       "[64,] 10  9.463e-01 4.292e-04\n",
       "[65,] 10  9.493e-01 3.911e-04\n",
       "[66,] 10  9.522e-01 3.563e-04\n",
       "[67,] 10  9.550e-01 3.247e-04\n",
       "[68,] 10  9.576e-01 2.958e-04\n",
       "[69,] 10  9.602e-01 2.696e-04\n",
       "[70,] 10  9.626e-01 2.456e-04\n",
       "[71,] 10  9.649e-01 2.238e-04\n",
       "[72,] 10  9.672e-01 2.039e-04\n",
       "[73,] 10  9.693e-01 1.858e-04\n",
       "[74,] 10  9.713e-01 1.693e-04\n",
       "[75,] 10  9.732e-01 1.542e-04\n",
       "[76,] 10  9.750e-01 1.405e-04\n",
       "[77,] 10  9.768e-01 1.281e-04\n",
       "[78,] 10  9.784e-01 1.167e-04\n",
       "[79,] 10  9.799e-01 1.063e-04\n",
       "[80,] 10  9.814e-01 9.687e-05\n",
       "[81,] 10  9.827e-01 8.827e-05\n",
       "[82,] 10  9.840e-01 8.043e-05\n",
       "[83,] 10  9.852e-01 7.328e-05\n",
       "[84,] 10  9.863e-01 6.677e-05\n",
       "[85,] 10  9.874e-01 6.084e-05\n",
       "[86,] 10  9.883e-01 5.543e-05\n",
       "[87,] 10  9.892e-01 5.051e-05\n",
       "[88,] 10  9.900e-01 4.602e-05\n",
       "[89,] 10  9.908e-01 4.193e-05\n",
       "[90,] 10  9.915e-01 3.821e-05\n",
       "[91,] 10  9.921e-01 3.481e-05\n",
       "[92,] 10  9.927e-01 3.172e-05\n",
       "[93,] 10  9.933e-01 2.890e-05\n",
       "[94,] 10  9.938e-01 2.634e-05\n",
       "[95,] 10  9.943e-01 2.400e-05\n",
       "\n",
       "$lambda.min\n",
       "[1] 6.677068e-05\n",
       "\n",
       "$lambda.1se\n",
       "[1] 8.042552e-05\n",
       "\n",
       "attr(,\"class\")\n",
       "[1] \"cv.glmnet\""
      ]
     },
     "metadata": {},
     "output_type": "display_data"
    }
   ],
   "source": [
    "finalModel"
   ]
  },
  {
   "cell_type": "code",
   "execution_count": 66,
   "metadata": {
    "collapsed": true
   },
   "outputs": [],
   "source": [
    "# for predictions provide data frame of predictors\n",
    "#test.data <- \n",
    "#predictorMatrix <- as.matrix(test.data)\n",
    "#finalModel.Predictions <- predict(finalModel, s = finalModel$lambda.min, predictorMatrix, type='class')"
   ]
  },
  {
   "cell_type": "code",
   "execution_count": null,
   "metadata": {
    "collapsed": true
   },
   "outputs": [],
   "source": []
  },
  {
   "cell_type": "code",
   "execution_count": null,
   "metadata": {
    "collapsed": true
   },
   "outputs": [],
   "source": []
  },
  {
   "cell_type": "markdown",
   "metadata": {},
   "source": [
    "### References\n",
    "http://web.maths.unsw.edu.au/~dwarton/missingDataLab.html <br>\n",
    "https://machinelearningmastery.com/linear-discriminant-analysis-for-machine-learning/ <br>\n",
    "http://sebastianraschka.com/Articles/2014_python_lda.html <br>\n",
    "https://rstudio-pubs-static.s3.amazonaws.com/35817_2552e05f1d4e4db8ba87b334101a43da.html <br>\n",
    "https://blog.h2o.ai/2016/06/h2o-gbm-tuning-tutorial-for-r/ <br>\n",
    "https://www.analyticsvidhya.com/blog/2017/09/understaing-support-vector-machine-example-code/ <br>\n",
    "https://www.ncbi.nlm.nih.gov/pmc/articles/PMC2612652/ <br>\n",
    "http://blog.kaggle.com/2017/01/23/a-kaggle-master-explains-gradient-boosting/ <br>\n",
    "https://en.wikipedia.org/wiki/Artificial_neural_network <br>\n",
    "http://pages.cs.wisc.edu/~bolo/shipyard/neural/local.html <br>"
   ]
  }
 ],
 "metadata": {
  "kernelspec": {
   "display_name": "R",
   "language": "R",
   "name": "ir"
  },
  "language_info": {
   "codemirror_mode": "r",
   "file_extension": ".r",
   "mimetype": "text/x-r-source",
   "name": "R",
   "pygments_lexer": "r",
   "version": "3.3.1"
  }
 },
 "nbformat": 4,
 "nbformat_minor": 2
}
